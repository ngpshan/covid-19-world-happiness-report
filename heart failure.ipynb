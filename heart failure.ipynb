{
 "metadata": {
  "language_info": {
   "codemirror_mode": {
    "name": "ipython",
    "version": 3
   },
   "file_extension": ".py",
   "mimetype": "text/x-python",
   "name": "python",
   "nbconvert_exporter": "python",
   "pygments_lexer": "ipython3",
   "version": "3.8.6-candidate"
  },
  "orig_nbformat": 2,
  "kernelspec": {
   "name": "Python 3.8.6 64-bit",
   "display_name": "Python 3.8.6 64-bit",
   "metadata": {
    "interpreter": {
     "hash": "23a0b241a33537883b39067dbbeaffacf56379d0e0386bed5fb7b1dd24f284a0"
    }
   }
  }
 },
 "nbformat": 4,
 "nbformat_minor": 2,
 "cells": [
  {
   "cell_type": "code",
   "execution_count": 1,
   "metadata": {},
   "outputs": [],
   "source": [
    "import pandas as pd\n",
    "import numpy as np\n",
    "#import seaborn as sns\n",
    "#import matplotlib.pyplot as plt\n",
    "import plotly.express as px\n",
    "import plotly.graph_objs as go\n",
    "import plotly.figure_factory as ff"
   ]
  },
  {
   "cell_type": "code",
   "execution_count": 2,
   "metadata": {},
   "outputs": [
    {
     "output_type": "execute_result",
     "data": {
      "text/plain": [
       "    age  anaemia  creatinine_phosphokinase  diabetes  ejection_fraction  \\\n",
       "0  75.0        0                       582         0                 20   \n",
       "1  55.0        0                      7861         0                 38   \n",
       "2  65.0        0                       146         0                 20   \n",
       "3  50.0        1                       111         0                 20   \n",
       "4  65.0        1                       160         1                 20   \n",
       "\n",
       "   high_blood_pressure  platelets  serum_creatinine  serum_sodium  sex  \\\n",
       "0                    1  265000.00               1.9           130    1   \n",
       "1                    0  263358.03               1.1           136    1   \n",
       "2                    0  162000.00               1.3           129    1   \n",
       "3                    0  210000.00               1.9           137    1   \n",
       "4                    0  327000.00               2.7           116    0   \n",
       "\n",
       "   smoking  time  DEATH_EVENT  \n",
       "0        0     4            1  \n",
       "1        0     6            1  \n",
       "2        1     7            1  \n",
       "3        0     7            1  \n",
       "4        0     8            1  "
      ],
      "text/html": "<div>\n<style scoped>\n    .dataframe tbody tr th:only-of-type {\n        vertical-align: middle;\n    }\n\n    .dataframe tbody tr th {\n        vertical-align: top;\n    }\n\n    .dataframe thead th {\n        text-align: right;\n    }\n</style>\n<table border=\"1\" class=\"dataframe\">\n  <thead>\n    <tr style=\"text-align: right;\">\n      <th></th>\n      <th>age</th>\n      <th>anaemia</th>\n      <th>creatinine_phosphokinase</th>\n      <th>diabetes</th>\n      <th>ejection_fraction</th>\n      <th>high_blood_pressure</th>\n      <th>platelets</th>\n      <th>serum_creatinine</th>\n      <th>serum_sodium</th>\n      <th>sex</th>\n      <th>smoking</th>\n      <th>time</th>\n      <th>DEATH_EVENT</th>\n    </tr>\n  </thead>\n  <tbody>\n    <tr>\n      <th>0</th>\n      <td>75.0</td>\n      <td>0</td>\n      <td>582</td>\n      <td>0</td>\n      <td>20</td>\n      <td>1</td>\n      <td>265000.00</td>\n      <td>1.9</td>\n      <td>130</td>\n      <td>1</td>\n      <td>0</td>\n      <td>4</td>\n      <td>1</td>\n    </tr>\n    <tr>\n      <th>1</th>\n      <td>55.0</td>\n      <td>0</td>\n      <td>7861</td>\n      <td>0</td>\n      <td>38</td>\n      <td>0</td>\n      <td>263358.03</td>\n      <td>1.1</td>\n      <td>136</td>\n      <td>1</td>\n      <td>0</td>\n      <td>6</td>\n      <td>1</td>\n    </tr>\n    <tr>\n      <th>2</th>\n      <td>65.0</td>\n      <td>0</td>\n      <td>146</td>\n      <td>0</td>\n      <td>20</td>\n      <td>0</td>\n      <td>162000.00</td>\n      <td>1.3</td>\n      <td>129</td>\n      <td>1</td>\n      <td>1</td>\n      <td>7</td>\n      <td>1</td>\n    </tr>\n    <tr>\n      <th>3</th>\n      <td>50.0</td>\n      <td>1</td>\n      <td>111</td>\n      <td>0</td>\n      <td>20</td>\n      <td>0</td>\n      <td>210000.00</td>\n      <td>1.9</td>\n      <td>137</td>\n      <td>1</td>\n      <td>0</td>\n      <td>7</td>\n      <td>1</td>\n    </tr>\n    <tr>\n      <th>4</th>\n      <td>65.0</td>\n      <td>1</td>\n      <td>160</td>\n      <td>1</td>\n      <td>20</td>\n      <td>0</td>\n      <td>327000.00</td>\n      <td>2.7</td>\n      <td>116</td>\n      <td>0</td>\n      <td>0</td>\n      <td>8</td>\n      <td>1</td>\n    </tr>\n  </tbody>\n</table>\n</div>"
     },
     "metadata": {},
     "execution_count": 2
    }
   ],
   "source": [
    "df = pd.read_csv('heart_failure_clinical_records_dataset.csv')\n",
    "df.head()"
   ]
  },
  {
   "cell_type": "code",
   "execution_count": 3,
   "metadata": {},
   "outputs": [
    {
     "output_type": "execute_result",
     "data": {
      "text/plain": [
       "age                         0\n",
       "anaemia                     0\n",
       "creatinine_phosphokinase    0\n",
       "diabetes                    0\n",
       "ejection_fraction           0\n",
       "high_blood_pressure         0\n",
       "platelets                   0\n",
       "serum_creatinine            0\n",
       "serum_sodium                0\n",
       "sex                         0\n",
       "smoking                     0\n",
       "time                        0\n",
       "DEATH_EVENT                 0\n",
       "dtype: int64"
      ]
     },
     "metadata": {},
     "execution_count": 3
    }
   ],
   "source": [
    "df.isnull().sum()"
   ]
  },
  {
   "source": [
    "* Sex - Gender of patient Male = 1, Female =0\n",
    "* Age - Age of patient\n",
    "* Diabetes - 0 = No, 1 = Yes\n",
    "* Anaemia - 0 = No, 1 = Yes\n",
    "* High_blood_pressure - 0 = No, 1 = Yes\n",
    "* Smoking - 0 = No, 1 = Yes\n",
    "* DEATH_EVENT - 0 = No, 1 = Yes"
   ],
   "cell_type": "markdown",
   "metadata": {}
  },
  {
   "cell_type": "code",
   "execution_count": 4,
   "metadata": {},
   "outputs": [
    {
     "output_type": "execute_result",
     "data": {
      "text/plain": [
       "              age     anaemia  creatinine_phosphokinase    diabetes  \\\n",
       "count  299.000000  299.000000                299.000000  299.000000   \n",
       "mean    60.833893    0.431438                581.839465    0.418060   \n",
       "std     11.894809    0.496107                970.287881    0.494067   \n",
       "min     40.000000    0.000000                 23.000000    0.000000   \n",
       "25%     51.000000    0.000000                116.500000    0.000000   \n",
       "50%     60.000000    0.000000                250.000000    0.000000   \n",
       "75%     70.000000    1.000000                582.000000    1.000000   \n",
       "max     95.000000    1.000000               7861.000000    1.000000   \n",
       "\n",
       "       ejection_fraction  high_blood_pressure      platelets  \\\n",
       "count         299.000000           299.000000     299.000000   \n",
       "mean           38.083612             0.351171  263358.029264   \n",
       "std            11.834841             0.478136   97804.236869   \n",
       "min            14.000000             0.000000   25100.000000   \n",
       "25%            30.000000             0.000000  212500.000000   \n",
       "50%            38.000000             0.000000  262000.000000   \n",
       "75%            45.000000             1.000000  303500.000000   \n",
       "max            80.000000             1.000000  850000.000000   \n",
       "\n",
       "       serum_creatinine  serum_sodium         sex    smoking        time  \\\n",
       "count         299.00000    299.000000  299.000000  299.00000  299.000000   \n",
       "mean            1.39388    136.625418    0.648829    0.32107  130.260870   \n",
       "std             1.03451      4.412477    0.478136    0.46767   77.614208   \n",
       "min             0.50000    113.000000    0.000000    0.00000    4.000000   \n",
       "25%             0.90000    134.000000    0.000000    0.00000   73.000000   \n",
       "50%             1.10000    137.000000    1.000000    0.00000  115.000000   \n",
       "75%             1.40000    140.000000    1.000000    1.00000  203.000000   \n",
       "max             9.40000    148.000000    1.000000    1.00000  285.000000   \n",
       "\n",
       "       DEATH_EVENT  \n",
       "count    299.00000  \n",
       "mean       0.32107  \n",
       "std        0.46767  \n",
       "min        0.00000  \n",
       "25%        0.00000  \n",
       "50%        0.00000  \n",
       "75%        1.00000  \n",
       "max        1.00000  "
      ],
      "text/html": "<div>\n<style scoped>\n    .dataframe tbody tr th:only-of-type {\n        vertical-align: middle;\n    }\n\n    .dataframe tbody tr th {\n        vertical-align: top;\n    }\n\n    .dataframe thead th {\n        text-align: right;\n    }\n</style>\n<table border=\"1\" class=\"dataframe\">\n  <thead>\n    <tr style=\"text-align: right;\">\n      <th></th>\n      <th>age</th>\n      <th>anaemia</th>\n      <th>creatinine_phosphokinase</th>\n      <th>diabetes</th>\n      <th>ejection_fraction</th>\n      <th>high_blood_pressure</th>\n      <th>platelets</th>\n      <th>serum_creatinine</th>\n      <th>serum_sodium</th>\n      <th>sex</th>\n      <th>smoking</th>\n      <th>time</th>\n      <th>DEATH_EVENT</th>\n    </tr>\n  </thead>\n  <tbody>\n    <tr>\n      <th>count</th>\n      <td>299.000000</td>\n      <td>299.000000</td>\n      <td>299.000000</td>\n      <td>299.000000</td>\n      <td>299.000000</td>\n      <td>299.000000</td>\n      <td>299.000000</td>\n      <td>299.00000</td>\n      <td>299.000000</td>\n      <td>299.000000</td>\n      <td>299.00000</td>\n      <td>299.000000</td>\n      <td>299.00000</td>\n    </tr>\n    <tr>\n      <th>mean</th>\n      <td>60.833893</td>\n      <td>0.431438</td>\n      <td>581.839465</td>\n      <td>0.418060</td>\n      <td>38.083612</td>\n      <td>0.351171</td>\n      <td>263358.029264</td>\n      <td>1.39388</td>\n      <td>136.625418</td>\n      <td>0.648829</td>\n      <td>0.32107</td>\n      <td>130.260870</td>\n      <td>0.32107</td>\n    </tr>\n    <tr>\n      <th>std</th>\n      <td>11.894809</td>\n      <td>0.496107</td>\n      <td>970.287881</td>\n      <td>0.494067</td>\n      <td>11.834841</td>\n      <td>0.478136</td>\n      <td>97804.236869</td>\n      <td>1.03451</td>\n      <td>4.412477</td>\n      <td>0.478136</td>\n      <td>0.46767</td>\n      <td>77.614208</td>\n      <td>0.46767</td>\n    </tr>\n    <tr>\n      <th>min</th>\n      <td>40.000000</td>\n      <td>0.000000</td>\n      <td>23.000000</td>\n      <td>0.000000</td>\n      <td>14.000000</td>\n      <td>0.000000</td>\n      <td>25100.000000</td>\n      <td>0.50000</td>\n      <td>113.000000</td>\n      <td>0.000000</td>\n      <td>0.00000</td>\n      <td>4.000000</td>\n      <td>0.00000</td>\n    </tr>\n    <tr>\n      <th>25%</th>\n      <td>51.000000</td>\n      <td>0.000000</td>\n      <td>116.500000</td>\n      <td>0.000000</td>\n      <td>30.000000</td>\n      <td>0.000000</td>\n      <td>212500.000000</td>\n      <td>0.90000</td>\n      <td>134.000000</td>\n      <td>0.000000</td>\n      <td>0.00000</td>\n      <td>73.000000</td>\n      <td>0.00000</td>\n    </tr>\n    <tr>\n      <th>50%</th>\n      <td>60.000000</td>\n      <td>0.000000</td>\n      <td>250.000000</td>\n      <td>0.000000</td>\n      <td>38.000000</td>\n      <td>0.000000</td>\n      <td>262000.000000</td>\n      <td>1.10000</td>\n      <td>137.000000</td>\n      <td>1.000000</td>\n      <td>0.00000</td>\n      <td>115.000000</td>\n      <td>0.00000</td>\n    </tr>\n    <tr>\n      <th>75%</th>\n      <td>70.000000</td>\n      <td>1.000000</td>\n      <td>582.000000</td>\n      <td>1.000000</td>\n      <td>45.000000</td>\n      <td>1.000000</td>\n      <td>303500.000000</td>\n      <td>1.40000</td>\n      <td>140.000000</td>\n      <td>1.000000</td>\n      <td>1.00000</td>\n      <td>203.000000</td>\n      <td>1.00000</td>\n    </tr>\n    <tr>\n      <th>max</th>\n      <td>95.000000</td>\n      <td>1.000000</td>\n      <td>7861.000000</td>\n      <td>1.000000</td>\n      <td>80.000000</td>\n      <td>1.000000</td>\n      <td>850000.000000</td>\n      <td>9.40000</td>\n      <td>148.000000</td>\n      <td>1.000000</td>\n      <td>1.00000</td>\n      <td>285.000000</td>\n      <td>1.00000</td>\n    </tr>\n  </tbody>\n</table>\n</div>"
     },
     "metadata": {},
     "execution_count": 4
    }
   ],
   "source": [
    "df.describe()"
   ]
  },
  {
   "cell_type": "code",
   "execution_count": 5,
   "metadata": {},
   "outputs": [
    {
     "output_type": "execute_result",
     "data": {
      "text/plain": [
       "(299, 13)"
      ]
     },
     "metadata": {},
     "execution_count": 5
    }
   ],
   "source": [
    "df.shape"
   ]
  },
  {
   "cell_type": "code",
   "execution_count": 6,
   "metadata": {},
   "outputs": [
    {
     "output_type": "execute_result",
     "data": {
      "text/plain": [
       "age                         float64\n",
       "anaemia                       int64\n",
       "creatinine_phosphokinase      int64\n",
       "diabetes                      int64\n",
       "ejection_fraction             int64\n",
       "high_blood_pressure           int64\n",
       "platelets                   float64\n",
       "serum_creatinine            float64\n",
       "serum_sodium                  int64\n",
       "sex                           int64\n",
       "smoking                       int64\n",
       "time                          int64\n",
       "DEATH_EVENT                   int64\n",
       "dtype: object"
      ]
     },
     "metadata": {},
     "execution_count": 6
    }
   ],
   "source": [
    "df.dtypes"
   ]
  },
  {
   "cell_type": "code",
   "execution_count": 7,
   "metadata": {},
   "outputs": [],
   "source": [
    "HEIGHT = 400\n",
    "WIDTH = 600\n",
    "NBINS = 50\n",
    "SCATTER_SIZE=600"
   ]
  },
  {
   "cell_type": "code",
   "execution_count": 8,
   "metadata": {},
   "outputs": [
    {
     "output_type": "execute_result",
     "data": {
      "text/plain": [
       "   diabetes  count\n",
       "0         0    174\n",
       "1         1    125"
      ],
      "text/html": "<div>\n<style scoped>\n    .dataframe tbody tr th:only-of-type {\n        vertical-align: middle;\n    }\n\n    .dataframe tbody tr th {\n        vertical-align: top;\n    }\n\n    .dataframe thead th {\n        text-align: right;\n    }\n</style>\n<table border=\"1\" class=\"dataframe\">\n  <thead>\n    <tr style=\"text-align: right;\">\n      <th></th>\n      <th>diabetes</th>\n      <th>count</th>\n    </tr>\n  </thead>\n  <tbody>\n    <tr>\n      <th>0</th>\n      <td>0</td>\n      <td>174</td>\n    </tr>\n    <tr>\n      <th>1</th>\n      <td>1</td>\n      <td>125</td>\n    </tr>\n  </tbody>\n</table>\n</div>"
     },
     "metadata": {},
     "execution_count": 8
    }
   ],
   "source": [
    "ds = df['diabetes'].value_counts().reset_index()\n",
    "ds.columns = ['diabetes', 'count']\n",
    "ds.head()"
   ]
  },
  {
   "cell_type": "code",
   "execution_count": 9,
   "metadata": {},
   "outputs": [
    {
     "output_type": "display_data",
     "data": {
      "application/vnd.plotly.v1+json": {
       "config": {
        "plotlyServerURL": "https://plot.ly"
       },
       "data": [
        {
         "domain": {
          "x": [
           0,
           1
          ],
          "y": [
           0,
           1
          ]
         },
         "hovertemplate": "diabetes=%{label}<br>count=%{value}<extra></extra>",
         "labels": [
          0,
          1
         ],
         "legendgroup": "",
         "name": "",
         "showlegend": true,
         "type": "pie",
         "values": [
          174,
          125
         ]
        }
       ],
       "layout": {
        "height": 400,
        "legend": {
         "tracegroupgap": 0
        },
        "template": {
         "data": {
          "bar": [
           {
            "error_x": {
             "color": "#2a3f5f"
            },
            "error_y": {
             "color": "#2a3f5f"
            },
            "marker": {
             "line": {
              "color": "#E5ECF6",
              "width": 0.5
             }
            },
            "type": "bar"
           }
          ],
          "barpolar": [
           {
            "marker": {
             "line": {
              "color": "#E5ECF6",
              "width": 0.5
             }
            },
            "type": "barpolar"
           }
          ],
          "carpet": [
           {
            "aaxis": {
             "endlinecolor": "#2a3f5f",
             "gridcolor": "white",
             "linecolor": "white",
             "minorgridcolor": "white",
             "startlinecolor": "#2a3f5f"
            },
            "baxis": {
             "endlinecolor": "#2a3f5f",
             "gridcolor": "white",
             "linecolor": "white",
             "minorgridcolor": "white",
             "startlinecolor": "#2a3f5f"
            },
            "type": "carpet"
           }
          ],
          "choropleth": [
           {
            "colorbar": {
             "outlinewidth": 0,
             "ticks": ""
            },
            "type": "choropleth"
           }
          ],
          "contour": [
           {
            "colorbar": {
             "outlinewidth": 0,
             "ticks": ""
            },
            "colorscale": [
             [
              0,
              "#0d0887"
             ],
             [
              0.1111111111111111,
              "#46039f"
             ],
             [
              0.2222222222222222,
              "#7201a8"
             ],
             [
              0.3333333333333333,
              "#9c179e"
             ],
             [
              0.4444444444444444,
              "#bd3786"
             ],
             [
              0.5555555555555556,
              "#d8576b"
             ],
             [
              0.6666666666666666,
              "#ed7953"
             ],
             [
              0.7777777777777778,
              "#fb9f3a"
             ],
             [
              0.8888888888888888,
              "#fdca26"
             ],
             [
              1,
              "#f0f921"
             ]
            ],
            "type": "contour"
           }
          ],
          "contourcarpet": [
           {
            "colorbar": {
             "outlinewidth": 0,
             "ticks": ""
            },
            "type": "contourcarpet"
           }
          ],
          "heatmap": [
           {
            "colorbar": {
             "outlinewidth": 0,
             "ticks": ""
            },
            "colorscale": [
             [
              0,
              "#0d0887"
             ],
             [
              0.1111111111111111,
              "#46039f"
             ],
             [
              0.2222222222222222,
              "#7201a8"
             ],
             [
              0.3333333333333333,
              "#9c179e"
             ],
             [
              0.4444444444444444,
              "#bd3786"
             ],
             [
              0.5555555555555556,
              "#d8576b"
             ],
             [
              0.6666666666666666,
              "#ed7953"
             ],
             [
              0.7777777777777778,
              "#fb9f3a"
             ],
             [
              0.8888888888888888,
              "#fdca26"
             ],
             [
              1,
              "#f0f921"
             ]
            ],
            "type": "heatmap"
           }
          ],
          "heatmapgl": [
           {
            "colorbar": {
             "outlinewidth": 0,
             "ticks": ""
            },
            "colorscale": [
             [
              0,
              "#0d0887"
             ],
             [
              0.1111111111111111,
              "#46039f"
             ],
             [
              0.2222222222222222,
              "#7201a8"
             ],
             [
              0.3333333333333333,
              "#9c179e"
             ],
             [
              0.4444444444444444,
              "#bd3786"
             ],
             [
              0.5555555555555556,
              "#d8576b"
             ],
             [
              0.6666666666666666,
              "#ed7953"
             ],
             [
              0.7777777777777778,
              "#fb9f3a"
             ],
             [
              0.8888888888888888,
              "#fdca26"
             ],
             [
              1,
              "#f0f921"
             ]
            ],
            "type": "heatmapgl"
           }
          ],
          "histogram": [
           {
            "marker": {
             "colorbar": {
              "outlinewidth": 0,
              "ticks": ""
             }
            },
            "type": "histogram"
           }
          ],
          "histogram2d": [
           {
            "colorbar": {
             "outlinewidth": 0,
             "ticks": ""
            },
            "colorscale": [
             [
              0,
              "#0d0887"
             ],
             [
              0.1111111111111111,
              "#46039f"
             ],
             [
              0.2222222222222222,
              "#7201a8"
             ],
             [
              0.3333333333333333,
              "#9c179e"
             ],
             [
              0.4444444444444444,
              "#bd3786"
             ],
             [
              0.5555555555555556,
              "#d8576b"
             ],
             [
              0.6666666666666666,
              "#ed7953"
             ],
             [
              0.7777777777777778,
              "#fb9f3a"
             ],
             [
              0.8888888888888888,
              "#fdca26"
             ],
             [
              1,
              "#f0f921"
             ]
            ],
            "type": "histogram2d"
           }
          ],
          "histogram2dcontour": [
           {
            "colorbar": {
             "outlinewidth": 0,
             "ticks": ""
            },
            "colorscale": [
             [
              0,
              "#0d0887"
             ],
             [
              0.1111111111111111,
              "#46039f"
             ],
             [
              0.2222222222222222,
              "#7201a8"
             ],
             [
              0.3333333333333333,
              "#9c179e"
             ],
             [
              0.4444444444444444,
              "#bd3786"
             ],
             [
              0.5555555555555556,
              "#d8576b"
             ],
             [
              0.6666666666666666,
              "#ed7953"
             ],
             [
              0.7777777777777778,
              "#fb9f3a"
             ],
             [
              0.8888888888888888,
              "#fdca26"
             ],
             [
              1,
              "#f0f921"
             ]
            ],
            "type": "histogram2dcontour"
           }
          ],
          "mesh3d": [
           {
            "colorbar": {
             "outlinewidth": 0,
             "ticks": ""
            },
            "type": "mesh3d"
           }
          ],
          "parcoords": [
           {
            "line": {
             "colorbar": {
              "outlinewidth": 0,
              "ticks": ""
             }
            },
            "type": "parcoords"
           }
          ],
          "pie": [
           {
            "automargin": true,
            "type": "pie"
           }
          ],
          "scatter": [
           {
            "marker": {
             "colorbar": {
              "outlinewidth": 0,
              "ticks": ""
             }
            },
            "type": "scatter"
           }
          ],
          "scatter3d": [
           {
            "line": {
             "colorbar": {
              "outlinewidth": 0,
              "ticks": ""
             }
            },
            "marker": {
             "colorbar": {
              "outlinewidth": 0,
              "ticks": ""
             }
            },
            "type": "scatter3d"
           }
          ],
          "scattercarpet": [
           {
            "marker": {
             "colorbar": {
              "outlinewidth": 0,
              "ticks": ""
             }
            },
            "type": "scattercarpet"
           }
          ],
          "scattergeo": [
           {
            "marker": {
             "colorbar": {
              "outlinewidth": 0,
              "ticks": ""
             }
            },
            "type": "scattergeo"
           }
          ],
          "scattergl": [
           {
            "marker": {
             "colorbar": {
              "outlinewidth": 0,
              "ticks": ""
             }
            },
            "type": "scattergl"
           }
          ],
          "scattermapbox": [
           {
            "marker": {
             "colorbar": {
              "outlinewidth": 0,
              "ticks": ""
             }
            },
            "type": "scattermapbox"
           }
          ],
          "scatterpolar": [
           {
            "marker": {
             "colorbar": {
              "outlinewidth": 0,
              "ticks": ""
             }
            },
            "type": "scatterpolar"
           }
          ],
          "scatterpolargl": [
           {
            "marker": {
             "colorbar": {
              "outlinewidth": 0,
              "ticks": ""
             }
            },
            "type": "scatterpolargl"
           }
          ],
          "scatterternary": [
           {
            "marker": {
             "colorbar": {
              "outlinewidth": 0,
              "ticks": ""
             }
            },
            "type": "scatterternary"
           }
          ],
          "surface": [
           {
            "colorbar": {
             "outlinewidth": 0,
             "ticks": ""
            },
            "colorscale": [
             [
              0,
              "#0d0887"
             ],
             [
              0.1111111111111111,
              "#46039f"
             ],
             [
              0.2222222222222222,
              "#7201a8"
             ],
             [
              0.3333333333333333,
              "#9c179e"
             ],
             [
              0.4444444444444444,
              "#bd3786"
             ],
             [
              0.5555555555555556,
              "#d8576b"
             ],
             [
              0.6666666666666666,
              "#ed7953"
             ],
             [
              0.7777777777777778,
              "#fb9f3a"
             ],
             [
              0.8888888888888888,
              "#fdca26"
             ],
             [
              1,
              "#f0f921"
             ]
            ],
            "type": "surface"
           }
          ],
          "table": [
           {
            "cells": {
             "fill": {
              "color": "#EBF0F8"
             },
             "line": {
              "color": "white"
             }
            },
            "header": {
             "fill": {
              "color": "#C8D4E3"
             },
             "line": {
              "color": "white"
             }
            },
            "type": "table"
           }
          ]
         },
         "layout": {
          "annotationdefaults": {
           "arrowcolor": "#2a3f5f",
           "arrowhead": 0,
           "arrowwidth": 1
          },
          "coloraxis": {
           "colorbar": {
            "outlinewidth": 0,
            "ticks": ""
           }
          },
          "colorscale": {
           "diverging": [
            [
             0,
             "#8e0152"
            ],
            [
             0.1,
             "#c51b7d"
            ],
            [
             0.2,
             "#de77ae"
            ],
            [
             0.3,
             "#f1b6da"
            ],
            [
             0.4,
             "#fde0ef"
            ],
            [
             0.5,
             "#f7f7f7"
            ],
            [
             0.6,
             "#e6f5d0"
            ],
            [
             0.7,
             "#b8e186"
            ],
            [
             0.8,
             "#7fbc41"
            ],
            [
             0.9,
             "#4d9221"
            ],
            [
             1,
             "#276419"
            ]
           ],
           "sequential": [
            [
             0,
             "#0d0887"
            ],
            [
             0.1111111111111111,
             "#46039f"
            ],
            [
             0.2222222222222222,
             "#7201a8"
            ],
            [
             0.3333333333333333,
             "#9c179e"
            ],
            [
             0.4444444444444444,
             "#bd3786"
            ],
            [
             0.5555555555555556,
             "#d8576b"
            ],
            [
             0.6666666666666666,
             "#ed7953"
            ],
            [
             0.7777777777777778,
             "#fb9f3a"
            ],
            [
             0.8888888888888888,
             "#fdca26"
            ],
            [
             1,
             "#f0f921"
            ]
           ],
           "sequentialminus": [
            [
             0,
             "#0d0887"
            ],
            [
             0.1111111111111111,
             "#46039f"
            ],
            [
             0.2222222222222222,
             "#7201a8"
            ],
            [
             0.3333333333333333,
             "#9c179e"
            ],
            [
             0.4444444444444444,
             "#bd3786"
            ],
            [
             0.5555555555555556,
             "#d8576b"
            ],
            [
             0.6666666666666666,
             "#ed7953"
            ],
            [
             0.7777777777777778,
             "#fb9f3a"
            ],
            [
             0.8888888888888888,
             "#fdca26"
            ],
            [
             1,
             "#f0f921"
            ]
           ]
          },
          "colorway": [
           "#636efa",
           "#EF553B",
           "#00cc96",
           "#ab63fa",
           "#FFA15A",
           "#19d3f3",
           "#FF6692",
           "#B6E880",
           "#FF97FF",
           "#FECB52"
          ],
          "font": {
           "color": "#2a3f5f"
          },
          "geo": {
           "bgcolor": "white",
           "lakecolor": "white",
           "landcolor": "#E5ECF6",
           "showlakes": true,
           "showland": true,
           "subunitcolor": "white"
          },
          "hoverlabel": {
           "align": "left"
          },
          "hovermode": "closest",
          "mapbox": {
           "style": "light"
          },
          "paper_bgcolor": "white",
          "plot_bgcolor": "#E5ECF6",
          "polar": {
           "angularaxis": {
            "gridcolor": "white",
            "linecolor": "white",
            "ticks": ""
           },
           "bgcolor": "#E5ECF6",
           "radialaxis": {
            "gridcolor": "white",
            "linecolor": "white",
            "ticks": ""
           }
          },
          "scene": {
           "xaxis": {
            "backgroundcolor": "#E5ECF6",
            "gridcolor": "white",
            "gridwidth": 2,
            "linecolor": "white",
            "showbackground": true,
            "ticks": "",
            "zerolinecolor": "white"
           },
           "yaxis": {
            "backgroundcolor": "#E5ECF6",
            "gridcolor": "white",
            "gridwidth": 2,
            "linecolor": "white",
            "showbackground": true,
            "ticks": "",
            "zerolinecolor": "white"
           },
           "zaxis": {
            "backgroundcolor": "#E5ECF6",
            "gridcolor": "white",
            "gridwidth": 2,
            "linecolor": "white",
            "showbackground": true,
            "ticks": "",
            "zerolinecolor": "white"
           }
          },
          "shapedefaults": {
           "line": {
            "color": "#2a3f5f"
           }
          },
          "ternary": {
           "aaxis": {
            "gridcolor": "white",
            "linecolor": "white",
            "ticks": ""
           },
           "baxis": {
            "gridcolor": "white",
            "linecolor": "white",
            "ticks": ""
           },
           "bgcolor": "#E5ECF6",
           "caxis": {
            "gridcolor": "white",
            "linecolor": "white",
            "ticks": ""
           }
          },
          "title": {
           "x": 0.05
          },
          "xaxis": {
           "automargin": true,
           "gridcolor": "white",
           "linecolor": "white",
           "ticks": "",
           "title": {
            "standoff": 15
           },
           "zerolinecolor": "white",
           "zerolinewidth": 2
          },
          "yaxis": {
           "automargin": true,
           "gridcolor": "white",
           "linecolor": "white",
           "ticks": "",
           "title": {
            "standoff": 15
           },
           "zerolinecolor": "white",
           "zerolinewidth": 2
          }
         }
        },
        "title": {
         "text": "Diabetes bar chart"
        },
        "width": 600
       }
      }
     },
     "metadata": {}
    }
   ],
   "source": [
    "fig = px.pie(\n",
    "    ds, \n",
    "    values='count',\n",
    "    names='diabetes',\n",
    "    title='Diabetes bar chart',\n",
    "    width=WIDTH,\n",
    "    height=HEIGHT\n",
    ")\n",
    "\n",
    "fig"
   ]
  },
  {
   "cell_type": "code",
   "execution_count": 11,
   "metadata": {},
   "outputs": [
    {
     "output_type": "display_data",
     "data": {
      "application/vnd.plotly.v1+json": {
       "config": {
        "plotlyServerURL": "https://plot.ly"
       },
       "data": [
        {
         "marker": {
          "color": [
           1,
           1,
           1,
           1,
           1,
           1,
           1,
           1,
           1,
           1,
           1,
           1,
           1,
           1,
           0,
           1,
           1,
           1,
           1,
           1,
           0,
           1,
           1,
           0,
           1,
           1,
           1,
           1,
           1,
           1,
           1,
           1,
           1,
           0,
           1,
           1,
           1,
           1,
           0,
           1,
           1,
           1,
           1,
           0,
           1,
           1,
           1,
           1,
           1,
           1,
           1,
           1,
           1,
           1,
           1,
           1,
           0,
           0,
           1,
           1,
           1,
           1,
           0,
           1,
           0,
           1,
           1,
           1,
           1,
           1,
           0,
           0,
           1,
           0,
           1,
           1,
           0,
           0,
           0,
           0,
           0,
           0,
           1,
           0,
           1,
           0,
           0,
           0,
           0,
           0,
           0,
           0,
           0,
           1,
           0,
           0,
           0,
           0,
           0,
           0,
           0,
           0,
           0,
           0,
           0,
           1,
           0,
           0,
           0,
           0,
           1,
           0,
           0,
           1,
           0,
           0,
           0,
           0,
           0,
           1,
           0,
           0,
           0,
           0,
           1,
           0,
           1,
           0,
           0,
           0,
           0,
           0,
           0,
           0,
           0,
           0,
           0,
           0,
           0,
           0,
           1,
           0,
           0,
           0,
           1,
           0,
           0,
           0,
           1,
           0,
           1,
           0,
           0,
           0,
           0,
           0,
           0,
           0,
           0,
           0,
           0,
           0,
           0,
           1,
           1,
           1,
           0,
           1,
           0,
           0,
           0,
           0,
           0,
           0,
           0,
           0,
           0,
           0,
           0,
           0,
           0,
           1,
           1,
           1,
           1,
           1,
           1,
           1,
           0,
           0,
           0,
           0,
           0,
           0,
           1,
           1,
           0,
           0,
           0,
           0,
           0,
           0,
           0,
           0,
           0,
           0,
           0,
           0,
           0,
           0,
           0,
           0,
           0,
           1,
           0,
           0,
           0,
           1,
           0,
           0,
           1,
           0,
           0,
           0,
           0,
           0,
           0,
           0,
           0,
           0,
           1,
           0,
           0,
           0,
           0,
           0,
           0,
           0,
           0,
           0,
           0,
           0,
           0,
           0,
           0,
           0,
           1,
           0,
           0,
           0,
           0,
           0,
           0,
           0,
           0,
           0,
           0,
           0,
           0,
           0,
           0,
           0,
           1,
           0,
           0,
           0,
           1,
           0,
           0,
           0,
           0,
           0,
           0,
           0,
           0,
           0,
           0,
           0,
           0,
           0,
           0,
           0,
           0,
           0,
           0,
           0,
           0,
           0,
           0,
           0,
           0,
           0,
           0,
           0,
           0,
           0,
           0,
           0,
           0
          ],
          "showscale": true
         },
         "mode": "markers",
         "type": "scatter",
         "x": [
          75,
          55,
          65,
          50,
          65,
          90,
          75,
          60,
          65,
          80,
          75,
          62,
          45,
          50,
          49,
          82,
          87,
          45,
          70,
          48,
          65,
          65,
          68,
          53,
          75,
          80,
          95,
          70,
          58,
          82,
          94,
          85,
          50,
          50,
          65,
          69,
          90,
          82,
          60,
          60,
          70,
          50,
          70,
          72,
          60,
          50,
          51,
          60,
          80,
          57,
          68,
          53,
          60,
          70,
          60,
          95,
          70,
          60,
          49,
          72,
          45,
          50,
          55,
          45,
          45,
          60,
          42,
          72,
          70,
          65,
          41,
          58,
          85,
          65,
          69,
          60,
          70,
          42,
          75,
          55,
          70,
          67,
          60,
          79,
          59,
          51,
          55,
          65,
          44,
          57,
          70,
          60,
          42,
          60,
          58,
          58,
          63,
          70,
          60,
          63,
          65,
          75,
          80,
          42,
          60,
          72,
          55,
          45,
          63,
          45,
          85,
          55,
          50,
          70,
          60,
          58,
          60,
          85,
          65,
          86,
          60,
          66,
          60,
          60,
          60,
          43,
          46,
          58,
          61,
          53,
          53,
          60,
          46,
          63,
          81,
          75,
          65,
          68,
          62,
          50,
          80,
          46,
          50,
          61,
          72,
          50,
          52,
          64,
          75,
          60,
          72,
          62,
          50,
          50,
          65,
          60,
          52,
          50,
          85,
          59,
          66,
          45,
          63,
          50,
          45,
          80,
          53,
          59,
          65,
          70,
          51,
          52,
          70,
          50,
          65,
          60,
          69,
          49,
          63,
          55,
          40,
          59,
          65,
          75,
          58,
          60.667,
          50,
          60,
          60.667,
          40,
          80,
          64,
          50,
          73,
          45,
          77,
          45,
          65,
          50,
          60,
          63,
          45,
          70,
          60,
          78,
          50,
          40,
          85,
          60,
          49,
          70,
          50,
          78,
          48,
          65,
          73,
          70,
          54,
          68,
          55,
          73,
          65,
          42,
          47,
          58,
          75,
          58,
          55,
          65,
          72,
          60,
          70,
          40,
          53,
          53,
          77,
          75,
          70,
          65,
          55,
          70,
          65,
          40,
          73,
          54,
          61,
          55,
          64,
          40,
          53,
          50,
          55,
          50,
          70,
          53,
          52,
          65,
          58,
          45,
          53,
          55,
          62,
          65,
          68,
          61,
          50,
          55,
          56,
          45,
          40,
          44,
          51,
          67,
          42,
          60,
          45,
          70,
          70,
          50,
          55,
          70,
          70,
          42,
          65,
          50,
          55,
          60,
          45,
          65,
          90,
          45,
          60,
          52,
          63,
          62,
          55,
          45,
          45,
          50
         ],
         "y": [
          130,
          136,
          129,
          137,
          116,
          132,
          137,
          131,
          138,
          133,
          131,
          140,
          137,
          137,
          138,
          136,
          140,
          127,
          140,
          121,
          137,
          136,
          140,
          135,
          134,
          144,
          138,
          136,
          134,
          132,
          134,
          132,
          128,
          138,
          140,
          134,
          134,
          145,
          137,
          142,
          134,
          136,
          139,
          134,
          142,
          135,
          130,
          138,
          133,
          140,
          138,
          139,
          146,
          134,
          132,
          132,
          138,
          138,
          136,
          136,
          139,
          131,
          139,
          145,
          137,
          127,
          136,
          140,
          142,
          135,
          140,
          139,
          132,
          137,
          134,
          139,
          140,
          140,
          131,
          140,
          136,
          137,
          132,
          133,
          141,
          140,
          137,
          140,
          139,
          144,
          136,
          133,
          137,
          135,
          142,
          141,
          134,
          136,
          137,
          140,
          141,
          137,
          144,
          140,
          143,
          138,
          137,
          138,
          133,
          142,
          132,
          135,
          136,
          137,
          126,
          139,
          136,
          138,
          140,
          134,
          135,
          136,
          140,
          145,
          134,
          135,
          124,
          137,
          136,
          145,
          138,
          131,
          137,
          145,
          137,
          137,
          137,
          130,
          136,
          138,
          134,
          140,
          132,
          141,
          139,
          141,
          136,
          137,
          134,
          136,
          135,
          139,
          134,
          137,
          136,
          140,
          136,
          136,
          134,
          139,
          134,
          139,
          137,
          142,
          139,
          135,
          133,
          134,
          138,
          133,
          136,
          140,
          145,
          139,
          137,
          138,
          135,
          140,
          145,
          140,
          136,
          136,
          136,
          134,
          137,
          136,
          134,
          144,
          136,
          140,
          134,
          135,
          130,
          142,
          135,
          145,
          137,
          138,
          134,
          113,
          137,
          136,
          138,
          136,
          137,
          136,
          141,
          136,
          141,
          130,
          136,
          140,
          138,
          130,
          134,
          134,
          141,
          137,
          134,
          140,
          134,
          145,
          139,
          134,
          138,
          125,
          132,
          140,
          130,
          134,
          127,
          134,
          137,
          137,
          137,
          137,
          148,
          132,
          136,
          137,
          139,
          136,
          136,
          141,
          134,
          137,
          138,
          135,
          142,
          130,
          139,
          143,
          133,
          132,
          139,
          142,
          139,
          139,
          135,
          135,
          138,
          133,
          129,
          140,
          141,
          140,
          134,
          140,
          140,
          132,
          130,
          134,
          133,
          140,
          137,
          137,
          142,
          140,
          136,
          136,
          137,
          136,
          128,
          138,
          141,
          135,
          140,
          132,
          142,
          144,
          141,
          139,
          140,
          136,
          143,
          139,
          138,
          140,
          136
         ]
        }
       ],
       "layout": {
        "hovermode": "closest",
        "template": {
         "data": {
          "bar": [
           {
            "error_x": {
             "color": "#2a3f5f"
            },
            "error_y": {
             "color": "#2a3f5f"
            },
            "marker": {
             "line": {
              "color": "#E5ECF6",
              "width": 0.5
             }
            },
            "type": "bar"
           }
          ],
          "barpolar": [
           {
            "marker": {
             "line": {
              "color": "#E5ECF6",
              "width": 0.5
             }
            },
            "type": "barpolar"
           }
          ],
          "carpet": [
           {
            "aaxis": {
             "endlinecolor": "#2a3f5f",
             "gridcolor": "white",
             "linecolor": "white",
             "minorgridcolor": "white",
             "startlinecolor": "#2a3f5f"
            },
            "baxis": {
             "endlinecolor": "#2a3f5f",
             "gridcolor": "white",
             "linecolor": "white",
             "minorgridcolor": "white",
             "startlinecolor": "#2a3f5f"
            },
            "type": "carpet"
           }
          ],
          "choropleth": [
           {
            "colorbar": {
             "outlinewidth": 0,
             "ticks": ""
            },
            "type": "choropleth"
           }
          ],
          "contour": [
           {
            "colorbar": {
             "outlinewidth": 0,
             "ticks": ""
            },
            "colorscale": [
             [
              0,
              "#0d0887"
             ],
             [
              0.1111111111111111,
              "#46039f"
             ],
             [
              0.2222222222222222,
              "#7201a8"
             ],
             [
              0.3333333333333333,
              "#9c179e"
             ],
             [
              0.4444444444444444,
              "#bd3786"
             ],
             [
              0.5555555555555556,
              "#d8576b"
             ],
             [
              0.6666666666666666,
              "#ed7953"
             ],
             [
              0.7777777777777778,
              "#fb9f3a"
             ],
             [
              0.8888888888888888,
              "#fdca26"
             ],
             [
              1,
              "#f0f921"
             ]
            ],
            "type": "contour"
           }
          ],
          "contourcarpet": [
           {
            "colorbar": {
             "outlinewidth": 0,
             "ticks": ""
            },
            "type": "contourcarpet"
           }
          ],
          "heatmap": [
           {
            "colorbar": {
             "outlinewidth": 0,
             "ticks": ""
            },
            "colorscale": [
             [
              0,
              "#0d0887"
             ],
             [
              0.1111111111111111,
              "#46039f"
             ],
             [
              0.2222222222222222,
              "#7201a8"
             ],
             [
              0.3333333333333333,
              "#9c179e"
             ],
             [
              0.4444444444444444,
              "#bd3786"
             ],
             [
              0.5555555555555556,
              "#d8576b"
             ],
             [
              0.6666666666666666,
              "#ed7953"
             ],
             [
              0.7777777777777778,
              "#fb9f3a"
             ],
             [
              0.8888888888888888,
              "#fdca26"
             ],
             [
              1,
              "#f0f921"
             ]
            ],
            "type": "heatmap"
           }
          ],
          "heatmapgl": [
           {
            "colorbar": {
             "outlinewidth": 0,
             "ticks": ""
            },
            "colorscale": [
             [
              0,
              "#0d0887"
             ],
             [
              0.1111111111111111,
              "#46039f"
             ],
             [
              0.2222222222222222,
              "#7201a8"
             ],
             [
              0.3333333333333333,
              "#9c179e"
             ],
             [
              0.4444444444444444,
              "#bd3786"
             ],
             [
              0.5555555555555556,
              "#d8576b"
             ],
             [
              0.6666666666666666,
              "#ed7953"
             ],
             [
              0.7777777777777778,
              "#fb9f3a"
             ],
             [
              0.8888888888888888,
              "#fdca26"
             ],
             [
              1,
              "#f0f921"
             ]
            ],
            "type": "heatmapgl"
           }
          ],
          "histogram": [
           {
            "marker": {
             "colorbar": {
              "outlinewidth": 0,
              "ticks": ""
             }
            },
            "type": "histogram"
           }
          ],
          "histogram2d": [
           {
            "colorbar": {
             "outlinewidth": 0,
             "ticks": ""
            },
            "colorscale": [
             [
              0,
              "#0d0887"
             ],
             [
              0.1111111111111111,
              "#46039f"
             ],
             [
              0.2222222222222222,
              "#7201a8"
             ],
             [
              0.3333333333333333,
              "#9c179e"
             ],
             [
              0.4444444444444444,
              "#bd3786"
             ],
             [
              0.5555555555555556,
              "#d8576b"
             ],
             [
              0.6666666666666666,
              "#ed7953"
             ],
             [
              0.7777777777777778,
              "#fb9f3a"
             ],
             [
              0.8888888888888888,
              "#fdca26"
             ],
             [
              1,
              "#f0f921"
             ]
            ],
            "type": "histogram2d"
           }
          ],
          "histogram2dcontour": [
           {
            "colorbar": {
             "outlinewidth": 0,
             "ticks": ""
            },
            "colorscale": [
             [
              0,
              "#0d0887"
             ],
             [
              0.1111111111111111,
              "#46039f"
             ],
             [
              0.2222222222222222,
              "#7201a8"
             ],
             [
              0.3333333333333333,
              "#9c179e"
             ],
             [
              0.4444444444444444,
              "#bd3786"
             ],
             [
              0.5555555555555556,
              "#d8576b"
             ],
             [
              0.6666666666666666,
              "#ed7953"
             ],
             [
              0.7777777777777778,
              "#fb9f3a"
             ],
             [
              0.8888888888888888,
              "#fdca26"
             ],
             [
              1,
              "#f0f921"
             ]
            ],
            "type": "histogram2dcontour"
           }
          ],
          "mesh3d": [
           {
            "colorbar": {
             "outlinewidth": 0,
             "ticks": ""
            },
            "type": "mesh3d"
           }
          ],
          "parcoords": [
           {
            "line": {
             "colorbar": {
              "outlinewidth": 0,
              "ticks": ""
             }
            },
            "type": "parcoords"
           }
          ],
          "pie": [
           {
            "automargin": true,
            "type": "pie"
           }
          ],
          "scatter": [
           {
            "marker": {
             "colorbar": {
              "outlinewidth": 0,
              "ticks": ""
             }
            },
            "type": "scatter"
           }
          ],
          "scatter3d": [
           {
            "line": {
             "colorbar": {
              "outlinewidth": 0,
              "ticks": ""
             }
            },
            "marker": {
             "colorbar": {
              "outlinewidth": 0,
              "ticks": ""
             }
            },
            "type": "scatter3d"
           }
          ],
          "scattercarpet": [
           {
            "marker": {
             "colorbar": {
              "outlinewidth": 0,
              "ticks": ""
             }
            },
            "type": "scattercarpet"
           }
          ],
          "scattergeo": [
           {
            "marker": {
             "colorbar": {
              "outlinewidth": 0,
              "ticks": ""
             }
            },
            "type": "scattergeo"
           }
          ],
          "scattergl": [
           {
            "marker": {
             "colorbar": {
              "outlinewidth": 0,
              "ticks": ""
             }
            },
            "type": "scattergl"
           }
          ],
          "scattermapbox": [
           {
            "marker": {
             "colorbar": {
              "outlinewidth": 0,
              "ticks": ""
             }
            },
            "type": "scattermapbox"
           }
          ],
          "scatterpolar": [
           {
            "marker": {
             "colorbar": {
              "outlinewidth": 0,
              "ticks": ""
             }
            },
            "type": "scatterpolar"
           }
          ],
          "scatterpolargl": [
           {
            "marker": {
             "colorbar": {
              "outlinewidth": 0,
              "ticks": ""
             }
            },
            "type": "scatterpolargl"
           }
          ],
          "scatterternary": [
           {
            "marker": {
             "colorbar": {
              "outlinewidth": 0,
              "ticks": ""
             }
            },
            "type": "scatterternary"
           }
          ],
          "surface": [
           {
            "colorbar": {
             "outlinewidth": 0,
             "ticks": ""
            },
            "colorscale": [
             [
              0,
              "#0d0887"
             ],
             [
              0.1111111111111111,
              "#46039f"
             ],
             [
              0.2222222222222222,
              "#7201a8"
             ],
             [
              0.3333333333333333,
              "#9c179e"
             ],
             [
              0.4444444444444444,
              "#bd3786"
             ],
             [
              0.5555555555555556,
              "#d8576b"
             ],
             [
              0.6666666666666666,
              "#ed7953"
             ],
             [
              0.7777777777777778,
              "#fb9f3a"
             ],
             [
              0.8888888888888888,
              "#fdca26"
             ],
             [
              1,
              "#f0f921"
             ]
            ],
            "type": "surface"
           }
          ],
          "table": [
           {
            "cells": {
             "fill": {
              "color": "#EBF0F8"
             },
             "line": {
              "color": "white"
             }
            },
            "header": {
             "fill": {
              "color": "#C8D4E3"
             },
             "line": {
              "color": "white"
             }
            },
            "type": "table"
           }
          ]
         },
         "layout": {
          "annotationdefaults": {
           "arrowcolor": "#2a3f5f",
           "arrowhead": 0,
           "arrowwidth": 1
          },
          "coloraxis": {
           "colorbar": {
            "outlinewidth": 0,
            "ticks": ""
           }
          },
          "colorscale": {
           "diverging": [
            [
             0,
             "#8e0152"
            ],
            [
             0.1,
             "#c51b7d"
            ],
            [
             0.2,
             "#de77ae"
            ],
            [
             0.3,
             "#f1b6da"
            ],
            [
             0.4,
             "#fde0ef"
            ],
            [
             0.5,
             "#f7f7f7"
            ],
            [
             0.6,
             "#e6f5d0"
            ],
            [
             0.7,
             "#b8e186"
            ],
            [
             0.8,
             "#7fbc41"
            ],
            [
             0.9,
             "#4d9221"
            ],
            [
             1,
             "#276419"
            ]
           ],
           "sequential": [
            [
             0,
             "#0d0887"
            ],
            [
             0.1111111111111111,
             "#46039f"
            ],
            [
             0.2222222222222222,
             "#7201a8"
            ],
            [
             0.3333333333333333,
             "#9c179e"
            ],
            [
             0.4444444444444444,
             "#bd3786"
            ],
            [
             0.5555555555555556,
             "#d8576b"
            ],
            [
             0.6666666666666666,
             "#ed7953"
            ],
            [
             0.7777777777777778,
             "#fb9f3a"
            ],
            [
             0.8888888888888888,
             "#fdca26"
            ],
            [
             1,
             "#f0f921"
            ]
           ],
           "sequentialminus": [
            [
             0,
             "#0d0887"
            ],
            [
             0.1111111111111111,
             "#46039f"
            ],
            [
             0.2222222222222222,
             "#7201a8"
            ],
            [
             0.3333333333333333,
             "#9c179e"
            ],
            [
             0.4444444444444444,
             "#bd3786"
            ],
            [
             0.5555555555555556,
             "#d8576b"
            ],
            [
             0.6666666666666666,
             "#ed7953"
            ],
            [
             0.7777777777777778,
             "#fb9f3a"
            ],
            [
             0.8888888888888888,
             "#fdca26"
            ],
            [
             1,
             "#f0f921"
            ]
           ]
          },
          "colorway": [
           "#636efa",
           "#EF553B",
           "#00cc96",
           "#ab63fa",
           "#FFA15A",
           "#19d3f3",
           "#FF6692",
           "#B6E880",
           "#FF97FF",
           "#FECB52"
          ],
          "font": {
           "color": "#2a3f5f"
          },
          "geo": {
           "bgcolor": "white",
           "lakecolor": "white",
           "landcolor": "#E5ECF6",
           "showlakes": true,
           "showland": true,
           "subunitcolor": "white"
          },
          "hoverlabel": {
           "align": "left"
          },
          "hovermode": "closest",
          "mapbox": {
           "style": "light"
          },
          "paper_bgcolor": "white",
          "plot_bgcolor": "#E5ECF6",
          "polar": {
           "angularaxis": {
            "gridcolor": "white",
            "linecolor": "white",
            "ticks": ""
           },
           "bgcolor": "#E5ECF6",
           "radialaxis": {
            "gridcolor": "white",
            "linecolor": "white",
            "ticks": ""
           }
          },
          "scene": {
           "xaxis": {
            "backgroundcolor": "#E5ECF6",
            "gridcolor": "white",
            "gridwidth": 2,
            "linecolor": "white",
            "showbackground": true,
            "ticks": "",
            "zerolinecolor": "white"
           },
           "yaxis": {
            "backgroundcolor": "#E5ECF6",
            "gridcolor": "white",
            "gridwidth": 2,
            "linecolor": "white",
            "showbackground": true,
            "ticks": "",
            "zerolinecolor": "white"
           },
           "zaxis": {
            "backgroundcolor": "#E5ECF6",
            "gridcolor": "white",
            "gridwidth": 2,
            "linecolor": "white",
            "showbackground": true,
            "ticks": "",
            "zerolinecolor": "white"
           }
          },
          "shapedefaults": {
           "line": {
            "color": "#2a3f5f"
           }
          },
          "ternary": {
           "aaxis": {
            "gridcolor": "white",
            "linecolor": "white",
            "ticks": ""
           },
           "baxis": {
            "gridcolor": "white",
            "linecolor": "white",
            "ticks": ""
           },
           "bgcolor": "#E5ECF6",
           "caxis": {
            "gridcolor": "white",
            "linecolor": "white",
            "ticks": ""
           }
          },
          "title": {
           "x": 0.05
          },
          "xaxis": {
           "automargin": true,
           "gridcolor": "white",
           "linecolor": "white",
           "ticks": "",
           "title": {
            "standoff": 15
           },
           "zerolinecolor": "white",
           "zerolinewidth": 2
          },
          "yaxis": {
           "automargin": true,
           "gridcolor": "white",
           "linecolor": "white",
           "ticks": "",
           "title": {
            "standoff": 15
           },
           "zerolinecolor": "white",
           "zerolinewidth": 2
          }
         }
        },
        "title": {
         "text": "Serum sodium vs Age with Survivability (Survive-0, Not survive-1)"
        },
        "xaxis": {
         "title": {
          "text": "Age"
         }
        },
        "yaxis": {
         "title": {
          "text": "Serum Sodium"
         }
        }
       }
      }
     },
     "metadata": {}
    }
   ],
   "source": [
    "data=[\n",
    "    go.Scatter(x = df['age'],y=df['serum_sodium'],\n",
    "               #text=df['smoking'],\n",
    "                mode='markers',\n",
    "               marker=dict(#size=df['smoking']*10, \n",
    "               color=df['DEATH_EVENT'],showscale=True),\n",
    "              )\n",
    "              ]\n",
    "#defining layout\n",
    "layout = go.Layout(title='Serum sodium vs Age with Survivability (Survive-0, Not survive-1)',\n",
    "xaxis=dict(title='Age'),\n",
    "yaxis=dict(title='Serum Sodium'),hovermode='closest')\n",
    "\n",
    "figure = go.Figure(data=data,layout=layout)\n",
    "figure"
   ]
  },
  {
   "cell_type": "code",
   "execution_count": 12,
   "metadata": {},
   "outputs": [
    {
     "output_type": "execute_result",
     "data": {
      "text/plain": [
       "   anaemia  count\n",
       "0        0    170\n",
       "1        1    129"
      ],
      "text/html": "<div>\n<style scoped>\n    .dataframe tbody tr th:only-of-type {\n        vertical-align: middle;\n    }\n\n    .dataframe tbody tr th {\n        vertical-align: top;\n    }\n\n    .dataframe thead th {\n        text-align: right;\n    }\n</style>\n<table border=\"1\" class=\"dataframe\">\n  <thead>\n    <tr style=\"text-align: right;\">\n      <th></th>\n      <th>anaemia</th>\n      <th>count</th>\n    </tr>\n  </thead>\n  <tbody>\n    <tr>\n      <th>0</th>\n      <td>0</td>\n      <td>170</td>\n    </tr>\n    <tr>\n      <th>1</th>\n      <td>1</td>\n      <td>129</td>\n    </tr>\n  </tbody>\n</table>\n</div>"
     },
     "metadata": {},
     "execution_count": 12
    }
   ],
   "source": [
    "da = df['anaemia'].value_counts().reset_index()\n",
    "da.columns = ['anaemia', 'count']\n",
    "da.head()"
   ]
  },
  {
   "cell_type": "code",
   "execution_count": 13,
   "metadata": {},
   "outputs": [
    {
     "output_type": "display_data",
     "data": {
      "application/vnd.plotly.v1+json": {
       "config": {
        "plotlyServerURL": "https://plot.ly"
       },
       "data": [
        {
         "domain": {
          "x": [
           0,
           1
          ],
          "y": [
           0,
           1
          ]
         },
         "hovertemplate": "anaemia=%{label}<br>count=%{value}<extra></extra>",
         "labels": [
          0,
          1
         ],
         "legendgroup": "",
         "name": "",
         "showlegend": true,
         "type": "pie",
         "values": [
          170,
          129
         ]
        }
       ],
       "layout": {
        "height": 400,
        "legend": {
         "tracegroupgap": 0
        },
        "template": {
         "data": {
          "bar": [
           {
            "error_x": {
             "color": "#2a3f5f"
            },
            "error_y": {
             "color": "#2a3f5f"
            },
            "marker": {
             "line": {
              "color": "#E5ECF6",
              "width": 0.5
             }
            },
            "type": "bar"
           }
          ],
          "barpolar": [
           {
            "marker": {
             "line": {
              "color": "#E5ECF6",
              "width": 0.5
             }
            },
            "type": "barpolar"
           }
          ],
          "carpet": [
           {
            "aaxis": {
             "endlinecolor": "#2a3f5f",
             "gridcolor": "white",
             "linecolor": "white",
             "minorgridcolor": "white",
             "startlinecolor": "#2a3f5f"
            },
            "baxis": {
             "endlinecolor": "#2a3f5f",
             "gridcolor": "white",
             "linecolor": "white",
             "minorgridcolor": "white",
             "startlinecolor": "#2a3f5f"
            },
            "type": "carpet"
           }
          ],
          "choropleth": [
           {
            "colorbar": {
             "outlinewidth": 0,
             "ticks": ""
            },
            "type": "choropleth"
           }
          ],
          "contour": [
           {
            "colorbar": {
             "outlinewidth": 0,
             "ticks": ""
            },
            "colorscale": [
             [
              0,
              "#0d0887"
             ],
             [
              0.1111111111111111,
              "#46039f"
             ],
             [
              0.2222222222222222,
              "#7201a8"
             ],
             [
              0.3333333333333333,
              "#9c179e"
             ],
             [
              0.4444444444444444,
              "#bd3786"
             ],
             [
              0.5555555555555556,
              "#d8576b"
             ],
             [
              0.6666666666666666,
              "#ed7953"
             ],
             [
              0.7777777777777778,
              "#fb9f3a"
             ],
             [
              0.8888888888888888,
              "#fdca26"
             ],
             [
              1,
              "#f0f921"
             ]
            ],
            "type": "contour"
           }
          ],
          "contourcarpet": [
           {
            "colorbar": {
             "outlinewidth": 0,
             "ticks": ""
            },
            "type": "contourcarpet"
           }
          ],
          "heatmap": [
           {
            "colorbar": {
             "outlinewidth": 0,
             "ticks": ""
            },
            "colorscale": [
             [
              0,
              "#0d0887"
             ],
             [
              0.1111111111111111,
              "#46039f"
             ],
             [
              0.2222222222222222,
              "#7201a8"
             ],
             [
              0.3333333333333333,
              "#9c179e"
             ],
             [
              0.4444444444444444,
              "#bd3786"
             ],
             [
              0.5555555555555556,
              "#d8576b"
             ],
             [
              0.6666666666666666,
              "#ed7953"
             ],
             [
              0.7777777777777778,
              "#fb9f3a"
             ],
             [
              0.8888888888888888,
              "#fdca26"
             ],
             [
              1,
              "#f0f921"
             ]
            ],
            "type": "heatmap"
           }
          ],
          "heatmapgl": [
           {
            "colorbar": {
             "outlinewidth": 0,
             "ticks": ""
            },
            "colorscale": [
             [
              0,
              "#0d0887"
             ],
             [
              0.1111111111111111,
              "#46039f"
             ],
             [
              0.2222222222222222,
              "#7201a8"
             ],
             [
              0.3333333333333333,
              "#9c179e"
             ],
             [
              0.4444444444444444,
              "#bd3786"
             ],
             [
              0.5555555555555556,
              "#d8576b"
             ],
             [
              0.6666666666666666,
              "#ed7953"
             ],
             [
              0.7777777777777778,
              "#fb9f3a"
             ],
             [
              0.8888888888888888,
              "#fdca26"
             ],
             [
              1,
              "#f0f921"
             ]
            ],
            "type": "heatmapgl"
           }
          ],
          "histogram": [
           {
            "marker": {
             "colorbar": {
              "outlinewidth": 0,
              "ticks": ""
             }
            },
            "type": "histogram"
           }
          ],
          "histogram2d": [
           {
            "colorbar": {
             "outlinewidth": 0,
             "ticks": ""
            },
            "colorscale": [
             [
              0,
              "#0d0887"
             ],
             [
              0.1111111111111111,
              "#46039f"
             ],
             [
              0.2222222222222222,
              "#7201a8"
             ],
             [
              0.3333333333333333,
              "#9c179e"
             ],
             [
              0.4444444444444444,
              "#bd3786"
             ],
             [
              0.5555555555555556,
              "#d8576b"
             ],
             [
              0.6666666666666666,
              "#ed7953"
             ],
             [
              0.7777777777777778,
              "#fb9f3a"
             ],
             [
              0.8888888888888888,
              "#fdca26"
             ],
             [
              1,
              "#f0f921"
             ]
            ],
            "type": "histogram2d"
           }
          ],
          "histogram2dcontour": [
           {
            "colorbar": {
             "outlinewidth": 0,
             "ticks": ""
            },
            "colorscale": [
             [
              0,
              "#0d0887"
             ],
             [
              0.1111111111111111,
              "#46039f"
             ],
             [
              0.2222222222222222,
              "#7201a8"
             ],
             [
              0.3333333333333333,
              "#9c179e"
             ],
             [
              0.4444444444444444,
              "#bd3786"
             ],
             [
              0.5555555555555556,
              "#d8576b"
             ],
             [
              0.6666666666666666,
              "#ed7953"
             ],
             [
              0.7777777777777778,
              "#fb9f3a"
             ],
             [
              0.8888888888888888,
              "#fdca26"
             ],
             [
              1,
              "#f0f921"
             ]
            ],
            "type": "histogram2dcontour"
           }
          ],
          "mesh3d": [
           {
            "colorbar": {
             "outlinewidth": 0,
             "ticks": ""
            },
            "type": "mesh3d"
           }
          ],
          "parcoords": [
           {
            "line": {
             "colorbar": {
              "outlinewidth": 0,
              "ticks": ""
             }
            },
            "type": "parcoords"
           }
          ],
          "pie": [
           {
            "automargin": true,
            "type": "pie"
           }
          ],
          "scatter": [
           {
            "marker": {
             "colorbar": {
              "outlinewidth": 0,
              "ticks": ""
             }
            },
            "type": "scatter"
           }
          ],
          "scatter3d": [
           {
            "line": {
             "colorbar": {
              "outlinewidth": 0,
              "ticks": ""
             }
            },
            "marker": {
             "colorbar": {
              "outlinewidth": 0,
              "ticks": ""
             }
            },
            "type": "scatter3d"
           }
          ],
          "scattercarpet": [
           {
            "marker": {
             "colorbar": {
              "outlinewidth": 0,
              "ticks": ""
             }
            },
            "type": "scattercarpet"
           }
          ],
          "scattergeo": [
           {
            "marker": {
             "colorbar": {
              "outlinewidth": 0,
              "ticks": ""
             }
            },
            "type": "scattergeo"
           }
          ],
          "scattergl": [
           {
            "marker": {
             "colorbar": {
              "outlinewidth": 0,
              "ticks": ""
             }
            },
            "type": "scattergl"
           }
          ],
          "scattermapbox": [
           {
            "marker": {
             "colorbar": {
              "outlinewidth": 0,
              "ticks": ""
             }
            },
            "type": "scattermapbox"
           }
          ],
          "scatterpolar": [
           {
            "marker": {
             "colorbar": {
              "outlinewidth": 0,
              "ticks": ""
             }
            },
            "type": "scatterpolar"
           }
          ],
          "scatterpolargl": [
           {
            "marker": {
             "colorbar": {
              "outlinewidth": 0,
              "ticks": ""
             }
            },
            "type": "scatterpolargl"
           }
          ],
          "scatterternary": [
           {
            "marker": {
             "colorbar": {
              "outlinewidth": 0,
              "ticks": ""
             }
            },
            "type": "scatterternary"
           }
          ],
          "surface": [
           {
            "colorbar": {
             "outlinewidth": 0,
             "ticks": ""
            },
            "colorscale": [
             [
              0,
              "#0d0887"
             ],
             [
              0.1111111111111111,
              "#46039f"
             ],
             [
              0.2222222222222222,
              "#7201a8"
             ],
             [
              0.3333333333333333,
              "#9c179e"
             ],
             [
              0.4444444444444444,
              "#bd3786"
             ],
             [
              0.5555555555555556,
              "#d8576b"
             ],
             [
              0.6666666666666666,
              "#ed7953"
             ],
             [
              0.7777777777777778,
              "#fb9f3a"
             ],
             [
              0.8888888888888888,
              "#fdca26"
             ],
             [
              1,
              "#f0f921"
             ]
            ],
            "type": "surface"
           }
          ],
          "table": [
           {
            "cells": {
             "fill": {
              "color": "#EBF0F8"
             },
             "line": {
              "color": "white"
             }
            },
            "header": {
             "fill": {
              "color": "#C8D4E3"
             },
             "line": {
              "color": "white"
             }
            },
            "type": "table"
           }
          ]
         },
         "layout": {
          "annotationdefaults": {
           "arrowcolor": "#2a3f5f",
           "arrowhead": 0,
           "arrowwidth": 1
          },
          "coloraxis": {
           "colorbar": {
            "outlinewidth": 0,
            "ticks": ""
           }
          },
          "colorscale": {
           "diverging": [
            [
             0,
             "#8e0152"
            ],
            [
             0.1,
             "#c51b7d"
            ],
            [
             0.2,
             "#de77ae"
            ],
            [
             0.3,
             "#f1b6da"
            ],
            [
             0.4,
             "#fde0ef"
            ],
            [
             0.5,
             "#f7f7f7"
            ],
            [
             0.6,
             "#e6f5d0"
            ],
            [
             0.7,
             "#b8e186"
            ],
            [
             0.8,
             "#7fbc41"
            ],
            [
             0.9,
             "#4d9221"
            ],
            [
             1,
             "#276419"
            ]
           ],
           "sequential": [
            [
             0,
             "#0d0887"
            ],
            [
             0.1111111111111111,
             "#46039f"
            ],
            [
             0.2222222222222222,
             "#7201a8"
            ],
            [
             0.3333333333333333,
             "#9c179e"
            ],
            [
             0.4444444444444444,
             "#bd3786"
            ],
            [
             0.5555555555555556,
             "#d8576b"
            ],
            [
             0.6666666666666666,
             "#ed7953"
            ],
            [
             0.7777777777777778,
             "#fb9f3a"
            ],
            [
             0.8888888888888888,
             "#fdca26"
            ],
            [
             1,
             "#f0f921"
            ]
           ],
           "sequentialminus": [
            [
             0,
             "#0d0887"
            ],
            [
             0.1111111111111111,
             "#46039f"
            ],
            [
             0.2222222222222222,
             "#7201a8"
            ],
            [
             0.3333333333333333,
             "#9c179e"
            ],
            [
             0.4444444444444444,
             "#bd3786"
            ],
            [
             0.5555555555555556,
             "#d8576b"
            ],
            [
             0.6666666666666666,
             "#ed7953"
            ],
            [
             0.7777777777777778,
             "#fb9f3a"
            ],
            [
             0.8888888888888888,
             "#fdca26"
            ],
            [
             1,
             "#f0f921"
            ]
           ]
          },
          "colorway": [
           "#636efa",
           "#EF553B",
           "#00cc96",
           "#ab63fa",
           "#FFA15A",
           "#19d3f3",
           "#FF6692",
           "#B6E880",
           "#FF97FF",
           "#FECB52"
          ],
          "font": {
           "color": "#2a3f5f"
          },
          "geo": {
           "bgcolor": "white",
           "lakecolor": "white",
           "landcolor": "#E5ECF6",
           "showlakes": true,
           "showland": true,
           "subunitcolor": "white"
          },
          "hoverlabel": {
           "align": "left"
          },
          "hovermode": "closest",
          "mapbox": {
           "style": "light"
          },
          "paper_bgcolor": "white",
          "plot_bgcolor": "#E5ECF6",
          "polar": {
           "angularaxis": {
            "gridcolor": "white",
            "linecolor": "white",
            "ticks": ""
           },
           "bgcolor": "#E5ECF6",
           "radialaxis": {
            "gridcolor": "white",
            "linecolor": "white",
            "ticks": ""
           }
          },
          "scene": {
           "xaxis": {
            "backgroundcolor": "#E5ECF6",
            "gridcolor": "white",
            "gridwidth": 2,
            "linecolor": "white",
            "showbackground": true,
            "ticks": "",
            "zerolinecolor": "white"
           },
           "yaxis": {
            "backgroundcolor": "#E5ECF6",
            "gridcolor": "white",
            "gridwidth": 2,
            "linecolor": "white",
            "showbackground": true,
            "ticks": "",
            "zerolinecolor": "white"
           },
           "zaxis": {
            "backgroundcolor": "#E5ECF6",
            "gridcolor": "white",
            "gridwidth": 2,
            "linecolor": "white",
            "showbackground": true,
            "ticks": "",
            "zerolinecolor": "white"
           }
          },
          "shapedefaults": {
           "line": {
            "color": "#2a3f5f"
           }
          },
          "ternary": {
           "aaxis": {
            "gridcolor": "white",
            "linecolor": "white",
            "ticks": ""
           },
           "baxis": {
            "gridcolor": "white",
            "linecolor": "white",
            "ticks": ""
           },
           "bgcolor": "#E5ECF6",
           "caxis": {
            "gridcolor": "white",
            "linecolor": "white",
            "ticks": ""
           }
          },
          "title": {
           "x": 0.05
          },
          "xaxis": {
           "automargin": true,
           "gridcolor": "white",
           "linecolor": "white",
           "ticks": "",
           "title": {
            "standoff": 15
           },
           "zerolinecolor": "white",
           "zerolinewidth": 2
          },
          "yaxis": {
           "automargin": true,
           "gridcolor": "white",
           "linecolor": "white",
           "ticks": "",
           "title": {
            "standoff": 15
           },
           "zerolinecolor": "white",
           "zerolinewidth": 2
          }
         }
        },
        "title": {
         "text": "Anaemia bar chart"
        },
        "width": 600
       }
      }
     },
     "metadata": {}
    }
   ],
   "source": [
    "fig = px.pie(\n",
    "    da, \n",
    "    values='count',\n",
    "    names='anaemia',\n",
    "    title='Anaemia bar chart',\n",
    "    width=WIDTH,\n",
    "    height=HEIGHT\n",
    ")\n",
    "\n",
    "fig"
   ]
  },
  {
   "cell_type": "code",
   "execution_count": 14,
   "metadata": {},
   "outputs": [
    {
     "output_type": "execute_result",
     "data": {
      "text/plain": [
       "0    194\n",
       "1    105\n",
       "Name: high_blood_pressure, dtype: int64"
      ]
     },
     "metadata": {},
     "execution_count": 14
    }
   ],
   "source": [
    "df['high_blood_pressure'].value_counts()"
   ]
  },
  {
   "cell_type": "code",
   "execution_count": 15,
   "metadata": {},
   "outputs": [
    {
     "output_type": "execute_result",
     "data": {
      "text/plain": [
       "   index  high_blood_pressure\n",
       "0      0                  194\n",
       "1      1                  105"
      ],
      "text/html": "<div>\n<style scoped>\n    .dataframe tbody tr th:only-of-type {\n        vertical-align: middle;\n    }\n\n    .dataframe tbody tr th {\n        vertical-align: top;\n    }\n\n    .dataframe thead th {\n        text-align: right;\n    }\n</style>\n<table border=\"1\" class=\"dataframe\">\n  <thead>\n    <tr style=\"text-align: right;\">\n      <th></th>\n      <th>index</th>\n      <th>high_blood_pressure</th>\n    </tr>\n  </thead>\n  <tbody>\n    <tr>\n      <th>0</th>\n      <td>0</td>\n      <td>194</td>\n    </tr>\n    <tr>\n      <th>1</th>\n      <td>1</td>\n      <td>105</td>\n    </tr>\n  </tbody>\n</table>\n</div>"
     },
     "metadata": {},
     "execution_count": 15
    }
   ],
   "source": [
    "dbp = df['high_blood_pressure'].value_counts().reset_index()\n",
    "dbp"
   ]
  },
  {
   "cell_type": "code",
   "execution_count": 17,
   "metadata": {},
   "outputs": [
    {
     "output_type": "execute_result",
     "data": {
      "text/plain": [
       "   high_blood_pressure  count\n",
       "0                    0    194\n",
       "1                    1    105"
      ],
      "text/html": "<div>\n<style scoped>\n    .dataframe tbody tr th:only-of-type {\n        vertical-align: middle;\n    }\n\n    .dataframe tbody tr th {\n        vertical-align: top;\n    }\n\n    .dataframe thead th {\n        text-align: right;\n    }\n</style>\n<table border=\"1\" class=\"dataframe\">\n  <thead>\n    <tr style=\"text-align: right;\">\n      <th></th>\n      <th>high_blood_pressure</th>\n      <th>count</th>\n    </tr>\n  </thead>\n  <tbody>\n    <tr>\n      <th>0</th>\n      <td>0</td>\n      <td>194</td>\n    </tr>\n    <tr>\n      <th>1</th>\n      <td>1</td>\n      <td>105</td>\n    </tr>\n  </tbody>\n</table>\n</div>"
     },
     "metadata": {},
     "execution_count": 17
    }
   ],
   "source": [
    "dbp.columns = ['high_blood_pressure', 'count']\n",
    "dbp.head()"
   ]
  },
  {
   "cell_type": "code",
   "execution_count": 18,
   "metadata": {},
   "outputs": [
    {
     "output_type": "display_data",
     "data": {
      "application/vnd.plotly.v1+json": {
       "config": {
        "plotlyServerURL": "https://plot.ly"
       },
       "data": [
        {
         "domain": {
          "x": [
           0,
           1
          ],
          "y": [
           0,
           1
          ]
         },
         "hovertemplate": "high_blood_pressure=%{label}<br>count=%{value}<extra></extra>",
         "labels": [
          0,
          1
         ],
         "legendgroup": "",
         "name": "",
         "showlegend": true,
         "type": "pie",
         "values": [
          194,
          105
         ]
        }
       ],
       "layout": {
        "height": 400,
        "legend": {
         "tracegroupgap": 0
        },
        "template": {
         "data": {
          "bar": [
           {
            "error_x": {
             "color": "#2a3f5f"
            },
            "error_y": {
             "color": "#2a3f5f"
            },
            "marker": {
             "line": {
              "color": "#E5ECF6",
              "width": 0.5
             }
            },
            "type": "bar"
           }
          ],
          "barpolar": [
           {
            "marker": {
             "line": {
              "color": "#E5ECF6",
              "width": 0.5
             }
            },
            "type": "barpolar"
           }
          ],
          "carpet": [
           {
            "aaxis": {
             "endlinecolor": "#2a3f5f",
             "gridcolor": "white",
             "linecolor": "white",
             "minorgridcolor": "white",
             "startlinecolor": "#2a3f5f"
            },
            "baxis": {
             "endlinecolor": "#2a3f5f",
             "gridcolor": "white",
             "linecolor": "white",
             "minorgridcolor": "white",
             "startlinecolor": "#2a3f5f"
            },
            "type": "carpet"
           }
          ],
          "choropleth": [
           {
            "colorbar": {
             "outlinewidth": 0,
             "ticks": ""
            },
            "type": "choropleth"
           }
          ],
          "contour": [
           {
            "colorbar": {
             "outlinewidth": 0,
             "ticks": ""
            },
            "colorscale": [
             [
              0,
              "#0d0887"
             ],
             [
              0.1111111111111111,
              "#46039f"
             ],
             [
              0.2222222222222222,
              "#7201a8"
             ],
             [
              0.3333333333333333,
              "#9c179e"
             ],
             [
              0.4444444444444444,
              "#bd3786"
             ],
             [
              0.5555555555555556,
              "#d8576b"
             ],
             [
              0.6666666666666666,
              "#ed7953"
             ],
             [
              0.7777777777777778,
              "#fb9f3a"
             ],
             [
              0.8888888888888888,
              "#fdca26"
             ],
             [
              1,
              "#f0f921"
             ]
            ],
            "type": "contour"
           }
          ],
          "contourcarpet": [
           {
            "colorbar": {
             "outlinewidth": 0,
             "ticks": ""
            },
            "type": "contourcarpet"
           }
          ],
          "heatmap": [
           {
            "colorbar": {
             "outlinewidth": 0,
             "ticks": ""
            },
            "colorscale": [
             [
              0,
              "#0d0887"
             ],
             [
              0.1111111111111111,
              "#46039f"
             ],
             [
              0.2222222222222222,
              "#7201a8"
             ],
             [
              0.3333333333333333,
              "#9c179e"
             ],
             [
              0.4444444444444444,
              "#bd3786"
             ],
             [
              0.5555555555555556,
              "#d8576b"
             ],
             [
              0.6666666666666666,
              "#ed7953"
             ],
             [
              0.7777777777777778,
              "#fb9f3a"
             ],
             [
              0.8888888888888888,
              "#fdca26"
             ],
             [
              1,
              "#f0f921"
             ]
            ],
            "type": "heatmap"
           }
          ],
          "heatmapgl": [
           {
            "colorbar": {
             "outlinewidth": 0,
             "ticks": ""
            },
            "colorscale": [
             [
              0,
              "#0d0887"
             ],
             [
              0.1111111111111111,
              "#46039f"
             ],
             [
              0.2222222222222222,
              "#7201a8"
             ],
             [
              0.3333333333333333,
              "#9c179e"
             ],
             [
              0.4444444444444444,
              "#bd3786"
             ],
             [
              0.5555555555555556,
              "#d8576b"
             ],
             [
              0.6666666666666666,
              "#ed7953"
             ],
             [
              0.7777777777777778,
              "#fb9f3a"
             ],
             [
              0.8888888888888888,
              "#fdca26"
             ],
             [
              1,
              "#f0f921"
             ]
            ],
            "type": "heatmapgl"
           }
          ],
          "histogram": [
           {
            "marker": {
             "colorbar": {
              "outlinewidth": 0,
              "ticks": ""
             }
            },
            "type": "histogram"
           }
          ],
          "histogram2d": [
           {
            "colorbar": {
             "outlinewidth": 0,
             "ticks": ""
            },
            "colorscale": [
             [
              0,
              "#0d0887"
             ],
             [
              0.1111111111111111,
              "#46039f"
             ],
             [
              0.2222222222222222,
              "#7201a8"
             ],
             [
              0.3333333333333333,
              "#9c179e"
             ],
             [
              0.4444444444444444,
              "#bd3786"
             ],
             [
              0.5555555555555556,
              "#d8576b"
             ],
             [
              0.6666666666666666,
              "#ed7953"
             ],
             [
              0.7777777777777778,
              "#fb9f3a"
             ],
             [
              0.8888888888888888,
              "#fdca26"
             ],
             [
              1,
              "#f0f921"
             ]
            ],
            "type": "histogram2d"
           }
          ],
          "histogram2dcontour": [
           {
            "colorbar": {
             "outlinewidth": 0,
             "ticks": ""
            },
            "colorscale": [
             [
              0,
              "#0d0887"
             ],
             [
              0.1111111111111111,
              "#46039f"
             ],
             [
              0.2222222222222222,
              "#7201a8"
             ],
             [
              0.3333333333333333,
              "#9c179e"
             ],
             [
              0.4444444444444444,
              "#bd3786"
             ],
             [
              0.5555555555555556,
              "#d8576b"
             ],
             [
              0.6666666666666666,
              "#ed7953"
             ],
             [
              0.7777777777777778,
              "#fb9f3a"
             ],
             [
              0.8888888888888888,
              "#fdca26"
             ],
             [
              1,
              "#f0f921"
             ]
            ],
            "type": "histogram2dcontour"
           }
          ],
          "mesh3d": [
           {
            "colorbar": {
             "outlinewidth": 0,
             "ticks": ""
            },
            "type": "mesh3d"
           }
          ],
          "parcoords": [
           {
            "line": {
             "colorbar": {
              "outlinewidth": 0,
              "ticks": ""
             }
            },
            "type": "parcoords"
           }
          ],
          "pie": [
           {
            "automargin": true,
            "type": "pie"
           }
          ],
          "scatter": [
           {
            "marker": {
             "colorbar": {
              "outlinewidth": 0,
              "ticks": ""
             }
            },
            "type": "scatter"
           }
          ],
          "scatter3d": [
           {
            "line": {
             "colorbar": {
              "outlinewidth": 0,
              "ticks": ""
             }
            },
            "marker": {
             "colorbar": {
              "outlinewidth": 0,
              "ticks": ""
             }
            },
            "type": "scatter3d"
           }
          ],
          "scattercarpet": [
           {
            "marker": {
             "colorbar": {
              "outlinewidth": 0,
              "ticks": ""
             }
            },
            "type": "scattercarpet"
           }
          ],
          "scattergeo": [
           {
            "marker": {
             "colorbar": {
              "outlinewidth": 0,
              "ticks": ""
             }
            },
            "type": "scattergeo"
           }
          ],
          "scattergl": [
           {
            "marker": {
             "colorbar": {
              "outlinewidth": 0,
              "ticks": ""
             }
            },
            "type": "scattergl"
           }
          ],
          "scattermapbox": [
           {
            "marker": {
             "colorbar": {
              "outlinewidth": 0,
              "ticks": ""
             }
            },
            "type": "scattermapbox"
           }
          ],
          "scatterpolar": [
           {
            "marker": {
             "colorbar": {
              "outlinewidth": 0,
              "ticks": ""
             }
            },
            "type": "scatterpolar"
           }
          ],
          "scatterpolargl": [
           {
            "marker": {
             "colorbar": {
              "outlinewidth": 0,
              "ticks": ""
             }
            },
            "type": "scatterpolargl"
           }
          ],
          "scatterternary": [
           {
            "marker": {
             "colorbar": {
              "outlinewidth": 0,
              "ticks": ""
             }
            },
            "type": "scatterternary"
           }
          ],
          "surface": [
           {
            "colorbar": {
             "outlinewidth": 0,
             "ticks": ""
            },
            "colorscale": [
             [
              0,
              "#0d0887"
             ],
             [
              0.1111111111111111,
              "#46039f"
             ],
             [
              0.2222222222222222,
              "#7201a8"
             ],
             [
              0.3333333333333333,
              "#9c179e"
             ],
             [
              0.4444444444444444,
              "#bd3786"
             ],
             [
              0.5555555555555556,
              "#d8576b"
             ],
             [
              0.6666666666666666,
              "#ed7953"
             ],
             [
              0.7777777777777778,
              "#fb9f3a"
             ],
             [
              0.8888888888888888,
              "#fdca26"
             ],
             [
              1,
              "#f0f921"
             ]
            ],
            "type": "surface"
           }
          ],
          "table": [
           {
            "cells": {
             "fill": {
              "color": "#EBF0F8"
             },
             "line": {
              "color": "white"
             }
            },
            "header": {
             "fill": {
              "color": "#C8D4E3"
             },
             "line": {
              "color": "white"
             }
            },
            "type": "table"
           }
          ]
         },
         "layout": {
          "annotationdefaults": {
           "arrowcolor": "#2a3f5f",
           "arrowhead": 0,
           "arrowwidth": 1
          },
          "coloraxis": {
           "colorbar": {
            "outlinewidth": 0,
            "ticks": ""
           }
          },
          "colorscale": {
           "diverging": [
            [
             0,
             "#8e0152"
            ],
            [
             0.1,
             "#c51b7d"
            ],
            [
             0.2,
             "#de77ae"
            ],
            [
             0.3,
             "#f1b6da"
            ],
            [
             0.4,
             "#fde0ef"
            ],
            [
             0.5,
             "#f7f7f7"
            ],
            [
             0.6,
             "#e6f5d0"
            ],
            [
             0.7,
             "#b8e186"
            ],
            [
             0.8,
             "#7fbc41"
            ],
            [
             0.9,
             "#4d9221"
            ],
            [
             1,
             "#276419"
            ]
           ],
           "sequential": [
            [
             0,
             "#0d0887"
            ],
            [
             0.1111111111111111,
             "#46039f"
            ],
            [
             0.2222222222222222,
             "#7201a8"
            ],
            [
             0.3333333333333333,
             "#9c179e"
            ],
            [
             0.4444444444444444,
             "#bd3786"
            ],
            [
             0.5555555555555556,
             "#d8576b"
            ],
            [
             0.6666666666666666,
             "#ed7953"
            ],
            [
             0.7777777777777778,
             "#fb9f3a"
            ],
            [
             0.8888888888888888,
             "#fdca26"
            ],
            [
             1,
             "#f0f921"
            ]
           ],
           "sequentialminus": [
            [
             0,
             "#0d0887"
            ],
            [
             0.1111111111111111,
             "#46039f"
            ],
            [
             0.2222222222222222,
             "#7201a8"
            ],
            [
             0.3333333333333333,
             "#9c179e"
            ],
            [
             0.4444444444444444,
             "#bd3786"
            ],
            [
             0.5555555555555556,
             "#d8576b"
            ],
            [
             0.6666666666666666,
             "#ed7953"
            ],
            [
             0.7777777777777778,
             "#fb9f3a"
            ],
            [
             0.8888888888888888,
             "#fdca26"
            ],
            [
             1,
             "#f0f921"
            ]
           ]
          },
          "colorway": [
           "#636efa",
           "#EF553B",
           "#00cc96",
           "#ab63fa",
           "#FFA15A",
           "#19d3f3",
           "#FF6692",
           "#B6E880",
           "#FF97FF",
           "#FECB52"
          ],
          "font": {
           "color": "#2a3f5f"
          },
          "geo": {
           "bgcolor": "white",
           "lakecolor": "white",
           "landcolor": "#E5ECF6",
           "showlakes": true,
           "showland": true,
           "subunitcolor": "white"
          },
          "hoverlabel": {
           "align": "left"
          },
          "hovermode": "closest",
          "mapbox": {
           "style": "light"
          },
          "paper_bgcolor": "white",
          "plot_bgcolor": "#E5ECF6",
          "polar": {
           "angularaxis": {
            "gridcolor": "white",
            "linecolor": "white",
            "ticks": ""
           },
           "bgcolor": "#E5ECF6",
           "radialaxis": {
            "gridcolor": "white",
            "linecolor": "white",
            "ticks": ""
           }
          },
          "scene": {
           "xaxis": {
            "backgroundcolor": "#E5ECF6",
            "gridcolor": "white",
            "gridwidth": 2,
            "linecolor": "white",
            "showbackground": true,
            "ticks": "",
            "zerolinecolor": "white"
           },
           "yaxis": {
            "backgroundcolor": "#E5ECF6",
            "gridcolor": "white",
            "gridwidth": 2,
            "linecolor": "white",
            "showbackground": true,
            "ticks": "",
            "zerolinecolor": "white"
           },
           "zaxis": {
            "backgroundcolor": "#E5ECF6",
            "gridcolor": "white",
            "gridwidth": 2,
            "linecolor": "white",
            "showbackground": true,
            "ticks": "",
            "zerolinecolor": "white"
           }
          },
          "shapedefaults": {
           "line": {
            "color": "#2a3f5f"
           }
          },
          "ternary": {
           "aaxis": {
            "gridcolor": "white",
            "linecolor": "white",
            "ticks": ""
           },
           "baxis": {
            "gridcolor": "white",
            "linecolor": "white",
            "ticks": ""
           },
           "bgcolor": "#E5ECF6",
           "caxis": {
            "gridcolor": "white",
            "linecolor": "white",
            "ticks": ""
           }
          },
          "title": {
           "x": 0.05
          },
          "xaxis": {
           "automargin": true,
           "gridcolor": "white",
           "linecolor": "white",
           "ticks": "",
           "title": {
            "standoff": 15
           },
           "zerolinecolor": "white",
           "zerolinewidth": 2
          },
          "yaxis": {
           "automargin": true,
           "gridcolor": "white",
           "linecolor": "white",
           "ticks": "",
           "title": {
            "standoff": 15
           },
           "zerolinecolor": "white",
           "zerolinewidth": 2
          }
         }
        },
        "title": {
         "text": "High blood pressure bar chart"
        },
        "width": 600
       }
      }
     },
     "metadata": {}
    }
   ],
   "source": [
    "fig = px.pie(\n",
    "    dbp, \n",
    "    values='count', \n",
    "    names=\"high_blood_pressure\", \n",
    "    title='High blood pressure bar chart', \n",
    "    width=WIDTH, \n",
    "    height=HEIGHT\n",
    ")\n",
    "\n",
    "fig"
   ]
  },
  {
   "cell_type": "code",
   "execution_count": 19,
   "metadata": {},
   "outputs": [
    {
     "output_type": "display_data",
     "data": {
      "application/vnd.plotly.v1+json": {
       "config": {
        "plotlyServerURL": "https://plot.ly"
       },
       "data": [
        {
         "labels": [
          "High blood pressure - Survived",
          "High blood pressure - Not Survived",
          "No High blood pressure - Survived",
          "No High blood pressure - Not Survived"
         ],
         "type": "pie",
         "values": [
          66,
          39,
          137,
          57
         ]
        }
       ],
       "layout": {
        "template": {
         "data": {
          "bar": [
           {
            "error_x": {
             "color": "#2a3f5f"
            },
            "error_y": {
             "color": "#2a3f5f"
            },
            "marker": {
             "line": {
              "color": "#E5ECF6",
              "width": 0.5
             }
            },
            "type": "bar"
           }
          ],
          "barpolar": [
           {
            "marker": {
             "line": {
              "color": "#E5ECF6",
              "width": 0.5
             }
            },
            "type": "barpolar"
           }
          ],
          "carpet": [
           {
            "aaxis": {
             "endlinecolor": "#2a3f5f",
             "gridcolor": "white",
             "linecolor": "white",
             "minorgridcolor": "white",
             "startlinecolor": "#2a3f5f"
            },
            "baxis": {
             "endlinecolor": "#2a3f5f",
             "gridcolor": "white",
             "linecolor": "white",
             "minorgridcolor": "white",
             "startlinecolor": "#2a3f5f"
            },
            "type": "carpet"
           }
          ],
          "choropleth": [
           {
            "colorbar": {
             "outlinewidth": 0,
             "ticks": ""
            },
            "type": "choropleth"
           }
          ],
          "contour": [
           {
            "colorbar": {
             "outlinewidth": 0,
             "ticks": ""
            },
            "colorscale": [
             [
              0,
              "#0d0887"
             ],
             [
              0.1111111111111111,
              "#46039f"
             ],
             [
              0.2222222222222222,
              "#7201a8"
             ],
             [
              0.3333333333333333,
              "#9c179e"
             ],
             [
              0.4444444444444444,
              "#bd3786"
             ],
             [
              0.5555555555555556,
              "#d8576b"
             ],
             [
              0.6666666666666666,
              "#ed7953"
             ],
             [
              0.7777777777777778,
              "#fb9f3a"
             ],
             [
              0.8888888888888888,
              "#fdca26"
             ],
             [
              1,
              "#f0f921"
             ]
            ],
            "type": "contour"
           }
          ],
          "contourcarpet": [
           {
            "colorbar": {
             "outlinewidth": 0,
             "ticks": ""
            },
            "type": "contourcarpet"
           }
          ],
          "heatmap": [
           {
            "colorbar": {
             "outlinewidth": 0,
             "ticks": ""
            },
            "colorscale": [
             [
              0,
              "#0d0887"
             ],
             [
              0.1111111111111111,
              "#46039f"
             ],
             [
              0.2222222222222222,
              "#7201a8"
             ],
             [
              0.3333333333333333,
              "#9c179e"
             ],
             [
              0.4444444444444444,
              "#bd3786"
             ],
             [
              0.5555555555555556,
              "#d8576b"
             ],
             [
              0.6666666666666666,
              "#ed7953"
             ],
             [
              0.7777777777777778,
              "#fb9f3a"
             ],
             [
              0.8888888888888888,
              "#fdca26"
             ],
             [
              1,
              "#f0f921"
             ]
            ],
            "type": "heatmap"
           }
          ],
          "heatmapgl": [
           {
            "colorbar": {
             "outlinewidth": 0,
             "ticks": ""
            },
            "colorscale": [
             [
              0,
              "#0d0887"
             ],
             [
              0.1111111111111111,
              "#46039f"
             ],
             [
              0.2222222222222222,
              "#7201a8"
             ],
             [
              0.3333333333333333,
              "#9c179e"
             ],
             [
              0.4444444444444444,
              "#bd3786"
             ],
             [
              0.5555555555555556,
              "#d8576b"
             ],
             [
              0.6666666666666666,
              "#ed7953"
             ],
             [
              0.7777777777777778,
              "#fb9f3a"
             ],
             [
              0.8888888888888888,
              "#fdca26"
             ],
             [
              1,
              "#f0f921"
             ]
            ],
            "type": "heatmapgl"
           }
          ],
          "histogram": [
           {
            "marker": {
             "colorbar": {
              "outlinewidth": 0,
              "ticks": ""
             }
            },
            "type": "histogram"
           }
          ],
          "histogram2d": [
           {
            "colorbar": {
             "outlinewidth": 0,
             "ticks": ""
            },
            "colorscale": [
             [
              0,
              "#0d0887"
             ],
             [
              0.1111111111111111,
              "#46039f"
             ],
             [
              0.2222222222222222,
              "#7201a8"
             ],
             [
              0.3333333333333333,
              "#9c179e"
             ],
             [
              0.4444444444444444,
              "#bd3786"
             ],
             [
              0.5555555555555556,
              "#d8576b"
             ],
             [
              0.6666666666666666,
              "#ed7953"
             ],
             [
              0.7777777777777778,
              "#fb9f3a"
             ],
             [
              0.8888888888888888,
              "#fdca26"
             ],
             [
              1,
              "#f0f921"
             ]
            ],
            "type": "histogram2d"
           }
          ],
          "histogram2dcontour": [
           {
            "colorbar": {
             "outlinewidth": 0,
             "ticks": ""
            },
            "colorscale": [
             [
              0,
              "#0d0887"
             ],
             [
              0.1111111111111111,
              "#46039f"
             ],
             [
              0.2222222222222222,
              "#7201a8"
             ],
             [
              0.3333333333333333,
              "#9c179e"
             ],
             [
              0.4444444444444444,
              "#bd3786"
             ],
             [
              0.5555555555555556,
              "#d8576b"
             ],
             [
              0.6666666666666666,
              "#ed7953"
             ],
             [
              0.7777777777777778,
              "#fb9f3a"
             ],
             [
              0.8888888888888888,
              "#fdca26"
             ],
             [
              1,
              "#f0f921"
             ]
            ],
            "type": "histogram2dcontour"
           }
          ],
          "mesh3d": [
           {
            "colorbar": {
             "outlinewidth": 0,
             "ticks": ""
            },
            "type": "mesh3d"
           }
          ],
          "parcoords": [
           {
            "line": {
             "colorbar": {
              "outlinewidth": 0,
              "ticks": ""
             }
            },
            "type": "parcoords"
           }
          ],
          "pie": [
           {
            "automargin": true,
            "type": "pie"
           }
          ],
          "scatter": [
           {
            "marker": {
             "colorbar": {
              "outlinewidth": 0,
              "ticks": ""
             }
            },
            "type": "scatter"
           }
          ],
          "scatter3d": [
           {
            "line": {
             "colorbar": {
              "outlinewidth": 0,
              "ticks": ""
             }
            },
            "marker": {
             "colorbar": {
              "outlinewidth": 0,
              "ticks": ""
             }
            },
            "type": "scatter3d"
           }
          ],
          "scattercarpet": [
           {
            "marker": {
             "colorbar": {
              "outlinewidth": 0,
              "ticks": ""
             }
            },
            "type": "scattercarpet"
           }
          ],
          "scattergeo": [
           {
            "marker": {
             "colorbar": {
              "outlinewidth": 0,
              "ticks": ""
             }
            },
            "type": "scattergeo"
           }
          ],
          "scattergl": [
           {
            "marker": {
             "colorbar": {
              "outlinewidth": 0,
              "ticks": ""
             }
            },
            "type": "scattergl"
           }
          ],
          "scattermapbox": [
           {
            "marker": {
             "colorbar": {
              "outlinewidth": 0,
              "ticks": ""
             }
            },
            "type": "scattermapbox"
           }
          ],
          "scatterpolar": [
           {
            "marker": {
             "colorbar": {
              "outlinewidth": 0,
              "ticks": ""
             }
            },
            "type": "scatterpolar"
           }
          ],
          "scatterpolargl": [
           {
            "marker": {
             "colorbar": {
              "outlinewidth": 0,
              "ticks": ""
             }
            },
            "type": "scatterpolargl"
           }
          ],
          "scatterternary": [
           {
            "marker": {
             "colorbar": {
              "outlinewidth": 0,
              "ticks": ""
             }
            },
            "type": "scatterternary"
           }
          ],
          "surface": [
           {
            "colorbar": {
             "outlinewidth": 0,
             "ticks": ""
            },
            "colorscale": [
             [
              0,
              "#0d0887"
             ],
             [
              0.1111111111111111,
              "#46039f"
             ],
             [
              0.2222222222222222,
              "#7201a8"
             ],
             [
              0.3333333333333333,
              "#9c179e"
             ],
             [
              0.4444444444444444,
              "#bd3786"
             ],
             [
              0.5555555555555556,
              "#d8576b"
             ],
             [
              0.6666666666666666,
              "#ed7953"
             ],
             [
              0.7777777777777778,
              "#fb9f3a"
             ],
             [
              0.8888888888888888,
              "#fdca26"
             ],
             [
              1,
              "#f0f921"
             ]
            ],
            "type": "surface"
           }
          ],
          "table": [
           {
            "cells": {
             "fill": {
              "color": "#EBF0F8"
             },
             "line": {
              "color": "white"
             }
            },
            "header": {
             "fill": {
              "color": "#C8D4E3"
             },
             "line": {
              "color": "white"
             }
            },
            "type": "table"
           }
          ]
         },
         "layout": {
          "annotationdefaults": {
           "arrowcolor": "#2a3f5f",
           "arrowhead": 0,
           "arrowwidth": 1
          },
          "coloraxis": {
           "colorbar": {
            "outlinewidth": 0,
            "ticks": ""
           }
          },
          "colorscale": {
           "diverging": [
            [
             0,
             "#8e0152"
            ],
            [
             0.1,
             "#c51b7d"
            ],
            [
             0.2,
             "#de77ae"
            ],
            [
             0.3,
             "#f1b6da"
            ],
            [
             0.4,
             "#fde0ef"
            ],
            [
             0.5,
             "#f7f7f7"
            ],
            [
             0.6,
             "#e6f5d0"
            ],
            [
             0.7,
             "#b8e186"
            ],
            [
             0.8,
             "#7fbc41"
            ],
            [
             0.9,
             "#4d9221"
            ],
            [
             1,
             "#276419"
            ]
           ],
           "sequential": [
            [
             0,
             "#0d0887"
            ],
            [
             0.1111111111111111,
             "#46039f"
            ],
            [
             0.2222222222222222,
             "#7201a8"
            ],
            [
             0.3333333333333333,
             "#9c179e"
            ],
            [
             0.4444444444444444,
             "#bd3786"
            ],
            [
             0.5555555555555556,
             "#d8576b"
            ],
            [
             0.6666666666666666,
             "#ed7953"
            ],
            [
             0.7777777777777778,
             "#fb9f3a"
            ],
            [
             0.8888888888888888,
             "#fdca26"
            ],
            [
             1,
             "#f0f921"
            ]
           ],
           "sequentialminus": [
            [
             0,
             "#0d0887"
            ],
            [
             0.1111111111111111,
             "#46039f"
            ],
            [
             0.2222222222222222,
             "#7201a8"
            ],
            [
             0.3333333333333333,
             "#9c179e"
            ],
            [
             0.4444444444444444,
             "#bd3786"
            ],
            [
             0.5555555555555556,
             "#d8576b"
            ],
            [
             0.6666666666666666,
             "#ed7953"
            ],
            [
             0.7777777777777778,
             "#fb9f3a"
            ],
            [
             0.8888888888888888,
             "#fdca26"
            ],
            [
             1,
             "#f0f921"
            ]
           ]
          },
          "colorway": [
           "#636efa",
           "#EF553B",
           "#00cc96",
           "#ab63fa",
           "#FFA15A",
           "#19d3f3",
           "#FF6692",
           "#B6E880",
           "#FF97FF",
           "#FECB52"
          ],
          "font": {
           "color": "#2a3f5f"
          },
          "geo": {
           "bgcolor": "white",
           "lakecolor": "white",
           "landcolor": "#E5ECF6",
           "showlakes": true,
           "showland": true,
           "subunitcolor": "white"
          },
          "hoverlabel": {
           "align": "left"
          },
          "hovermode": "closest",
          "mapbox": {
           "style": "light"
          },
          "paper_bgcolor": "white",
          "plot_bgcolor": "#E5ECF6",
          "polar": {
           "angularaxis": {
            "gridcolor": "white",
            "linecolor": "white",
            "ticks": ""
           },
           "bgcolor": "#E5ECF6",
           "radialaxis": {
            "gridcolor": "white",
            "linecolor": "white",
            "ticks": ""
           }
          },
          "scene": {
           "xaxis": {
            "backgroundcolor": "#E5ECF6",
            "gridcolor": "white",
            "gridwidth": 2,
            "linecolor": "white",
            "showbackground": true,
            "ticks": "",
            "zerolinecolor": "white"
           },
           "yaxis": {
            "backgroundcolor": "#E5ECF6",
            "gridcolor": "white",
            "gridwidth": 2,
            "linecolor": "white",
            "showbackground": true,
            "ticks": "",
            "zerolinecolor": "white"
           },
           "zaxis": {
            "backgroundcolor": "#E5ECF6",
            "gridcolor": "white",
            "gridwidth": 2,
            "linecolor": "white",
            "showbackground": true,
            "ticks": "",
            "zerolinecolor": "white"
           }
          },
          "shapedefaults": {
           "line": {
            "color": "#2a3f5f"
           }
          },
          "ternary": {
           "aaxis": {
            "gridcolor": "white",
            "linecolor": "white",
            "ticks": ""
           },
           "baxis": {
            "gridcolor": "white",
            "linecolor": "white",
            "ticks": ""
           },
           "bgcolor": "#E5ECF6",
           "caxis": {
            "gridcolor": "white",
            "linecolor": "white",
            "ticks": ""
           }
          },
          "title": {
           "x": 0.05
          },
          "xaxis": {
           "automargin": true,
           "gridcolor": "white",
           "linecolor": "white",
           "ticks": "",
           "title": {
            "standoff": 15
           },
           "zerolinecolor": "white",
           "zerolinewidth": 2
          },
          "yaxis": {
           "automargin": true,
           "gridcolor": "white",
           "linecolor": "white",
           "ticks": "",
           "title": {
            "standoff": 15
           },
           "zerolinecolor": "white",
           "zerolinewidth": 2
          }
         }
        },
        "title": {
         "text": "Analysis on Survival - High Blood Pressure"
        }
       }
      }
     },
     "metadata": {}
    }
   ],
   "source": [
    "# hbp / no hbp\n",
    "HBP = df[ df['high_blood_pressure']==1 ]\n",
    "noHBP = df[ df['high_blood_pressure']==0 ]\n",
    "\n",
    "# hbp survive / die \n",
    "HBPsurv = HBP[ df['DEATH_EVENT']==0 ]\n",
    "HBPdie = HBP[ df['DEATH_EVENT']==1 ]\n",
    "# no hbp survive / die\n",
    "noHBPsurv= noHBP[ df['DEATH_EVENT']==0 ]\n",
    "noHBPdie= noHBP[ df['DEATH_EVENT']==1 ]\n",
    "\n",
    "labels = ['High blood pressure - Survived', 'High blood pressure - Not Survived', 'No High blood pressure - Survived', 'No High blood pressure - Not Survived']\n",
    "\n",
    "values = [\n",
    "    len( HBP[df[\"DEATH_EVENT\"]==0] ), \n",
    "    len( HBP[df[\"DEATH_EVENT\"]==1] ),\n",
    "    len( noHBP[df[\"DEATH_EVENT\"]==0] ), \n",
    "    len( noHBP[df[\"DEATH_EVENT\"]==1] )\n",
    "    ]\n",
    "\n",
    "fig = go.Figure(data=[go.Pie(\n",
    "    labels=labels, \n",
    "    values=values,) #  hole=.2\n",
    "    ]) \n",
    "\n",
    "fig.update_layout(\n",
    "    title_text=\"Analysis on Survival - High Blood Pressure\") # title_text\n",
    "\n",
    "fig"
   ]
  },
  {
   "cell_type": "code",
   "execution_count": 20,
   "metadata": {},
   "outputs": [],
   "source": [
    "def plot_histogram(dataframe, column, color, bins, title, width=WIDTH, height=HEIGHT):\n",
    "    figure = px.histogram(\n",
    "        dataframe, \n",
    "        column, \n",
    "        color=color,\n",
    "        nbins=bins, \n",
    "        title=title, \n",
    "        width=width,\n",
    "        height=height\n",
    "    )\n",
    "    figure.show()"
   ]
  },
  {
   "cell_type": "code",
   "execution_count": 21,
   "metadata": {},
   "outputs": [
    {
     "output_type": "display_data",
     "data": {
      "application/vnd.plotly.v1+json": {
       "config": {
        "plotlyServerURL": "https://plot.ly"
       },
       "data": [
        {
         "alignmentgroup": "True",
         "bingroup": "x",
         "hovertemplate": "sex=1<br>age=%{x}<br>count=%{y}<extra></extra>",
         "legendgroup": "1",
         "marker": {
          "color": "#636efa"
         },
         "name": "1",
         "nbinsx": 50,
         "offsetgroup": "1",
         "orientation": "v",
         "showlegend": true,
         "type": "histogram",
         "x": [
          75,
          55,
          65,
          50,
          90,
          75,
          60,
          80,
          75,
          62,
          45,
          50,
          82,
          87,
          45,
          68,
          53,
          80,
          70,
          58,
          82,
          94,
          85,
          65,
          69,
          90,
          60,
          70,
          70,
          72,
          50,
          51,
          60,
          80,
          68,
          95,
          70,
          60,
          49,
          72,
          45,
          55,
          45,
          60,
          72,
          65,
          41,
          58,
          85,
          65,
          69,
          60,
          42,
          75,
          67,
          79,
          51,
          55,
          65,
          44,
          57,
          70,
          60,
          60,
          58,
          63,
          65,
          75,
          80,
          42,
          55,
          45,
          63,
          45,
          85,
          55,
          50,
          60,
          60,
          60,
          61,
          53,
          53,
          60,
          63,
          81,
          75,
          68,
          50,
          80,
          72,
          50,
          52,
          64,
          75,
          60,
          62,
          50,
          50,
          60,
          50,
          85,
          59,
          66,
          45,
          63,
          45,
          53,
          59,
          51,
          52,
          70,
          50,
          65,
          60,
          69,
          63,
          55,
          40,
          59,
          65,
          75,
          58,
          60.667,
          80,
          50,
          73,
          45,
          77,
          60,
          63,
          45,
          70,
          60,
          78,
          85,
          70,
          50,
          78,
          65,
          73,
          68,
          73,
          65,
          42,
          47,
          58,
          58,
          55,
          70,
          40,
          53,
          53,
          77,
          75,
          70,
          55,
          65,
          40,
          54,
          61,
          55,
          64,
          40,
          50,
          53,
          52,
          58,
          45,
          53,
          55,
          65,
          61,
          50,
          55,
          56,
          40,
          44,
          42,
          60,
          70,
          70,
          70,
          42,
          65,
          50,
          55,
          60,
          60,
          52,
          63,
          62,
          45,
          50
         ],
         "xaxis": "x",
         "yaxis": "y"
        },
        {
         "alignmentgroup": "True",
         "bingroup": "x",
         "hovertemplate": "sex=0<br>age=%{x}<br>count=%{y}<extra></extra>",
         "legendgroup": "0",
         "marker": {
          "color": "#EF553B"
         },
         "name": "0",
         "nbinsx": 50,
         "offsetgroup": "0",
         "orientation": "v",
         "showlegend": true,
         "type": "histogram",
         "x": [
          65,
          65,
          49,
          70,
          48,
          65,
          65,
          75,
          95,
          50,
          50,
          82,
          60,
          50,
          60,
          57,
          53,
          60,
          70,
          60,
          50,
          45,
          42,
          70,
          70,
          55,
          70,
          60,
          59,
          42,
          58,
          70,
          60,
          63,
          60,
          72,
          70,
          58,
          60,
          85,
          65,
          86,
          66,
          60,
          60,
          43,
          46,
          58,
          46,
          65,
          62,
          46,
          50,
          61,
          72,
          65,
          52,
          50,
          80,
          65,
          70,
          49,
          50,
          60,
          60.667,
          40,
          64,
          45,
          65,
          50,
          50,
          40,
          60,
          49,
          48,
          70,
          54,
          55,
          75,
          65,
          72,
          60,
          65,
          70,
          73,
          53,
          50,
          55,
          70,
          65,
          62,
          68,
          45,
          51,
          67,
          45,
          70,
          50,
          55,
          45,
          65,
          90,
          45,
          55,
          45
         ],
         "xaxis": "x",
         "yaxis": "y"
        }
       ],
       "layout": {
        "barmode": "relative",
        "height": 400,
        "legend": {
         "title": {
          "text": "sex"
         },
         "tracegroupgap": 0
        },
        "template": {
         "data": {
          "bar": [
           {
            "error_x": {
             "color": "#2a3f5f"
            },
            "error_y": {
             "color": "#2a3f5f"
            },
            "marker": {
             "line": {
              "color": "#E5ECF6",
              "width": 0.5
             }
            },
            "type": "bar"
           }
          ],
          "barpolar": [
           {
            "marker": {
             "line": {
              "color": "#E5ECF6",
              "width": 0.5
             }
            },
            "type": "barpolar"
           }
          ],
          "carpet": [
           {
            "aaxis": {
             "endlinecolor": "#2a3f5f",
             "gridcolor": "white",
             "linecolor": "white",
             "minorgridcolor": "white",
             "startlinecolor": "#2a3f5f"
            },
            "baxis": {
             "endlinecolor": "#2a3f5f",
             "gridcolor": "white",
             "linecolor": "white",
             "minorgridcolor": "white",
             "startlinecolor": "#2a3f5f"
            },
            "type": "carpet"
           }
          ],
          "choropleth": [
           {
            "colorbar": {
             "outlinewidth": 0,
             "ticks": ""
            },
            "type": "choropleth"
           }
          ],
          "contour": [
           {
            "colorbar": {
             "outlinewidth": 0,
             "ticks": ""
            },
            "colorscale": [
             [
              0,
              "#0d0887"
             ],
             [
              0.1111111111111111,
              "#46039f"
             ],
             [
              0.2222222222222222,
              "#7201a8"
             ],
             [
              0.3333333333333333,
              "#9c179e"
             ],
             [
              0.4444444444444444,
              "#bd3786"
             ],
             [
              0.5555555555555556,
              "#d8576b"
             ],
             [
              0.6666666666666666,
              "#ed7953"
             ],
             [
              0.7777777777777778,
              "#fb9f3a"
             ],
             [
              0.8888888888888888,
              "#fdca26"
             ],
             [
              1,
              "#f0f921"
             ]
            ],
            "type": "contour"
           }
          ],
          "contourcarpet": [
           {
            "colorbar": {
             "outlinewidth": 0,
             "ticks": ""
            },
            "type": "contourcarpet"
           }
          ],
          "heatmap": [
           {
            "colorbar": {
             "outlinewidth": 0,
             "ticks": ""
            },
            "colorscale": [
             [
              0,
              "#0d0887"
             ],
             [
              0.1111111111111111,
              "#46039f"
             ],
             [
              0.2222222222222222,
              "#7201a8"
             ],
             [
              0.3333333333333333,
              "#9c179e"
             ],
             [
              0.4444444444444444,
              "#bd3786"
             ],
             [
              0.5555555555555556,
              "#d8576b"
             ],
             [
              0.6666666666666666,
              "#ed7953"
             ],
             [
              0.7777777777777778,
              "#fb9f3a"
             ],
             [
              0.8888888888888888,
              "#fdca26"
             ],
             [
              1,
              "#f0f921"
             ]
            ],
            "type": "heatmap"
           }
          ],
          "heatmapgl": [
           {
            "colorbar": {
             "outlinewidth": 0,
             "ticks": ""
            },
            "colorscale": [
             [
              0,
              "#0d0887"
             ],
             [
              0.1111111111111111,
              "#46039f"
             ],
             [
              0.2222222222222222,
              "#7201a8"
             ],
             [
              0.3333333333333333,
              "#9c179e"
             ],
             [
              0.4444444444444444,
              "#bd3786"
             ],
             [
              0.5555555555555556,
              "#d8576b"
             ],
             [
              0.6666666666666666,
              "#ed7953"
             ],
             [
              0.7777777777777778,
              "#fb9f3a"
             ],
             [
              0.8888888888888888,
              "#fdca26"
             ],
             [
              1,
              "#f0f921"
             ]
            ],
            "type": "heatmapgl"
           }
          ],
          "histogram": [
           {
            "marker": {
             "colorbar": {
              "outlinewidth": 0,
              "ticks": ""
             }
            },
            "type": "histogram"
           }
          ],
          "histogram2d": [
           {
            "colorbar": {
             "outlinewidth": 0,
             "ticks": ""
            },
            "colorscale": [
             [
              0,
              "#0d0887"
             ],
             [
              0.1111111111111111,
              "#46039f"
             ],
             [
              0.2222222222222222,
              "#7201a8"
             ],
             [
              0.3333333333333333,
              "#9c179e"
             ],
             [
              0.4444444444444444,
              "#bd3786"
             ],
             [
              0.5555555555555556,
              "#d8576b"
             ],
             [
              0.6666666666666666,
              "#ed7953"
             ],
             [
              0.7777777777777778,
              "#fb9f3a"
             ],
             [
              0.8888888888888888,
              "#fdca26"
             ],
             [
              1,
              "#f0f921"
             ]
            ],
            "type": "histogram2d"
           }
          ],
          "histogram2dcontour": [
           {
            "colorbar": {
             "outlinewidth": 0,
             "ticks": ""
            },
            "colorscale": [
             [
              0,
              "#0d0887"
             ],
             [
              0.1111111111111111,
              "#46039f"
             ],
             [
              0.2222222222222222,
              "#7201a8"
             ],
             [
              0.3333333333333333,
              "#9c179e"
             ],
             [
              0.4444444444444444,
              "#bd3786"
             ],
             [
              0.5555555555555556,
              "#d8576b"
             ],
             [
              0.6666666666666666,
              "#ed7953"
             ],
             [
              0.7777777777777778,
              "#fb9f3a"
             ],
             [
              0.8888888888888888,
              "#fdca26"
             ],
             [
              1,
              "#f0f921"
             ]
            ],
            "type": "histogram2dcontour"
           }
          ],
          "mesh3d": [
           {
            "colorbar": {
             "outlinewidth": 0,
             "ticks": ""
            },
            "type": "mesh3d"
           }
          ],
          "parcoords": [
           {
            "line": {
             "colorbar": {
              "outlinewidth": 0,
              "ticks": ""
             }
            },
            "type": "parcoords"
           }
          ],
          "pie": [
           {
            "automargin": true,
            "type": "pie"
           }
          ],
          "scatter": [
           {
            "marker": {
             "colorbar": {
              "outlinewidth": 0,
              "ticks": ""
             }
            },
            "type": "scatter"
           }
          ],
          "scatter3d": [
           {
            "line": {
             "colorbar": {
              "outlinewidth": 0,
              "ticks": ""
             }
            },
            "marker": {
             "colorbar": {
              "outlinewidth": 0,
              "ticks": ""
             }
            },
            "type": "scatter3d"
           }
          ],
          "scattercarpet": [
           {
            "marker": {
             "colorbar": {
              "outlinewidth": 0,
              "ticks": ""
             }
            },
            "type": "scattercarpet"
           }
          ],
          "scattergeo": [
           {
            "marker": {
             "colorbar": {
              "outlinewidth": 0,
              "ticks": ""
             }
            },
            "type": "scattergeo"
           }
          ],
          "scattergl": [
           {
            "marker": {
             "colorbar": {
              "outlinewidth": 0,
              "ticks": ""
             }
            },
            "type": "scattergl"
           }
          ],
          "scattermapbox": [
           {
            "marker": {
             "colorbar": {
              "outlinewidth": 0,
              "ticks": ""
             }
            },
            "type": "scattermapbox"
           }
          ],
          "scatterpolar": [
           {
            "marker": {
             "colorbar": {
              "outlinewidth": 0,
              "ticks": ""
             }
            },
            "type": "scatterpolar"
           }
          ],
          "scatterpolargl": [
           {
            "marker": {
             "colorbar": {
              "outlinewidth": 0,
              "ticks": ""
             }
            },
            "type": "scatterpolargl"
           }
          ],
          "scatterternary": [
           {
            "marker": {
             "colorbar": {
              "outlinewidth": 0,
              "ticks": ""
             }
            },
            "type": "scatterternary"
           }
          ],
          "surface": [
           {
            "colorbar": {
             "outlinewidth": 0,
             "ticks": ""
            },
            "colorscale": [
             [
              0,
              "#0d0887"
             ],
             [
              0.1111111111111111,
              "#46039f"
             ],
             [
              0.2222222222222222,
              "#7201a8"
             ],
             [
              0.3333333333333333,
              "#9c179e"
             ],
             [
              0.4444444444444444,
              "#bd3786"
             ],
             [
              0.5555555555555556,
              "#d8576b"
             ],
             [
              0.6666666666666666,
              "#ed7953"
             ],
             [
              0.7777777777777778,
              "#fb9f3a"
             ],
             [
              0.8888888888888888,
              "#fdca26"
             ],
             [
              1,
              "#f0f921"
             ]
            ],
            "type": "surface"
           }
          ],
          "table": [
           {
            "cells": {
             "fill": {
              "color": "#EBF0F8"
             },
             "line": {
              "color": "white"
             }
            },
            "header": {
             "fill": {
              "color": "#C8D4E3"
             },
             "line": {
              "color": "white"
             }
            },
            "type": "table"
           }
          ]
         },
         "layout": {
          "annotationdefaults": {
           "arrowcolor": "#2a3f5f",
           "arrowhead": 0,
           "arrowwidth": 1
          },
          "coloraxis": {
           "colorbar": {
            "outlinewidth": 0,
            "ticks": ""
           }
          },
          "colorscale": {
           "diverging": [
            [
             0,
             "#8e0152"
            ],
            [
             0.1,
             "#c51b7d"
            ],
            [
             0.2,
             "#de77ae"
            ],
            [
             0.3,
             "#f1b6da"
            ],
            [
             0.4,
             "#fde0ef"
            ],
            [
             0.5,
             "#f7f7f7"
            ],
            [
             0.6,
             "#e6f5d0"
            ],
            [
             0.7,
             "#b8e186"
            ],
            [
             0.8,
             "#7fbc41"
            ],
            [
             0.9,
             "#4d9221"
            ],
            [
             1,
             "#276419"
            ]
           ],
           "sequential": [
            [
             0,
             "#0d0887"
            ],
            [
             0.1111111111111111,
             "#46039f"
            ],
            [
             0.2222222222222222,
             "#7201a8"
            ],
            [
             0.3333333333333333,
             "#9c179e"
            ],
            [
             0.4444444444444444,
             "#bd3786"
            ],
            [
             0.5555555555555556,
             "#d8576b"
            ],
            [
             0.6666666666666666,
             "#ed7953"
            ],
            [
             0.7777777777777778,
             "#fb9f3a"
            ],
            [
             0.8888888888888888,
             "#fdca26"
            ],
            [
             1,
             "#f0f921"
            ]
           ],
           "sequentialminus": [
            [
             0,
             "#0d0887"
            ],
            [
             0.1111111111111111,
             "#46039f"
            ],
            [
             0.2222222222222222,
             "#7201a8"
            ],
            [
             0.3333333333333333,
             "#9c179e"
            ],
            [
             0.4444444444444444,
             "#bd3786"
            ],
            [
             0.5555555555555556,
             "#d8576b"
            ],
            [
             0.6666666666666666,
             "#ed7953"
            ],
            [
             0.7777777777777778,
             "#fb9f3a"
            ],
            [
             0.8888888888888888,
             "#fdca26"
            ],
            [
             1,
             "#f0f921"
            ]
           ]
          },
          "colorway": [
           "#636efa",
           "#EF553B",
           "#00cc96",
           "#ab63fa",
           "#FFA15A",
           "#19d3f3",
           "#FF6692",
           "#B6E880",
           "#FF97FF",
           "#FECB52"
          ],
          "font": {
           "color": "#2a3f5f"
          },
          "geo": {
           "bgcolor": "white",
           "lakecolor": "white",
           "landcolor": "#E5ECF6",
           "showlakes": true,
           "showland": true,
           "subunitcolor": "white"
          },
          "hoverlabel": {
           "align": "left"
          },
          "hovermode": "closest",
          "mapbox": {
           "style": "light"
          },
          "paper_bgcolor": "white",
          "plot_bgcolor": "#E5ECF6",
          "polar": {
           "angularaxis": {
            "gridcolor": "white",
            "linecolor": "white",
            "ticks": ""
           },
           "bgcolor": "#E5ECF6",
           "radialaxis": {
            "gridcolor": "white",
            "linecolor": "white",
            "ticks": ""
           }
          },
          "scene": {
           "xaxis": {
            "backgroundcolor": "#E5ECF6",
            "gridcolor": "white",
            "gridwidth": 2,
            "linecolor": "white",
            "showbackground": true,
            "ticks": "",
            "zerolinecolor": "white"
           },
           "yaxis": {
            "backgroundcolor": "#E5ECF6",
            "gridcolor": "white",
            "gridwidth": 2,
            "linecolor": "white",
            "showbackground": true,
            "ticks": "",
            "zerolinecolor": "white"
           },
           "zaxis": {
            "backgroundcolor": "#E5ECF6",
            "gridcolor": "white",
            "gridwidth": 2,
            "linecolor": "white",
            "showbackground": true,
            "ticks": "",
            "zerolinecolor": "white"
           }
          },
          "shapedefaults": {
           "line": {
            "color": "#2a3f5f"
           }
          },
          "ternary": {
           "aaxis": {
            "gridcolor": "white",
            "linecolor": "white",
            "ticks": ""
           },
           "baxis": {
            "gridcolor": "white",
            "linecolor": "white",
            "ticks": ""
           },
           "bgcolor": "#E5ECF6",
           "caxis": {
            "gridcolor": "white",
            "linecolor": "white",
            "ticks": ""
           }
          },
          "title": {
           "x": 0.05
          },
          "xaxis": {
           "automargin": true,
           "gridcolor": "white",
           "linecolor": "white",
           "ticks": "",
           "title": {
            "standoff": 15
           },
           "zerolinecolor": "white",
           "zerolinewidth": 2
          },
          "yaxis": {
           "automargin": true,
           "gridcolor": "white",
           "linecolor": "white",
           "ticks": "",
           "title": {
            "standoff": 15
           },
           "zerolinecolor": "white",
           "zerolinewidth": 2
          }
         }
        },
        "title": {
         "text": "Patients age distribution"
        },
        "width": 600,
        "xaxis": {
         "anchor": "y",
         "domain": [
          0,
          1
         ],
         "title": {
          "text": "age"
         }
        },
        "yaxis": {
         "anchor": "x",
         "domain": [
          0,
          1
         ],
         "title": {
          "text": "count"
         }
        }
       }
      }
     },
     "metadata": {}
    }
   ],
   "source": [
    "plot_histogram(df, 'age', 'sex', NBINS, 'Patients age distribution')"
   ]
  },
  {
   "cell_type": "code",
   "execution_count": 22,
   "metadata": {},
   "outputs": [
    {
     "output_type": "display_data",
     "data": {
      "application/vnd.plotly.v1+json": {
       "config": {
        "plotlyServerURL": "https://plot.ly"
       },
       "data": [
        {
         "alignmentgroup": "True",
         "boxpoints": "all",
         "hovertemplate": "sex=%{x}<br>age=%{y}<extra></extra>",
         "legendgroup": "1",
         "marker": {
          "color": "#636efa"
         },
         "name": "1",
         "notched": false,
         "offsetgroup": "1",
         "orientation": "v",
         "showlegend": true,
         "type": "box",
         "x": [
          1,
          1,
          1,
          1,
          1,
          1,
          1,
          1,
          1,
          1,
          1,
          1,
          1,
          1,
          1,
          1,
          1,
          1,
          1,
          1,
          1,
          1,
          1,
          1,
          1,
          1,
          1,
          1,
          1,
          1,
          1,
          1,
          1,
          1,
          1,
          1,
          1,
          1,
          1,
          1,
          1,
          1,
          1,
          1,
          1,
          1,
          1,
          1,
          1,
          1,
          1,
          1,
          1,
          1,
          1,
          1,
          1,
          1,
          1,
          1,
          1,
          1,
          1,
          1,
          1,
          1,
          1,
          1,
          1,
          1,
          1,
          1,
          1,
          1,
          1,
          1,
          1,
          1,
          1,
          1,
          1,
          1,
          1,
          1,
          1,
          1,
          1,
          1,
          1,
          1,
          1,
          1,
          1,
          1,
          1,
          1,
          1,
          1,
          1,
          1,
          1,
          1,
          1,
          1,
          1,
          1,
          1,
          1,
          1,
          1,
          1,
          1,
          1,
          1,
          1,
          1,
          1,
          1,
          1,
          1,
          1,
          1,
          1,
          1,
          1,
          1,
          1,
          1,
          1,
          1,
          1,
          1,
          1,
          1,
          1,
          1,
          1,
          1,
          1,
          1,
          1,
          1,
          1,
          1,
          1,
          1,
          1,
          1,
          1,
          1,
          1,
          1,
          1,
          1,
          1,
          1,
          1,
          1,
          1,
          1,
          1,
          1,
          1,
          1,
          1,
          1,
          1,
          1,
          1,
          1,
          1,
          1,
          1,
          1,
          1,
          1,
          1,
          1,
          1,
          1,
          1,
          1,
          1,
          1,
          1,
          1,
          1,
          1,
          1,
          1,
          1,
          1,
          1,
          1
         ],
         "x0": " ",
         "xaxis": "x",
         "y": [
          75,
          55,
          65,
          50,
          90,
          75,
          60,
          80,
          75,
          62,
          45,
          50,
          82,
          87,
          45,
          68,
          53,
          80,
          70,
          58,
          82,
          94,
          85,
          65,
          69,
          90,
          60,
          70,
          70,
          72,
          50,
          51,
          60,
          80,
          68,
          95,
          70,
          60,
          49,
          72,
          45,
          55,
          45,
          60,
          72,
          65,
          41,
          58,
          85,
          65,
          69,
          60,
          42,
          75,
          67,
          79,
          51,
          55,
          65,
          44,
          57,
          70,
          60,
          60,
          58,
          63,
          65,
          75,
          80,
          42,
          55,
          45,
          63,
          45,
          85,
          55,
          50,
          60,
          60,
          60,
          61,
          53,
          53,
          60,
          63,
          81,
          75,
          68,
          50,
          80,
          72,
          50,
          52,
          64,
          75,
          60,
          62,
          50,
          50,
          60,
          50,
          85,
          59,
          66,
          45,
          63,
          45,
          53,
          59,
          51,
          52,
          70,
          50,
          65,
          60,
          69,
          63,
          55,
          40,
          59,
          65,
          75,
          58,
          60.667,
          80,
          50,
          73,
          45,
          77,
          60,
          63,
          45,
          70,
          60,
          78,
          85,
          70,
          50,
          78,
          65,
          73,
          68,
          73,
          65,
          42,
          47,
          58,
          58,
          55,
          70,
          40,
          53,
          53,
          77,
          75,
          70,
          55,
          65,
          40,
          54,
          61,
          55,
          64,
          40,
          50,
          53,
          52,
          58,
          45,
          53,
          55,
          65,
          61,
          50,
          55,
          56,
          40,
          44,
          42,
          60,
          70,
          70,
          70,
          42,
          65,
          50,
          55,
          60,
          60,
          52,
          63,
          62,
          45,
          50
         ],
         "y0": " ",
         "yaxis": "y"
        },
        {
         "alignmentgroup": "True",
         "boxpoints": "all",
         "hovertemplate": "sex=%{x}<br>age=%{y}<extra></extra>",
         "legendgroup": "0",
         "marker": {
          "color": "#EF553B"
         },
         "name": "0",
         "notched": false,
         "offsetgroup": "0",
         "orientation": "v",
         "showlegend": true,
         "type": "box",
         "x": [
          0,
          0,
          0,
          0,
          0,
          0,
          0,
          0,
          0,
          0,
          0,
          0,
          0,
          0,
          0,
          0,
          0,
          0,
          0,
          0,
          0,
          0,
          0,
          0,
          0,
          0,
          0,
          0,
          0,
          0,
          0,
          0,
          0,
          0,
          0,
          0,
          0,
          0,
          0,
          0,
          0,
          0,
          0,
          0,
          0,
          0,
          0,
          0,
          0,
          0,
          0,
          0,
          0,
          0,
          0,
          0,
          0,
          0,
          0,
          0,
          0,
          0,
          0,
          0,
          0,
          0,
          0,
          0,
          0,
          0,
          0,
          0,
          0,
          0,
          0,
          0,
          0,
          0,
          0,
          0,
          0,
          0,
          0,
          0,
          0,
          0,
          0,
          0,
          0,
          0,
          0,
          0,
          0,
          0,
          0,
          0,
          0,
          0,
          0,
          0,
          0,
          0,
          0,
          0,
          0
         ],
         "x0": " ",
         "xaxis": "x",
         "y": [
          65,
          65,
          49,
          70,
          48,
          65,
          65,
          75,
          95,
          50,
          50,
          82,
          60,
          50,
          60,
          57,
          53,
          60,
          70,
          60,
          50,
          45,
          42,
          70,
          70,
          55,
          70,
          60,
          59,
          42,
          58,
          70,
          60,
          63,
          60,
          72,
          70,
          58,
          60,
          85,
          65,
          86,
          66,
          60,
          60,
          43,
          46,
          58,
          46,
          65,
          62,
          46,
          50,
          61,
          72,
          65,
          52,
          50,
          80,
          65,
          70,
          49,
          50,
          60,
          60.667,
          40,
          64,
          45,
          65,
          50,
          50,
          40,
          60,
          49,
          48,
          70,
          54,
          55,
          75,
          65,
          72,
          60,
          65,
          70,
          73,
          53,
          50,
          55,
          70,
          65,
          62,
          68,
          45,
          51,
          67,
          45,
          70,
          50,
          55,
          45,
          65,
          90,
          45,
          55,
          45
         ],
         "y0": " ",
         "yaxis": "y"
        }
       ],
       "layout": {
        "boxmode": "overlay",
        "legend": {
         "title": {
          "text": "sex"
         },
         "tracegroupgap": 0
        },
        "margin": {
         "t": 60
        },
        "template": {
         "data": {
          "bar": [
           {
            "error_x": {
             "color": "#2a3f5f"
            },
            "error_y": {
             "color": "#2a3f5f"
            },
            "marker": {
             "line": {
              "color": "#E5ECF6",
              "width": 0.5
             }
            },
            "type": "bar"
           }
          ],
          "barpolar": [
           {
            "marker": {
             "line": {
              "color": "#E5ECF6",
              "width": 0.5
             }
            },
            "type": "barpolar"
           }
          ],
          "carpet": [
           {
            "aaxis": {
             "endlinecolor": "#2a3f5f",
             "gridcolor": "white",
             "linecolor": "white",
             "minorgridcolor": "white",
             "startlinecolor": "#2a3f5f"
            },
            "baxis": {
             "endlinecolor": "#2a3f5f",
             "gridcolor": "white",
             "linecolor": "white",
             "minorgridcolor": "white",
             "startlinecolor": "#2a3f5f"
            },
            "type": "carpet"
           }
          ],
          "choropleth": [
           {
            "colorbar": {
             "outlinewidth": 0,
             "ticks": ""
            },
            "type": "choropleth"
           }
          ],
          "contour": [
           {
            "colorbar": {
             "outlinewidth": 0,
             "ticks": ""
            },
            "colorscale": [
             [
              0,
              "#0d0887"
             ],
             [
              0.1111111111111111,
              "#46039f"
             ],
             [
              0.2222222222222222,
              "#7201a8"
             ],
             [
              0.3333333333333333,
              "#9c179e"
             ],
             [
              0.4444444444444444,
              "#bd3786"
             ],
             [
              0.5555555555555556,
              "#d8576b"
             ],
             [
              0.6666666666666666,
              "#ed7953"
             ],
             [
              0.7777777777777778,
              "#fb9f3a"
             ],
             [
              0.8888888888888888,
              "#fdca26"
             ],
             [
              1,
              "#f0f921"
             ]
            ],
            "type": "contour"
           }
          ],
          "contourcarpet": [
           {
            "colorbar": {
             "outlinewidth": 0,
             "ticks": ""
            },
            "type": "contourcarpet"
           }
          ],
          "heatmap": [
           {
            "colorbar": {
             "outlinewidth": 0,
             "ticks": ""
            },
            "colorscale": [
             [
              0,
              "#0d0887"
             ],
             [
              0.1111111111111111,
              "#46039f"
             ],
             [
              0.2222222222222222,
              "#7201a8"
             ],
             [
              0.3333333333333333,
              "#9c179e"
             ],
             [
              0.4444444444444444,
              "#bd3786"
             ],
             [
              0.5555555555555556,
              "#d8576b"
             ],
             [
              0.6666666666666666,
              "#ed7953"
             ],
             [
              0.7777777777777778,
              "#fb9f3a"
             ],
             [
              0.8888888888888888,
              "#fdca26"
             ],
             [
              1,
              "#f0f921"
             ]
            ],
            "type": "heatmap"
           }
          ],
          "heatmapgl": [
           {
            "colorbar": {
             "outlinewidth": 0,
             "ticks": ""
            },
            "colorscale": [
             [
              0,
              "#0d0887"
             ],
             [
              0.1111111111111111,
              "#46039f"
             ],
             [
              0.2222222222222222,
              "#7201a8"
             ],
             [
              0.3333333333333333,
              "#9c179e"
             ],
             [
              0.4444444444444444,
              "#bd3786"
             ],
             [
              0.5555555555555556,
              "#d8576b"
             ],
             [
              0.6666666666666666,
              "#ed7953"
             ],
             [
              0.7777777777777778,
              "#fb9f3a"
             ],
             [
              0.8888888888888888,
              "#fdca26"
             ],
             [
              1,
              "#f0f921"
             ]
            ],
            "type": "heatmapgl"
           }
          ],
          "histogram": [
           {
            "marker": {
             "colorbar": {
              "outlinewidth": 0,
              "ticks": ""
             }
            },
            "type": "histogram"
           }
          ],
          "histogram2d": [
           {
            "colorbar": {
             "outlinewidth": 0,
             "ticks": ""
            },
            "colorscale": [
             [
              0,
              "#0d0887"
             ],
             [
              0.1111111111111111,
              "#46039f"
             ],
             [
              0.2222222222222222,
              "#7201a8"
             ],
             [
              0.3333333333333333,
              "#9c179e"
             ],
             [
              0.4444444444444444,
              "#bd3786"
             ],
             [
              0.5555555555555556,
              "#d8576b"
             ],
             [
              0.6666666666666666,
              "#ed7953"
             ],
             [
              0.7777777777777778,
              "#fb9f3a"
             ],
             [
              0.8888888888888888,
              "#fdca26"
             ],
             [
              1,
              "#f0f921"
             ]
            ],
            "type": "histogram2d"
           }
          ],
          "histogram2dcontour": [
           {
            "colorbar": {
             "outlinewidth": 0,
             "ticks": ""
            },
            "colorscale": [
             [
              0,
              "#0d0887"
             ],
             [
              0.1111111111111111,
              "#46039f"
             ],
             [
              0.2222222222222222,
              "#7201a8"
             ],
             [
              0.3333333333333333,
              "#9c179e"
             ],
             [
              0.4444444444444444,
              "#bd3786"
             ],
             [
              0.5555555555555556,
              "#d8576b"
             ],
             [
              0.6666666666666666,
              "#ed7953"
             ],
             [
              0.7777777777777778,
              "#fb9f3a"
             ],
             [
              0.8888888888888888,
              "#fdca26"
             ],
             [
              1,
              "#f0f921"
             ]
            ],
            "type": "histogram2dcontour"
           }
          ],
          "mesh3d": [
           {
            "colorbar": {
             "outlinewidth": 0,
             "ticks": ""
            },
            "type": "mesh3d"
           }
          ],
          "parcoords": [
           {
            "line": {
             "colorbar": {
              "outlinewidth": 0,
              "ticks": ""
             }
            },
            "type": "parcoords"
           }
          ],
          "pie": [
           {
            "automargin": true,
            "type": "pie"
           }
          ],
          "scatter": [
           {
            "marker": {
             "colorbar": {
              "outlinewidth": 0,
              "ticks": ""
             }
            },
            "type": "scatter"
           }
          ],
          "scatter3d": [
           {
            "line": {
             "colorbar": {
              "outlinewidth": 0,
              "ticks": ""
             }
            },
            "marker": {
             "colorbar": {
              "outlinewidth": 0,
              "ticks": ""
             }
            },
            "type": "scatter3d"
           }
          ],
          "scattercarpet": [
           {
            "marker": {
             "colorbar": {
              "outlinewidth": 0,
              "ticks": ""
             }
            },
            "type": "scattercarpet"
           }
          ],
          "scattergeo": [
           {
            "marker": {
             "colorbar": {
              "outlinewidth": 0,
              "ticks": ""
             }
            },
            "type": "scattergeo"
           }
          ],
          "scattergl": [
           {
            "marker": {
             "colorbar": {
              "outlinewidth": 0,
              "ticks": ""
             }
            },
            "type": "scattergl"
           }
          ],
          "scattermapbox": [
           {
            "marker": {
             "colorbar": {
              "outlinewidth": 0,
              "ticks": ""
             }
            },
            "type": "scattermapbox"
           }
          ],
          "scatterpolar": [
           {
            "marker": {
             "colorbar": {
              "outlinewidth": 0,
              "ticks": ""
             }
            },
            "type": "scatterpolar"
           }
          ],
          "scatterpolargl": [
           {
            "marker": {
             "colorbar": {
              "outlinewidth": 0,
              "ticks": ""
             }
            },
            "type": "scatterpolargl"
           }
          ],
          "scatterternary": [
           {
            "marker": {
             "colorbar": {
              "outlinewidth": 0,
              "ticks": ""
             }
            },
            "type": "scatterternary"
           }
          ],
          "surface": [
           {
            "colorbar": {
             "outlinewidth": 0,
             "ticks": ""
            },
            "colorscale": [
             [
              0,
              "#0d0887"
             ],
             [
              0.1111111111111111,
              "#46039f"
             ],
             [
              0.2222222222222222,
              "#7201a8"
             ],
             [
              0.3333333333333333,
              "#9c179e"
             ],
             [
              0.4444444444444444,
              "#bd3786"
             ],
             [
              0.5555555555555556,
              "#d8576b"
             ],
             [
              0.6666666666666666,
              "#ed7953"
             ],
             [
              0.7777777777777778,
              "#fb9f3a"
             ],
             [
              0.8888888888888888,
              "#fdca26"
             ],
             [
              1,
              "#f0f921"
             ]
            ],
            "type": "surface"
           }
          ],
          "table": [
           {
            "cells": {
             "fill": {
              "color": "#EBF0F8"
             },
             "line": {
              "color": "white"
             }
            },
            "header": {
             "fill": {
              "color": "#C8D4E3"
             },
             "line": {
              "color": "white"
             }
            },
            "type": "table"
           }
          ]
         },
         "layout": {
          "annotationdefaults": {
           "arrowcolor": "#2a3f5f",
           "arrowhead": 0,
           "arrowwidth": 1
          },
          "coloraxis": {
           "colorbar": {
            "outlinewidth": 0,
            "ticks": ""
           }
          },
          "colorscale": {
           "diverging": [
            [
             0,
             "#8e0152"
            ],
            [
             0.1,
             "#c51b7d"
            ],
            [
             0.2,
             "#de77ae"
            ],
            [
             0.3,
             "#f1b6da"
            ],
            [
             0.4,
             "#fde0ef"
            ],
            [
             0.5,
             "#f7f7f7"
            ],
            [
             0.6,
             "#e6f5d0"
            ],
            [
             0.7,
             "#b8e186"
            ],
            [
             0.8,
             "#7fbc41"
            ],
            [
             0.9,
             "#4d9221"
            ],
            [
             1,
             "#276419"
            ]
           ],
           "sequential": [
            [
             0,
             "#0d0887"
            ],
            [
             0.1111111111111111,
             "#46039f"
            ],
            [
             0.2222222222222222,
             "#7201a8"
            ],
            [
             0.3333333333333333,
             "#9c179e"
            ],
            [
             0.4444444444444444,
             "#bd3786"
            ],
            [
             0.5555555555555556,
             "#d8576b"
            ],
            [
             0.6666666666666666,
             "#ed7953"
            ],
            [
             0.7777777777777778,
             "#fb9f3a"
            ],
            [
             0.8888888888888888,
             "#fdca26"
            ],
            [
             1,
             "#f0f921"
            ]
           ],
           "sequentialminus": [
            [
             0,
             "#0d0887"
            ],
            [
             0.1111111111111111,
             "#46039f"
            ],
            [
             0.2222222222222222,
             "#7201a8"
            ],
            [
             0.3333333333333333,
             "#9c179e"
            ],
            [
             0.4444444444444444,
             "#bd3786"
            ],
            [
             0.5555555555555556,
             "#d8576b"
            ],
            [
             0.6666666666666666,
             "#ed7953"
            ],
            [
             0.7777777777777778,
             "#fb9f3a"
            ],
            [
             0.8888888888888888,
             "#fdca26"
            ],
            [
             1,
             "#f0f921"
            ]
           ]
          },
          "colorway": [
           "#636efa",
           "#EF553B",
           "#00cc96",
           "#ab63fa",
           "#FFA15A",
           "#19d3f3",
           "#FF6692",
           "#B6E880",
           "#FF97FF",
           "#FECB52"
          ],
          "font": {
           "color": "#2a3f5f"
          },
          "geo": {
           "bgcolor": "white",
           "lakecolor": "white",
           "landcolor": "#E5ECF6",
           "showlakes": true,
           "showland": true,
           "subunitcolor": "white"
          },
          "hoverlabel": {
           "align": "left"
          },
          "hovermode": "closest",
          "mapbox": {
           "style": "light"
          },
          "paper_bgcolor": "white",
          "plot_bgcolor": "#E5ECF6",
          "polar": {
           "angularaxis": {
            "gridcolor": "white",
            "linecolor": "white",
            "ticks": ""
           },
           "bgcolor": "#E5ECF6",
           "radialaxis": {
            "gridcolor": "white",
            "linecolor": "white",
            "ticks": ""
           }
          },
          "scene": {
           "xaxis": {
            "backgroundcolor": "#E5ECF6",
            "gridcolor": "white",
            "gridwidth": 2,
            "linecolor": "white",
            "showbackground": true,
            "ticks": "",
            "zerolinecolor": "white"
           },
           "yaxis": {
            "backgroundcolor": "#E5ECF6",
            "gridcolor": "white",
            "gridwidth": 2,
            "linecolor": "white",
            "showbackground": true,
            "ticks": "",
            "zerolinecolor": "white"
           },
           "zaxis": {
            "backgroundcolor": "#E5ECF6",
            "gridcolor": "white",
            "gridwidth": 2,
            "linecolor": "white",
            "showbackground": true,
            "ticks": "",
            "zerolinecolor": "white"
           }
          },
          "shapedefaults": {
           "line": {
            "color": "#2a3f5f"
           }
          },
          "ternary": {
           "aaxis": {
            "gridcolor": "white",
            "linecolor": "white",
            "ticks": ""
           },
           "baxis": {
            "gridcolor": "white",
            "linecolor": "white",
            "ticks": ""
           },
           "bgcolor": "#E5ECF6",
           "caxis": {
            "gridcolor": "white",
            "linecolor": "white",
            "ticks": ""
           }
          },
          "title": {
           "x": 0.05
          },
          "xaxis": {
           "automargin": true,
           "gridcolor": "white",
           "linecolor": "white",
           "ticks": "",
           "title": {
            "standoff": 15
           },
           "zerolinecolor": "white",
           "zerolinewidth": 2
          },
          "yaxis": {
           "automargin": true,
           "gridcolor": "white",
           "linecolor": "white",
           "ticks": "",
           "title": {
            "standoff": 15
           },
           "zerolinecolor": "white",
           "zerolinewidth": 2
          }
         }
        },
        "title": {
         "text": "Gender wise Age Spread - Male=1, Female=0"
        },
        "xaxis": {
         "anchor": "y",
         "categoryarray": [
          1,
          0
         ],
         "categoryorder": "array",
         "domain": [
          0,
          1
         ],
         "title": {
          "text": "sex"
         }
        },
        "yaxis": {
         "anchor": "x",
         "domain": [
          0,
          1
         ],
         "title": {
          "text": "age"
         }
        }
       }
      }
     },
     "metadata": {}
    }
   ],
   "source": [
    "fig = px.box(df, x='sex', y='age', points='all', color='sex')\n",
    "fig.update_layout(\n",
    "    title_text = \"Gender wise Age Spread - Male=1, Female=0\"\n",
    ")\n",
    "\n",
    "fig"
   ]
  },
  {
   "cell_type": "code",
   "execution_count": 23,
   "metadata": {},
   "outputs": [
    {
     "output_type": "display_data",
     "data": {
      "application/vnd.plotly.v1+json": {
       "config": {
        "plotlyServerURL": "https://plot.ly"
       },
       "data": [
        {
         "labels": [
          "Male - Survived",
          "Male - Not Survived",
          "Female -  Survived",
          "Female - Not Survived"
         ],
         "type": "pie",
         "values": [
          132,
          62,
          71,
          34
         ]
        }
       ],
       "layout": {
        "template": {
         "data": {
          "bar": [
           {
            "error_x": {
             "color": "#2a3f5f"
            },
            "error_y": {
             "color": "#2a3f5f"
            },
            "marker": {
             "line": {
              "color": "#E5ECF6",
              "width": 0.5
             }
            },
            "type": "bar"
           }
          ],
          "barpolar": [
           {
            "marker": {
             "line": {
              "color": "#E5ECF6",
              "width": 0.5
             }
            },
            "type": "barpolar"
           }
          ],
          "carpet": [
           {
            "aaxis": {
             "endlinecolor": "#2a3f5f",
             "gridcolor": "white",
             "linecolor": "white",
             "minorgridcolor": "white",
             "startlinecolor": "#2a3f5f"
            },
            "baxis": {
             "endlinecolor": "#2a3f5f",
             "gridcolor": "white",
             "linecolor": "white",
             "minorgridcolor": "white",
             "startlinecolor": "#2a3f5f"
            },
            "type": "carpet"
           }
          ],
          "choropleth": [
           {
            "colorbar": {
             "outlinewidth": 0,
             "ticks": ""
            },
            "type": "choropleth"
           }
          ],
          "contour": [
           {
            "colorbar": {
             "outlinewidth": 0,
             "ticks": ""
            },
            "colorscale": [
             [
              0,
              "#0d0887"
             ],
             [
              0.1111111111111111,
              "#46039f"
             ],
             [
              0.2222222222222222,
              "#7201a8"
             ],
             [
              0.3333333333333333,
              "#9c179e"
             ],
             [
              0.4444444444444444,
              "#bd3786"
             ],
             [
              0.5555555555555556,
              "#d8576b"
             ],
             [
              0.6666666666666666,
              "#ed7953"
             ],
             [
              0.7777777777777778,
              "#fb9f3a"
             ],
             [
              0.8888888888888888,
              "#fdca26"
             ],
             [
              1,
              "#f0f921"
             ]
            ],
            "type": "contour"
           }
          ],
          "contourcarpet": [
           {
            "colorbar": {
             "outlinewidth": 0,
             "ticks": ""
            },
            "type": "contourcarpet"
           }
          ],
          "heatmap": [
           {
            "colorbar": {
             "outlinewidth": 0,
             "ticks": ""
            },
            "colorscale": [
             [
              0,
              "#0d0887"
             ],
             [
              0.1111111111111111,
              "#46039f"
             ],
             [
              0.2222222222222222,
              "#7201a8"
             ],
             [
              0.3333333333333333,
              "#9c179e"
             ],
             [
              0.4444444444444444,
              "#bd3786"
             ],
             [
              0.5555555555555556,
              "#d8576b"
             ],
             [
              0.6666666666666666,
              "#ed7953"
             ],
             [
              0.7777777777777778,
              "#fb9f3a"
             ],
             [
              0.8888888888888888,
              "#fdca26"
             ],
             [
              1,
              "#f0f921"
             ]
            ],
            "type": "heatmap"
           }
          ],
          "heatmapgl": [
           {
            "colorbar": {
             "outlinewidth": 0,
             "ticks": ""
            },
            "colorscale": [
             [
              0,
              "#0d0887"
             ],
             [
              0.1111111111111111,
              "#46039f"
             ],
             [
              0.2222222222222222,
              "#7201a8"
             ],
             [
              0.3333333333333333,
              "#9c179e"
             ],
             [
              0.4444444444444444,
              "#bd3786"
             ],
             [
              0.5555555555555556,
              "#d8576b"
             ],
             [
              0.6666666666666666,
              "#ed7953"
             ],
             [
              0.7777777777777778,
              "#fb9f3a"
             ],
             [
              0.8888888888888888,
              "#fdca26"
             ],
             [
              1,
              "#f0f921"
             ]
            ],
            "type": "heatmapgl"
           }
          ],
          "histogram": [
           {
            "marker": {
             "colorbar": {
              "outlinewidth": 0,
              "ticks": ""
             }
            },
            "type": "histogram"
           }
          ],
          "histogram2d": [
           {
            "colorbar": {
             "outlinewidth": 0,
             "ticks": ""
            },
            "colorscale": [
             [
              0,
              "#0d0887"
             ],
             [
              0.1111111111111111,
              "#46039f"
             ],
             [
              0.2222222222222222,
              "#7201a8"
             ],
             [
              0.3333333333333333,
              "#9c179e"
             ],
             [
              0.4444444444444444,
              "#bd3786"
             ],
             [
              0.5555555555555556,
              "#d8576b"
             ],
             [
              0.6666666666666666,
              "#ed7953"
             ],
             [
              0.7777777777777778,
              "#fb9f3a"
             ],
             [
              0.8888888888888888,
              "#fdca26"
             ],
             [
              1,
              "#f0f921"
             ]
            ],
            "type": "histogram2d"
           }
          ],
          "histogram2dcontour": [
           {
            "colorbar": {
             "outlinewidth": 0,
             "ticks": ""
            },
            "colorscale": [
             [
              0,
              "#0d0887"
             ],
             [
              0.1111111111111111,
              "#46039f"
             ],
             [
              0.2222222222222222,
              "#7201a8"
             ],
             [
              0.3333333333333333,
              "#9c179e"
             ],
             [
              0.4444444444444444,
              "#bd3786"
             ],
             [
              0.5555555555555556,
              "#d8576b"
             ],
             [
              0.6666666666666666,
              "#ed7953"
             ],
             [
              0.7777777777777778,
              "#fb9f3a"
             ],
             [
              0.8888888888888888,
              "#fdca26"
             ],
             [
              1,
              "#f0f921"
             ]
            ],
            "type": "histogram2dcontour"
           }
          ],
          "mesh3d": [
           {
            "colorbar": {
             "outlinewidth": 0,
             "ticks": ""
            },
            "type": "mesh3d"
           }
          ],
          "parcoords": [
           {
            "line": {
             "colorbar": {
              "outlinewidth": 0,
              "ticks": ""
             }
            },
            "type": "parcoords"
           }
          ],
          "pie": [
           {
            "automargin": true,
            "type": "pie"
           }
          ],
          "scatter": [
           {
            "marker": {
             "colorbar": {
              "outlinewidth": 0,
              "ticks": ""
             }
            },
            "type": "scatter"
           }
          ],
          "scatter3d": [
           {
            "line": {
             "colorbar": {
              "outlinewidth": 0,
              "ticks": ""
             }
            },
            "marker": {
             "colorbar": {
              "outlinewidth": 0,
              "ticks": ""
             }
            },
            "type": "scatter3d"
           }
          ],
          "scattercarpet": [
           {
            "marker": {
             "colorbar": {
              "outlinewidth": 0,
              "ticks": ""
             }
            },
            "type": "scattercarpet"
           }
          ],
          "scattergeo": [
           {
            "marker": {
             "colorbar": {
              "outlinewidth": 0,
              "ticks": ""
             }
            },
            "type": "scattergeo"
           }
          ],
          "scattergl": [
           {
            "marker": {
             "colorbar": {
              "outlinewidth": 0,
              "ticks": ""
             }
            },
            "type": "scattergl"
           }
          ],
          "scattermapbox": [
           {
            "marker": {
             "colorbar": {
              "outlinewidth": 0,
              "ticks": ""
             }
            },
            "type": "scattermapbox"
           }
          ],
          "scatterpolar": [
           {
            "marker": {
             "colorbar": {
              "outlinewidth": 0,
              "ticks": ""
             }
            },
            "type": "scatterpolar"
           }
          ],
          "scatterpolargl": [
           {
            "marker": {
             "colorbar": {
              "outlinewidth": 0,
              "ticks": ""
             }
            },
            "type": "scatterpolargl"
           }
          ],
          "scatterternary": [
           {
            "marker": {
             "colorbar": {
              "outlinewidth": 0,
              "ticks": ""
             }
            },
            "type": "scatterternary"
           }
          ],
          "surface": [
           {
            "colorbar": {
             "outlinewidth": 0,
             "ticks": ""
            },
            "colorscale": [
             [
              0,
              "#0d0887"
             ],
             [
              0.1111111111111111,
              "#46039f"
             ],
             [
              0.2222222222222222,
              "#7201a8"
             ],
             [
              0.3333333333333333,
              "#9c179e"
             ],
             [
              0.4444444444444444,
              "#bd3786"
             ],
             [
              0.5555555555555556,
              "#d8576b"
             ],
             [
              0.6666666666666666,
              "#ed7953"
             ],
             [
              0.7777777777777778,
              "#fb9f3a"
             ],
             [
              0.8888888888888888,
              "#fdca26"
             ],
             [
              1,
              "#f0f921"
             ]
            ],
            "type": "surface"
           }
          ],
          "table": [
           {
            "cells": {
             "fill": {
              "color": "#EBF0F8"
             },
             "line": {
              "color": "white"
             }
            },
            "header": {
             "fill": {
              "color": "#C8D4E3"
             },
             "line": {
              "color": "white"
             }
            },
            "type": "table"
           }
          ]
         },
         "layout": {
          "annotationdefaults": {
           "arrowcolor": "#2a3f5f",
           "arrowhead": 0,
           "arrowwidth": 1
          },
          "coloraxis": {
           "colorbar": {
            "outlinewidth": 0,
            "ticks": ""
           }
          },
          "colorscale": {
           "diverging": [
            [
             0,
             "#8e0152"
            ],
            [
             0.1,
             "#c51b7d"
            ],
            [
             0.2,
             "#de77ae"
            ],
            [
             0.3,
             "#f1b6da"
            ],
            [
             0.4,
             "#fde0ef"
            ],
            [
             0.5,
             "#f7f7f7"
            ],
            [
             0.6,
             "#e6f5d0"
            ],
            [
             0.7,
             "#b8e186"
            ],
            [
             0.8,
             "#7fbc41"
            ],
            [
             0.9,
             "#4d9221"
            ],
            [
             1,
             "#276419"
            ]
           ],
           "sequential": [
            [
             0,
             "#0d0887"
            ],
            [
             0.1111111111111111,
             "#46039f"
            ],
            [
             0.2222222222222222,
             "#7201a8"
            ],
            [
             0.3333333333333333,
             "#9c179e"
            ],
            [
             0.4444444444444444,
             "#bd3786"
            ],
            [
             0.5555555555555556,
             "#d8576b"
            ],
            [
             0.6666666666666666,
             "#ed7953"
            ],
            [
             0.7777777777777778,
             "#fb9f3a"
            ],
            [
             0.8888888888888888,
             "#fdca26"
            ],
            [
             1,
             "#f0f921"
            ]
           ],
           "sequentialminus": [
            [
             0,
             "#0d0887"
            ],
            [
             0.1111111111111111,
             "#46039f"
            ],
            [
             0.2222222222222222,
             "#7201a8"
            ],
            [
             0.3333333333333333,
             "#9c179e"
            ],
            [
             0.4444444444444444,
             "#bd3786"
            ],
            [
             0.5555555555555556,
             "#d8576b"
            ],
            [
             0.6666666666666666,
             "#ed7953"
            ],
            [
             0.7777777777777778,
             "#fb9f3a"
            ],
            [
             0.8888888888888888,
             "#fdca26"
            ],
            [
             1,
             "#f0f921"
            ]
           ]
          },
          "colorway": [
           "#636efa",
           "#EF553B",
           "#00cc96",
           "#ab63fa",
           "#FFA15A",
           "#19d3f3",
           "#FF6692",
           "#B6E880",
           "#FF97FF",
           "#FECB52"
          ],
          "font": {
           "color": "#2a3f5f"
          },
          "geo": {
           "bgcolor": "white",
           "lakecolor": "white",
           "landcolor": "#E5ECF6",
           "showlakes": true,
           "showland": true,
           "subunitcolor": "white"
          },
          "hoverlabel": {
           "align": "left"
          },
          "hovermode": "closest",
          "mapbox": {
           "style": "light"
          },
          "paper_bgcolor": "white",
          "plot_bgcolor": "#E5ECF6",
          "polar": {
           "angularaxis": {
            "gridcolor": "white",
            "linecolor": "white",
            "ticks": ""
           },
           "bgcolor": "#E5ECF6",
           "radialaxis": {
            "gridcolor": "white",
            "linecolor": "white",
            "ticks": ""
           }
          },
          "scene": {
           "xaxis": {
            "backgroundcolor": "#E5ECF6",
            "gridcolor": "white",
            "gridwidth": 2,
            "linecolor": "white",
            "showbackground": true,
            "ticks": "",
            "zerolinecolor": "white"
           },
           "yaxis": {
            "backgroundcolor": "#E5ECF6",
            "gridcolor": "white",
            "gridwidth": 2,
            "linecolor": "white",
            "showbackground": true,
            "ticks": "",
            "zerolinecolor": "white"
           },
           "zaxis": {
            "backgroundcolor": "#E5ECF6",
            "gridcolor": "white",
            "gridwidth": 2,
            "linecolor": "white",
            "showbackground": true,
            "ticks": "",
            "zerolinecolor": "white"
           }
          },
          "shapedefaults": {
           "line": {
            "color": "#2a3f5f"
           }
          },
          "ternary": {
           "aaxis": {
            "gridcolor": "white",
            "linecolor": "white",
            "ticks": ""
           },
           "baxis": {
            "gridcolor": "white",
            "linecolor": "white",
            "ticks": ""
           },
           "bgcolor": "#E5ECF6",
           "caxis": {
            "gridcolor": "white",
            "linecolor": "white",
            "ticks": ""
           }
          },
          "title": {
           "x": 0.05
          },
          "xaxis": {
           "automargin": true,
           "gridcolor": "white",
           "linecolor": "white",
           "ticks": "",
           "title": {
            "standoff": 15
           },
           "zerolinecolor": "white",
           "zerolinewidth": 2
          },
          "yaxis": {
           "automargin": true,
           "gridcolor": "white",
           "linecolor": "white",
           "ticks": "",
           "title": {
            "standoff": 15
           },
           "zerolinecolor": "white",
           "zerolinewidth": 2
          }
         }
        },
        "title": {
         "text": "Analysis on Survival - Gender"
        }
       }
      }
     },
     "metadata": {}
    }
   ],
   "source": [
    "# female / male\n",
    "female = df [ df['sex']==0 ]\n",
    "male = df[ df['sex']==1 ]\n",
    "\n",
    "# male survive / die                    \n",
    "male_surv = male[ df['DEATH_EVENT']==0 ]\n",
    "male_die = male[ df['DEATH_EVENT']==1 ]\n",
    "# female survive / die \n",
    "female_surv = female[ df['DEATH_EVENT']==0 ]\n",
    "female_die = female[ df['DEATH_EVENT']==1 ]\n",
    "\n",
    "labels = ['Male - Survived', 'Male - Not Survived', \"Female -  Survived\", \"Female - Not Survived\"]\n",
    "\n",
    "          # female/male survive/die\n",
    "values = [\n",
    "    len( male[df[\"DEATH_EVENT\"]==0] ), \n",
    "    len( male[df[\"DEATH_EVENT\"]==1] ),\n",
    "    len( female[df[\"DEATH_EVENT\"]==0] ), \n",
    "    len( female[df[\"DEATH_EVENT\"]==1] )\n",
    "    ]\n",
    "\n",
    "fig = go.Figure(data=[go.Pie(\n",
    "    labels=labels, \n",
    "    values=values,) #  hole=.2\n",
    "    ]) \n",
    "\n",
    "fig.update_layout(\n",
    "    title_text=\"Analysis on Survival - Gender\") # title_text\n",
    "\n",
    "fig"
   ]
  },
  {
   "source": [
    "* Creatine is a chemical that is found in the body. It is found mostly in muscles but also in the brain. It is also found in foods such as red meat and seafood.\n",
    "* Creatine is involved in making the energy muscles need to work.\n",
    "* Creatine is most commonly used for improving exercise performance and increasing muscle mass in athletes and older adults. There is some science supporting the use of creatine in improving the athletic performance of young, healthy people during brief high-intensity activity such as sprinting. Because of this, creatine is often used as a dietary supplement to improve muscle strength and athletic performance."
   ],
   "cell_type": "markdown",
   "metadata": {}
  },
  {
   "cell_type": "code",
   "execution_count": 24,
   "metadata": {},
   "outputs": [
    {
     "output_type": "display_data",
     "data": {
      "application/vnd.plotly.v1+json": {
       "config": {
        "plotlyServerURL": "https://plot.ly"
       },
       "data": [
        {
         "autobinx": false,
         "histnorm": "probability density",
         "legendgroup": "Survived",
         "marker": {
          "color": "rgb(31, 119, 180)"
         },
         "name": "Survived",
         "opacity": 0.7,
         "type": "histogram",
         "x": [
          1,
          1.3,
          0.8,
          1.2,
          2.3,
          1,
          2.7,
          0.6,
          1.1,
          1.18,
          0.8,
          0.9,
          1.3,
          0.8,
          1.2,
          0.6,
          0.9,
          1.7,
          1.18,
          1.8,
          0.7,
          1.1,
          0.8,
          0.7,
          1.1,
          0.8,
          1,
          1.18,
          0.7,
          1,
          1.3,
          1.1,
          1.2,
          1.1,
          1.1,
          1.18,
          1.1,
          1,
          2.3,
          1.3,
          0.9,
          1.1,
          1.3,
          1.2,
          1.6,
          1.2,
          1,
          0.7,
          3.2,
          0.9,
          1.5,
          1,
          0.75,
          0.9,
          1.3,
          0.8,
          0.7,
          3.4,
          0.7,
          6.1,
          1.18,
          1.3,
          1.18,
          1.18,
          0.9,
          2.1,
          1,
          0.8,
          0.9,
          0.9,
          0.9,
          0.7,
          0.7,
          1,
          0.9,
          0.9,
          0.9,
          1.18,
          0.8,
          1.7,
          1.4,
          1,
          1.3,
          1.1,
          1.2,
          0.8,
          0.9,
          0.7,
          1,
          0.8,
          1.5,
          0.9,
          1.1,
          0.8,
          0.9,
          1,
          1,
          1,
          1.2,
          0.7,
          0.9,
          1,
          0.9,
          2.1,
          1.5,
          0.7,
          1.18,
          1.18,
          0.8,
          1,
          1.8,
          0.7,
          1,
          0.9,
          3.5,
          0.7,
          1,
          0.8,
          0.9,
          1,
          0.8,
          1,
          0.8,
          1.4,
          0.8,
          1.3,
          0.9,
          1.1,
          0.7,
          1.1,
          1.1,
          0.8,
          1,
          1.4,
          1.3,
          1,
          5,
          1.2,
          1.1,
          0.9,
          1.4,
          1.1,
          1.1,
          1.1,
          1.2,
          1,
          1.18,
          1.3,
          1.3,
          1.1,
          0.9,
          1.8,
          1.4,
          2.4,
          1,
          1.2,
          0.5,
          0.8,
          1,
          1.2,
          1,
          1,
          1.7,
          1,
          0.8,
          0.7,
          1,
          0.7,
          1,
          1.2,
          0.9,
          1.7,
          0.9,
          1,
          1.6,
          0.9,
          1.2,
          0.7,
          1,
          0.8,
          1.1,
          1.1,
          0.7,
          1.3,
          1,
          2.7,
          3.8,
          1.1,
          0.8,
          1.2,
          1.7,
          1,
          1.1,
          0.9,
          0.8,
          1.4,
          1,
          0.9,
          1.1,
          1.2,
          0.8,
          1.4,
          1.6
         ],
         "xaxis": "x",
         "xbins": {
          "end": 6.1,
          "size": 0.5,
          "start": 0.5
         },
         "yaxis": "y"
        },
        {
         "autobinx": false,
         "histnorm": "probability density",
         "legendgroup": "Not Survived",
         "marker": {
          "color": "rgb(255, 127, 14)"
         },
         "name": "Not Survived",
         "opacity": 0.7,
         "type": "histogram",
         "x": [
          1.9,
          1.1,
          1.3,
          1.9,
          2.7,
          2.1,
          1.2,
          1.1,
          1.5,
          9.4,
          4,
          0.9,
          1.1,
          1.1,
          1.3,
          0.9,
          0.8,
          1,
          1.9,
          1.6,
          0.9,
          1.83,
          1.9,
          1,
          1.3,
          5.8,
          1.2,
          1.83,
          3,
          1,
          1,
          3.5,
          1,
          1,
          3,
          1.83,
          1.2,
          1.2,
          1.1,
          1.9,
          0.9,
          0.6,
          4.4,
          1,
          1,
          1.4,
          6.8,
          1,
          2.2,
          2,
          1.1,
          1.3,
          1,
          2.3,
          1,
          2.9,
          1.3,
          1,
          1.2,
          1.83,
          1,
          1.2,
          0.7,
          2.5,
          1,
          1.7,
          1.7,
          1.2,
          1.3,
          1.83,
          3.7,
          2.1,
          1.1,
          1.7,
          1.83,
          2.5,
          0.9,
          1.1,
          1.3,
          2.4,
          1,
          1.2,
          2.5,
          1.2,
          1.5,
          0.6,
          2.1,
          1.6,
          1.8,
          1.6,
          9,
          1.83,
          1.7,
          1.1,
          1.4,
          1.83
         ],
         "xaxis": "x",
         "xbins": {
          "end": 9.4,
          "size": 0.5,
          "start": 0.6
         },
         "yaxis": "y"
        },
        {
         "legendgroup": "Survived",
         "marker": {
          "color": "rgb(31, 119, 180)"
         },
         "mode": "lines",
         "name": "Survived",
         "showlegend": false,
         "type": "scatter",
         "x": [
          0.5,
          0.5112,
          0.5224,
          0.5336,
          0.5448,
          0.556,
          0.5671999999999999,
          0.5784,
          0.5896,
          0.6008,
          0.612,
          0.6232,
          0.6344,
          0.6456,
          0.6568,
          0.668,
          0.6792,
          0.6904,
          0.7016,
          0.7128,
          0.724,
          0.7352,
          0.7464,
          0.7575999999999999,
          0.7687999999999999,
          0.78,
          0.7912,
          0.8024,
          0.8136,
          0.8248,
          0.8360000000000001,
          0.8472,
          0.8584,
          0.8695999999999999,
          0.8808,
          0.892,
          0.9032,
          0.9144,
          0.9256,
          0.9368,
          0.948,
          0.9592,
          0.9703999999999999,
          0.9816,
          0.9927999999999999,
          1.004,
          1.0151999999999999,
          1.0264,
          1.0375999999999999,
          1.0488,
          1.06,
          1.0712,
          1.0824,
          1.0936,
          1.1048,
          1.116,
          1.1272,
          1.1383999999999999,
          1.1496,
          1.1608,
          1.1720000000000002,
          1.1831999999999998,
          1.1944,
          1.2056,
          1.2168,
          1.228,
          1.2391999999999999,
          1.2504,
          1.2616,
          1.2728,
          1.284,
          1.2952,
          1.3064,
          1.3175999999999999,
          1.3288,
          1.3399999999999999,
          1.3512,
          1.3624,
          1.3736,
          1.3847999999999998,
          1.396,
          1.4072,
          1.4184,
          1.4295999999999998,
          1.4407999999999999,
          1.452,
          1.4632,
          1.4744,
          1.4855999999999998,
          1.4968,
          1.5079999999999998,
          1.5191999999999999,
          1.5303999999999998,
          1.5415999999999999,
          1.5528,
          1.564,
          1.5751999999999997,
          1.5863999999999998,
          1.5976,
          1.6088,
          1.62,
          1.6311999999999998,
          1.6423999999999999,
          1.6536,
          1.6648,
          1.676,
          1.6871999999999998,
          1.6984,
          1.7096,
          1.7207999999999999,
          1.732,
          1.7431999999999999,
          1.7544,
          1.7655999999999998,
          1.7768,
          1.788,
          1.7992,
          1.8103999999999998,
          1.8215999999999999,
          1.8328,
          1.844,
          1.8551999999999997,
          1.8663999999999998,
          1.8776,
          1.8888,
          1.9,
          1.9111999999999998,
          1.9223999999999999,
          1.9336,
          1.9447999999999999,
          1.956,
          1.9671999999999998,
          1.9784,
          1.9895999999999998,
          2.0008,
          2.012,
          2.0232,
          2.0343999999999998,
          2.0456,
          2.0568,
          2.068,
          2.0791999999999997,
          2.0904,
          2.1016,
          2.1128,
          2.124,
          2.1351999999999998,
          2.1464,
          2.1576,
          2.1688,
          2.1799999999999997,
          2.1912,
          2.2024,
          2.2136,
          2.2248,
          2.2359999999999998,
          2.2472,
          2.2584,
          2.2695999999999996,
          2.2808,
          2.292,
          2.3032,
          2.3144,
          2.3255999999999997,
          2.3368,
          2.348,
          2.3591999999999995,
          2.3704,
          2.3815999999999997,
          2.3928000000000003,
          2.404,
          2.4151999999999996,
          2.4264,
          2.4375999999999998,
          2.4488,
          2.46,
          2.4711999999999996,
          2.4824,
          2.4936,
          2.5048,
          2.5159999999999996,
          2.5271999999999997,
          2.5383999999999998,
          2.5496,
          2.5607999999999995,
          2.572,
          2.5831999999999997,
          2.5944000000000003,
          2.6056,
          2.6167999999999996,
          2.628,
          2.6391999999999998,
          2.6503999999999994,
          2.6616,
          2.6727999999999996,
          2.684,
          2.6952,
          2.7063999999999995,
          2.7176,
          2.7287999999999997,
          2.74,
          2.7512,
          2.7623999999999995,
          2.7736,
          2.7847999999999997,
          2.796,
          2.8072,
          2.8183999999999996,
          2.8296,
          2.8407999999999998,
          2.852,
          2.8632,
          2.8743999999999996,
          2.8855999999999997,
          2.8968,
          2.908,
          2.9192,
          2.9303999999999997,
          2.9415999999999998,
          2.9528,
          2.964,
          2.9751999999999996,
          2.9863999999999997,
          2.9976,
          3.0088,
          3.02,
          3.0311999999999997,
          3.0423999999999998,
          3.0536,
          3.0647999999999995,
          3.076,
          3.0871999999999997,
          3.0984,
          3.1096,
          3.1207999999999996,
          3.132,
          3.1431999999999998,
          3.1543999999999994,
          3.1656,
          3.1767999999999996,
          3.188,
          3.1992,
          3.2103999999999995,
          3.2216,
          3.2327999999999997,
          3.244,
          3.2552,
          3.2663999999999995,
          3.2776,
          3.2887999999999997,
          3.3,
          3.3112,
          3.3223999999999996,
          3.3336,
          3.3447999999999998,
          3.356,
          3.3672,
          3.3783999999999996,
          3.3895999999999997,
          3.4008,
          3.412,
          3.4232,
          3.4343999999999997,
          3.4455999999999998,
          3.4568,
          3.468,
          3.4791999999999996,
          3.4903999999999997,
          3.5016,
          3.5128,
          3.524,
          3.5351999999999997,
          3.5463999999999998,
          3.5576,
          3.5687999999999995,
          3.58,
          3.5911999999999997,
          3.6024,
          3.6136,
          3.6247999999999996,
          3.636,
          3.6471999999999998,
          3.6583999999999994,
          3.6696,
          3.6807999999999996,
          3.692,
          3.7032,
          3.7143999999999995,
          3.7256,
          3.7367999999999997,
          3.748,
          3.7592,
          3.7703999999999995,
          3.7816,
          3.7927999999999997,
          3.804,
          3.8152,
          3.8263999999999996,
          3.8376,
          3.8487999999999998,
          3.86,
          3.8712,
          3.8823999999999996,
          3.8935999999999997,
          3.9048,
          3.916,
          3.9272,
          3.9383999999999997,
          3.9495999999999998,
          3.9608,
          3.972,
          3.9831999999999996,
          3.9943999999999997,
          4.005599999999999,
          4.0168,
          4.0280000000000005,
          4.039199999999999,
          4.0504,
          4.0616,
          4.072799999999999,
          4.084,
          4.0952,
          4.1064,
          4.1175999999999995,
          4.1288,
          4.14,
          4.151199999999999,
          4.1624,
          4.1736,
          4.184799999999999,
          4.196,
          4.2072,
          4.218399999999999,
          4.2296,
          4.2408,
          4.251999999999999,
          4.263199999999999,
          4.2744,
          4.2856000000000005,
          4.296799999999999,
          4.308,
          4.3192,
          4.330399999999999,
          4.3416,
          4.3528,
          4.363999999999999,
          4.3751999999999995,
          4.3864,
          4.3976,
          4.408799999999999,
          4.42,
          4.4312000000000005,
          4.442399999999999,
          4.4536,
          4.4648,
          4.475999999999999,
          4.4872,
          4.4984,
          4.5096,
          4.5207999999999995,
          4.531999999999999,
          4.5432,
          4.554399999999999,
          4.5656,
          4.5767999999999995,
          4.587999999999999,
          4.5992,
          4.610399999999999,
          4.621599999999999,
          4.6328000000000005,
          4.644,
          4.6552,
          4.666399999999999,
          4.677599999999999,
          4.6888000000000005,
          4.7,
          4.7112,
          4.7223999999999995,
          4.733599999999999,
          4.744800000000001,
          4.756,
          4.7672,
          4.7783999999999995,
          4.789599999999999,
          4.800799999999999,
          4.812,
          4.8232,
          4.8344,
          4.845599999999999,
          4.856799999999999,
          4.868,
          4.8792,
          4.8904,
          4.901599999999999,
          4.912799999999999,
          4.924,
          4.9352,
          4.9464,
          4.957599999999999,
          4.968799999999999,
          4.98,
          4.9912,
          5.0024,
          5.013599999999999,
          5.024799999999999,
          5.036,
          5.0472,
          5.0584,
          5.069599999999999,
          5.080799999999999,
          5.092,
          5.1032,
          5.1144,
          5.1255999999999995,
          5.136799999999999,
          5.148,
          5.1592,
          5.1704,
          5.1815999999999995,
          5.192799999999999,
          5.204,
          5.215199999999999,
          5.2264,
          5.2376,
          5.248799999999999,
          5.26,
          5.271199999999999,
          5.2824,
          5.2936,
          5.304799999999999,
          5.316,
          5.3271999999999995,
          5.3384,
          5.3496,
          5.360799999999999,
          5.372,
          5.3831999999999995,
          5.394399999999999,
          5.4056,
          5.416799999999999,
          5.428,
          5.4392,
          5.450399999999999,
          5.4616,
          5.472799999999999,
          5.484,
          5.4952,
          5.506399999999999,
          5.5176,
          5.5287999999999995,
          5.54,
          5.5512,
          5.562399999999999,
          5.5736,
          5.5847999999999995,
          5.596,
          5.6072,
          5.618399999999999,
          5.629599999999999,
          5.6408,
          5.652,
          5.6632,
          5.6743999999999994,
          5.685599999999999,
          5.6968,
          5.708,
          5.7192,
          5.7303999999999995,
          5.741599999999999,
          5.7528,
          5.764,
          5.7752,
          5.7863999999999995,
          5.797599999999999,
          5.808799999999999,
          5.82,
          5.8312,
          5.8424,
          5.853599999999999,
          5.864799999999999,
          5.876,
          5.8872,
          5.8984,
          5.909599999999999,
          5.920799999999999,
          5.932,
          5.9432,
          5.9544,
          5.965599999999999,
          5.976799999999999,
          5.988,
          5.9992,
          6.0104,
          6.021599999999999,
          6.032799999999999,
          6.044,
          6.0552,
          6.0664,
          6.0775999999999994,
          6.088799999999999
         ],
         "xaxis": "x",
         "y": [
          0.30148346452909225,
          0.32084915307397877,
          0.3408909072802691,
          0.3615860333121478,
          0.3829078697151183,
          0.4048257873657953,
          0.4273052192963871,
          0.45030772073718495,
          0.47379105937557514,
          0.4977093354854142,
          0.5220131312420324,
          0.5466496882118576,
          0.5715631116970541,
          0.5966946003300583,
          0.6219826990547784,
          0.6473635734046972,
          0.6727713027958082,
          0.6981381903969534,
          0.7233950870225435,
          0.7484717264136135,
          0.7732970692320269,
          0.7977996530881809,
          0.8219079459525971,
          0.8455507003636695,
          0.8686573059340544,
          0.8911581377730963,
          0.9129848985778733,
          0.934070952296936,
          0.9543516474336984,
          0.9737646282268833,
          0.9922501321188614,
          1.0097512720955188,
          1.0262143026500168,
          1.0415888682841834,
          1.055828233613533,
          1.0688894942823037,
          1.0807337680230293,
          1.0913263653099234,
          1.1006369391566972,
          1.1086396136980794,
          1.115313091270957,
          1.1206407377772751,
          1.1246106461683592,
          1.1272156779409814,
          1.1284534825817396,
          1.1283264949401588,
          1.1268419105548817,
          1.12401163900331,
          1.1198522353954818,
          1.1143848101891958,
          1.1076349175674998,
          1.099632422692268,
          1.0904113482300524,
          1.0800097006388922,
          1.0684692768072739,
          1.0558354517489699,
          1.0421569481787492,
          1.0274855889233405,
          1.0118760332576362,
          0.9953854983963719,
          0.9780734675141968,
          0.9600013858098391,
          0.9412323462706027,
          0.921830766928681,
          0.9018620615285953,
          0.8813923056421157,
          0.86048790037105,
          0.8392152358665351,
          0.8176403569633115,
          0.7958286332770861,
          0.7738444361398951,
          0.7517508247512948,
          0.7296092439003026,
          0.7074792355635791,
          0.6854181666088339,
          0.6634809747281946,
          0.6417199345952554,
          0.620184446081654,
          0.5989208461860029,
          0.5779722461210589,
          0.5573783947762869,
          0.5371755695248854,
          0.517396495079489,
          0.4980702908226161,
          0.47922244674952763,
          0.4608748278666191,
          0.44304570659132886,
          0.42574982240418435,
          0.40899846771396425,
          0.3927995986173275,
          0.37715796896873566,
          0.36207528592908056,
          0.3475503849360042,
          0.33357942183890305,
          0.3201560797704886,
          0.30727178818708245,
          0.2949159514042334,
          0.2830761838844024,
          0.2717385495008227,
          0.2608878020068362,
          0.2505076239831974,
          0.2405808616164386,
          0.2310897527782284,
          0.22201614602692962,
          0.21334170833581392,
          0.20504811956465624,
          0.1971172519291126,
          0.18953133298149258,
          0.18227309089275678,
          0.17532588111420433,
          0.16867379379340716,
          0.16230174161743433,
          0.1561955280522897,
          0.15034189623572933,
          0.1447285590564641,
          0.13934421121168733,
          0.13417852427275453,
          0.12922212600200447,
          0.12446656534906118,
          0.11990426470989238,
          0.1155284611545751,
          0.11133313841891143,
          0.10731295151016981,
          0.10346314579851677,
          0.09977947245390296,
          0.09625810204477979,
          0.09289553804203894,
          0.08968853187157434,
          0.08663400103481135,
          0.0837289516718583,
          0.08097040678016348,
          0.0783553411266073,
          0.07588062370664495,
          0.07354296841441792,
          0.07133889339642623,
          0.0692646893720831,
          0.06731639702063896,
          0.0654897933586703,
          0.06378038686833805,
          0.062183420986278076,
          0.06069388542824786,
          0.05930653470702746,
          0.05801591310167686,
          0.05681638525572288,
          0.05570217152050419,
          0.05466738711762389,
          0.05370608417084771,
          0.05281229565208767,
          0.0519800802973978,
          0.05120356757595663,
          0.050477001836496095,
          0.04979478481006985,
          0.04915151571386987,
          0.048542028276378574,
          0.047961424087818165,
          0.04740510177000232,
          0.0468687815546284,
          0.046348524957207635,
          0.04584074933359941,
          0.04534223720603189,
          0.04485014034403521,
          0.044361978681535,
          0.04387563424308447,
          0.04338934033859159,
          0.042901666365740186,
          0.04241149863148498,
          0.041918017667509334,
          0.04142067256844823,
          0.04091915292520977,
          0.040413358958187484,
          0.03990337047606053,
          0.03938941529484332,
          0.038871837748733575,
          0.03835106790913951,
          0.03782759210128413,
          0.03730192526946445,
          0.0367745856930609,
          0.03624607249667239,
          0.03571684633041649,
          0.03518731352180327,
          0.03465781392020329,
          0.034128612570407946,
          0.03359989526495145,
          0.033071767937563695,
          0.03254425977427734,
          0.03201732983620778,
          0.031490876910727265,
          0.03096475223737298,
          0.03043877469300188,
          0.029912747968790208,
          0.029386479230873456,
          0.028859798727617184,
          0.028332579790320802,
          0.027804758670878997,
          0.0272763536695445,
          0.02674748302810574,
          0.026218381097868507,
          0.02568941233686197,
          0.025161082745470496,
          0.02463404841277887,
          0.024109120915676373,
          0.023587269387418577,
          0.023069619150018785,
          0.02255744688361945,
          0.02205217238397407,
          0.02155534703449821,
          0.02106863919030545,
          0.02059381673663037,
          0.020132727141689108,
          0.01968727537315902,
          0.019259400087180984,
          0.01885104852844352,
          0.01846415059914408,
          0.018100592563347364,
          0.017762190851656614,
          0.01745066641962117,
          0.017167620092593417,
          0.016914509300693173,
          0.016692626571189206,
          0.016503080103150394,
          0.01634677670192809,
          0.01622440730025401,
          0.01613643523981868,
          0.01608308743347481,
          0.016064348474958214,
          0.01607995771142167,
          0.016129409245199077,
          0.016211954785977655,
          0.016326609233720764,
          0.01647215883683451,
          0.01664717173962217,
          0.016850010708247837,
          0.01707884780528996,
          0.017331680769400202,
          0.017606350848335093,
          0.01790056183031505,
          0.018211900019793156,
          0.018537854908717365,
          0.018875840302614515,
          0.019223215671659893,
          0.019577307509667775,
          0.01993543049801141,
          0.02029490828627398,
          0.020653093716421683,
          0.021007388332043072,
          0.021355261028371604,
          0.021694265712157774,
          0.02202205785285676,
          0.0223364098180041,
          0.022635224896140654,
          0.022916549920367277,
          0.023178586414782102,
          0.023419700194963824,
          0.023638429362626574,
          0.023833490643912852,
          0.02400378403084402,
          0.024148395696495937,
          0.02426659916676805,
          0.024357854745341932,
          0.02442180720368008,
          0.024458281764704985,
          0.024467278427024966,
          0.02444896469604085,
          0.02440366680867644,
          0.02433185955943077,
          0.024234154856475964,
          0.024111289157073883,
          0.023964109951063437,
          0.02379356147895779,
          0.023600669886660236,
          0.023386528031357656,
          0.023152280162224616,
          0.022899106704684005,
          0.02262820937773202,
          0.02234079686996562,
          0.022038071291300546,
          0.021721215603928007,
          0.02139138221796004,
          0.02104968291474558,
          0.020697180234419462,
          0.02033488043443773,
          0.01996372809332769,
          0.019584602399412218,
          0.019198315128709283,
          0.01880561028045106,
          0.018407165303637358,
          0.018003593814645533,
          0.017595449675032574,
          0.01718323227110226,
          0.01676739281327843,
          0.016348341454434766,
          0.01592645501254806,
          0.015502085074688738,
          0.015075566256607869,
          0.014647224395023042,
          0.014217384457998129,
          0.01378637797224419,
          0.01335454978428819,
          0.012922263994698358,
          0.012489908930230838,
          0.012057901047118291,
          0.01162668768893482,
          0.011196748653695224,
          0.010768596556225854,
          0.010342776002547332,
          0.009919861622250184,
          0.009500455031904137,
          0.009085180826792296,
          0.008674681719171648,
          0.008269612958421891,
          0.007870636181562805,
          0.007478412851531935,
          0.007093597445279046,
          0.0067168305542308635,
          0.006348732056200134,
          0.005989894510648414,
          0.005640876918737544,
          0.005302198976269572,
          0.004974335931915023,
          0.004657714145598962,
          0.004352707423105133,
          0.0040596341834148834,
          0.0037787554955528158,
          0.0035102740022656953,
          0.0032543337291647714,
          0.003011020760418127,
          0.0027803647460216047,
          0.002562341191375486,
          0.0023568744675429125,
          0.0021638414702949294,
          0.001983075847911089,
          0.0018143727116968363,
          0.0016574937392332923,
          0.0015121725783752594,
          0.0013781204597985146,
          0.0012550319272735407,
          0.0011425905975961032,
          0.0010404748660016205,
          0.0009483634776955236,
          0.000865940891616776,
          0.0007929023684949375,
          0.0007289587214652553,
          0.0006738406737957761,
          0.0006273027745112001,
          0.0005891268287571311,
          0.0005591248055568754,
          0.0005371411911280868,
          0.000523054761136339,
          0.0005167797501878576,
          0.0005182664015522267,
          0.0005275008846280406,
          0.0005445045721094821,
          0.0005693326732803684,
          0.0006020722244610152,
          0.000642839442468249,
          0.0006917764521193982,
          0.0007490474044019842,
          0.0008148340080084502,
          0.0008893305035414453,
          0.0009727381168408293,
          0.0010652590355486574,
          0.0011670899611563293,
          0.0012784152972746393,
          0.0013994000436030718,
          0.001530182473882377,
          0.0016708666847954612,
          0.001821515111106769,
          0.0019821411100482437,
          0.002152701724801424,
          0.0023330907426105125,
          0.0025231321673123233,
          0.002722574228614963,
          0.0029310840510426077,
          0.00314824310386786,
          0.00337354354938593,
          0.0036063856004062305,
          0.0038460759887640086,
          0.004091827634959826,
          0.004342760594769095,
          0.0045979043419377445,
          0.004856201427087536,
          0.0051165125319591965,
          0.005377622915452807,
          0.005638250223989199,
          0.00589705361396441,
          0.006152644109013356,
          0.006403596089977467,
          0.0066484597914570195,
          0.006885774656191401,
          0.0071140833778272124,
          0.0073319464444448834,
          0.007537956980032231,
          0.007730755669368877,
          0.007909045543902897,
          0.008071606402464166,
          0.00821730864127417,
          0.008345126272786992,
          0.008454148922431171,
          0.008543592606204615,
          0.008612809110086155,
          0.008661293814039983,
          0.008688691828579526,
          0.008694802339910847,
          0.008679581090003597,
          0.008643140949889879,
          0.008585750577374351,
          0.008507831183433828,
          0.008409951464167549,
          0.00829282078651838,
          0.008157280745443007,
          0.008004295237137311,
          0.007834939216760166,
          0.007650386329365633,
          0.007451895619061402,
          0.0072407975334754845,
          0.007018479448252719,
          0.006786370939450506,
          0.0065459290303964135,
          0.006298623633953547,
          0.006045923401455036,
          0.005789282176145551,
          0.005530126232212301,
          0.005269842460870056,
          0.005009767643001786,
          0.00475117892409698,
          0.004495285582241607,
          0.004243222154262439,
          0.003996042959367688,
          0.0037547180342804992,
          0.0035201304694166195,
          0.0032930751125495395,
          0.0030742585850096265,
          0.0028643005360951437,
          0.002663736044276534,
          0.0024730190591285835,
          0.0022925267658394834,
          0.002122564744666148,
          0.0019633727908181867,
          0.0018151312558916202,
          0.0016779677700250694,
          0.0015519642042653927,
          0.0014371637350275848,
          0.001333577876815644,
          0.0012411933553270575,
          0.001159978700478335,
          0.0010898904475522588,
          0.001030878844378693,
          0.0009828929730317877,
          0.0009458852057898182,
          0.0009198149269100865,
          0.0009046514639924577,
          0.0009003761852330642,
          0.0009069837316144012,
          0.0009244823659646876,
          0.0009528934337841947,
          0.0009922499437227134,
          0.0010425942885453213,
          0.0011039751402855261,
          0.001176443565989879,
          0.0012600484229285437,
          0.0013548311042881692,
          0.0014608197180650448,
          0.001578022793004421,
          0.0017064226158338563,
          0.0018459683135409468,
          0.001996568802859142,
          0.002158085736245497,
          0.0023303265792491137,
          0.0025130379580650124,
          0.002705899418035658,
          0.0029085177337056364,
          0.0031204219085816777,
          0.0033410589978550907,
          0.003569790879905355,
          0.003805892092364485,
          0.004048548835881551,
          0.004296859233543054,
          0.0045498349163045305,
          0.004806403984961326,
          0.005065415377395494,
          0.005325644646405759,
          0.005585801128751298,
          0.005844536460562822,
          0.006100454368490363,
          0.006352121640400812,
          0.006598080154664208,
          0.006836859823644329,
          0.0070669922855026044,
          0.0072870251593739385,
          0.007495536662893684,
          0.007691150378396284,
          0.007872549945265282,
          0.008038493451199575,
          0.008187827294793809,
          0.008319499295935008,
          0.008432570839106875,
          0.008526227847674941,
          0.008599790404397931,
          0.008652720854463935,
          0.008684630251875694
         ],
         "yaxis": "y"
        },
        {
         "legendgroup": "Not Survived",
         "marker": {
          "color": "rgb(255, 127, 14)"
         },
         "mode": "lines",
         "name": "Not Survived",
         "showlegend": false,
         "type": "scatter",
         "x": [
          0.6,
          0.6175999999999999,
          0.6352,
          0.6527999999999999,
          0.6704,
          0.688,
          0.7056,
          0.7232,
          0.7408,
          0.7584,
          0.776,
          0.7936,
          0.8112,
          0.8288,
          0.8464,
          0.864,
          0.8815999999999999,
          0.8992,
          0.9168000000000001,
          0.9344,
          0.952,
          0.9696,
          0.9872000000000001,
          1.0048,
          1.0224,
          1.04,
          1.0575999999999999,
          1.0752000000000002,
          1.0928,
          1.1104,
          1.1280000000000001,
          1.1456,
          1.1632,
          1.1808,
          1.1984,
          1.216,
          1.2336,
          1.2511999999999999,
          1.2688000000000001,
          1.2864,
          1.3039999999999998,
          1.3216,
          1.3392,
          1.3568,
          1.3744,
          1.3920000000000001,
          1.4096,
          1.4272,
          1.4448,
          1.4624000000000001,
          1.48,
          1.4976,
          1.5152,
          1.5328,
          1.5504000000000002,
          1.568,
          1.5856000000000001,
          1.6032000000000002,
          1.6208,
          1.6383999999999999,
          1.6560000000000001,
          1.6736,
          1.6911999999999998,
          1.7088,
          1.7264,
          1.7439999999999998,
          1.7616,
          1.7792,
          1.7968000000000002,
          1.8144,
          1.8319999999999999,
          1.8496000000000001,
          1.8672,
          1.8848000000000003,
          1.9024,
          1.92,
          1.9376000000000002,
          1.9552,
          1.9728000000000003,
          1.9904000000000002,
          2.008,
          2.0256000000000003,
          2.0432,
          2.0608,
          2.0784000000000002,
          2.096,
          2.1136,
          2.1312,
          2.1488,
          2.1664,
          2.184,
          2.2016,
          2.2192,
          2.2368,
          2.2544,
          2.2720000000000002,
          2.2896,
          2.3072,
          2.3248,
          2.3424,
          2.3600000000000003,
          2.3776,
          2.3952,
          2.4128000000000003,
          2.4304,
          2.4480000000000004,
          2.4656000000000002,
          2.4832,
          2.5008000000000004,
          2.5184,
          2.536,
          2.5536000000000003,
          2.5712,
          2.5888,
          2.6064000000000003,
          2.624,
          2.6416000000000004,
          2.6592000000000002,
          2.6768,
          2.6944000000000004,
          2.712,
          2.7296000000000005,
          2.7472000000000003,
          2.7648,
          2.7824,
          2.8000000000000003,
          2.8176000000000005,
          2.8352000000000004,
          2.8528000000000002,
          2.8704,
          2.888,
          2.9056000000000006,
          2.9232000000000005,
          2.9408000000000003,
          2.9584,
          2.976,
          2.9936000000000003,
          3.0112000000000005,
          3.0288000000000004,
          3.0464,
          3.064,
          3.0816000000000003,
          3.0992,
          3.1168000000000005,
          3.1344000000000003,
          3.152,
          3.1696000000000004,
          3.1872000000000003,
          3.2048,
          3.2224000000000004,
          3.24,
          3.2576000000000005,
          3.2752000000000003,
          3.2928,
          3.3104,
          3.3280000000000003,
          3.3456000000000006,
          3.3632000000000004,
          3.3808000000000002,
          3.3984,
          3.416,
          3.4336000000000007,
          3.4512000000000005,
          3.4688000000000003,
          3.4864,
          3.5040000000000004,
          3.5216000000000003,
          3.5392000000000006,
          3.5568000000000004,
          3.5744000000000002,
          3.5920000000000005,
          3.6096000000000004,
          3.6272,
          3.6448000000000005,
          3.6624000000000003,
          3.6800000000000006,
          3.6976000000000004,
          3.7152000000000003,
          3.7328,
          3.7504000000000004,
          3.7680000000000007,
          3.7856000000000005,
          3.8032000000000004,
          3.8208,
          3.8384,
          3.8560000000000008,
          3.8736000000000006,
          3.8912000000000004,
          3.9088000000000003,
          3.9264,
          3.9440000000000004,
          3.9616000000000002,
          3.9792000000000005,
          3.9968000000000004,
          4.0144,
          4.032,
          4.0496,
          4.0672,
          4.0848,
          4.1024,
          4.12,
          4.1376,
          4.1552,
          4.1728,
          4.1904,
          4.208,
          4.2256,
          4.2432,
          4.2608,
          4.2783999999999995,
          4.296,
          4.3136,
          4.3312,
          4.3488,
          4.3664,
          4.384,
          4.4016,
          4.4192,
          4.4368,
          4.4544,
          4.472,
          4.4896,
          4.5072,
          4.5248,
          4.542400000000001,
          4.5600000000000005,
          4.5776,
          4.5952,
          4.6128,
          4.6304,
          4.648,
          4.6656,
          4.6832,
          4.7008,
          4.7184,
          4.736,
          4.7536,
          4.7712,
          4.7888,
          4.8064,
          4.824,
          4.8416,
          4.8592,
          4.8768,
          4.8944,
          4.912,
          4.9296,
          4.9472000000000005,
          4.964799999999999,
          4.9824,
          5,
          5.0176,
          5.035200000000001,
          5.0527999999999995,
          5.0704,
          5.088,
          5.1056,
          5.123200000000001,
          5.1408,
          5.1584,
          5.175999999999999,
          5.1936,
          5.211200000000001,
          5.2288,
          5.2464,
          5.263999999999999,
          5.2816,
          5.299200000000001,
          5.3168,
          5.3344000000000005,
          5.351999999999999,
          5.3696,
          5.3872,
          5.4048,
          5.4224000000000006,
          5.4399999999999995,
          5.4576,
          5.4752,
          5.4928,
          5.510400000000001,
          5.528,
          5.5456,
          5.5632,
          5.5808,
          5.5984,
          5.616,
          5.6336,
          5.6512,
          5.6688,
          5.6864,
          5.704,
          5.7216,
          5.7392,
          5.7568,
          5.7744,
          5.792,
          5.8096,
          5.8272,
          5.8448,
          5.8624,
          5.88,
          5.8976,
          5.9152000000000005,
          5.932799999999999,
          5.9504,
          5.968,
          5.9856,
          6.0032000000000005,
          6.0207999999999995,
          6.0384,
          6.056,
          6.0736,
          6.091200000000001,
          6.1088,
          6.1264,
          6.143999999999999,
          6.1616,
          6.179200000000001,
          6.1968,
          6.2144,
          6.231999999999999,
          6.2496,
          6.267200000000001,
          6.2848,
          6.3024000000000004,
          6.32,
          6.3376,
          6.3552,
          6.3728,
          6.3904000000000005,
          6.408,
          6.4256,
          6.4432,
          6.4608,
          6.478400000000001,
          6.496,
          6.5136,
          6.5312,
          6.5488,
          6.5664,
          6.5840000000000005,
          6.6016,
          6.6192,
          6.6368,
          6.6544,
          6.672000000000001,
          6.6896,
          6.7072,
          6.7248,
          6.7424,
          6.760000000000001,
          6.7776,
          6.7952,
          6.8128,
          6.8304,
          6.848000000000001,
          6.8656,
          6.8832,
          6.9008,
          6.9184,
          6.936000000000001,
          6.9536,
          6.9712000000000005,
          6.9887999999999995,
          7.0064,
          7.024000000000001,
          7.0416,
          7.059200000000001,
          7.0767999999999995,
          7.0944,
          7.112000000000001,
          7.1296,
          7.147200000000001,
          7.1648,
          7.1824,
          7.2,
          7.2176,
          7.235200000000001,
          7.2528,
          7.2704,
          7.288,
          7.3056,
          7.3232,
          7.3408,
          7.3584000000000005,
          7.376,
          7.3936,
          7.4112,
          7.4288,
          7.446400000000001,
          7.464,
          7.4816,
          7.4992,
          7.5168,
          7.5344,
          7.5520000000000005,
          7.5696,
          7.5872,
          7.6048,
          7.6224,
          7.640000000000001,
          7.6576,
          7.6752,
          7.6928,
          7.7104,
          7.728000000000001,
          7.7456,
          7.7632,
          7.7808,
          7.7984,
          7.816000000000001,
          7.8336,
          7.8512,
          7.8688,
          7.8864,
          7.904000000000001,
          7.9216,
          7.9392000000000005,
          7.956799999999999,
          7.9744,
          7.992000000000001,
          8.0096,
          8.0272,
          8.0448,
          8.0624,
          8.080000000000002,
          8.0976,
          8.115200000000002,
          8.1328,
          8.150400000000001,
          8.168000000000001,
          8.1856,
          8.2032,
          8.2208,
          8.2384,
          8.256,
          8.2736,
          8.291200000000002,
          8.3088,
          8.326400000000001,
          8.344000000000001,
          8.361600000000001,
          8.3792,
          8.3968,
          8.4144,
          8.432,
          8.4496,
          8.4672,
          8.484800000000002,
          8.502400000000002,
          8.520000000000001,
          8.537600000000001,
          8.555200000000001,
          8.5728,
          8.5904,
          8.608,
          8.6256,
          8.6432,
          8.6608,
          8.6784,
          8.696,
          8.7136,
          8.731200000000001,
          8.748800000000001,
          8.7664,
          8.784,
          8.8016,
          8.8192,
          8.8368,
          8.854400000000002,
          8.872,
          8.8896,
          8.9072,
          8.924800000000001,
          8.942400000000001,
          8.959999999999999,
          8.9776,
          8.9952,
          9.0128,
          9.030400000000002,
          9.048,
          9.0656,
          9.0832,
          9.100800000000001,
          9.118400000000001,
          9.136,
          9.1536,
          9.1712,
          9.1888,
          9.2064,
          9.224,
          9.2416,
          9.2592,
          9.276800000000001,
          9.294400000000001,
          9.312,
          9.3296,
          9.3472,
          9.3648,
          9.3824
         ],
         "xaxis": "x",
         "y": [
          0.2812180468593613,
          0.28836878696497376,
          0.2954944052561544,
          0.3025850571719843,
          0.30963081991873354,
          0.3166217204138101,
          0.32354776373525596,
          0.33039896194540463,
          0.33716536315379764,
          0.3438370806818461,
          0.3504043221899946,
          0.3568574186273972,
          0.36318685286428865,
          0.3693832878683939,
          0.3754375942888303,
          0.3813408773140132,
          0.3870845026740916,
          0.39266012166331843,
          0.39805969506355127,
          0.4032755158566722,
          0.4083002306210814,
          0.4131268595155215,
          0.4177488147622249,
          0.42215991755070176,
          0.4263544132933074,
          0.4303269851739909,
          0.43407276594220406,
          0.4375873479147944,
          0.44086679115972155,
          0.4439076298464798,
          0.4467068767592013,
          0.4492620259793282,
          0.4515710537555035,
          0.45363241758878997,
          0.45544505357141396,
          0.45700837202688993,
          0.4583222515085084,
          0.4593870312217154,
          0.460203501943812,
          0.46077289552159745,
          0.46109687303403485,
          0.46117751171267746,
          0.46101729071743336,
          0.46061907586926987,
          0.45998610344458324,
          0.45912196313828396,
          0.45803058030404586,
          0.45671619758078413,
          0.45518335601418336,
          0.45343687578104086,
          0.4514818366224035,
          0.44932355808894103,
          0.44696757969877116,
          0.4444196411041288,
          0.4416856623588406,
          0.4387717243736512,
          0.4356840496410641,
          0.4324289833056081,
          0.429012974649358,
          0.4254425590562285,
          0.42172434051205454,
          0.4178649746908681,
          0.4138711526711146,
          0.4097495853189466,
          0.40550698836914556,
          0.401150068227839,
          0.39668550851494494,
          0.392119957358305,
          0.3874600154457767,
          0.382712224836196,
          0.37788305852512016,
          0.37297891075664796,
          0.3680060880684279,
          0.36297080105318125,
          0.3578791568167625,
          0.35273715210988077,
          0.3475506671082005,
          0.3423254598135258,
          0.33706716104724344,
          0.33178127000606006,
          0.32647315034932384,
          0.32114802678689164,
          0.315810982136485,
          0.3104669548198093,
          0.30512073676734774,
          0.29977697170260387,
          0.2944401537777037,
          0.28911462653357306,
          0.2838045821593759,
          0.27851406102751297,
          0.2732469514821603,
          0.26800698986110133,
          0.2627977607323769,
          0.25762269732907794,
          0.2524850821673618,
          0.24738804783448332,
          0.24233457793526947,
          0.23732750818701107,
          0.2323695276541759,
          0.22746318011565664,
          0.22261086555844264,
          0.21781484179263103,
          0.21307722618358294,
          0.208399997497748,
          0.20378499785927945,
          0.19923393481497279,
          0.1947483835053723,
          0.19032978894002575,
          0.18597946837490612,
          0.18169861378991978,
          0.17748829446423797,
          0.1733494596468875,
          0.16928294131968588,
          0.16528945704917175,
          0.16136961292370552,
          0.15752390657140808,
          0.15375273025406824,
          0.15005637403162364,
          0.14643502899128155,
          0.1428887905348421,
          0.13941766171731515,
          0.13602155662947768,
          0.13270030381664882,
          0.12945364972563123,
          0.12628126217151256,
          0.12318273381584456,
          0.12015758564759797,
          0.11720527045827626,
          0.114325176302609,
          0.1115166299363793,
          0.10877890022314803,
          0.10611120150190599,
          0.10351269690804873,
          0.10098250164047144,
          0.09851968616805963,
          0.09612327936937956,
          0.09379227159993973,
          0.09152561768200657,
          0.08932223981259554,
          0.08718103038592033,
          0.08510085472725411,
          0.083080553735838,
          0.08111894643514206,
          0.07921483242945303,
          0.0773669942664035,
          0.07557419970567911,
          0.07383520389472732,
          0.07214875145284003,
          0.07051357846549,
          0.06892841439126163,
          0.06739198388412401,
          0.06590300853415086,
          0.06446020853009304,
          0.06306230424745146,
          0.061708017765885206,
          0.060396074319920716,
          0.059125203687000104,
          0.05789414151692852,
          0.056701630606746455,
          0.05554642212497534,
          0.054427276789055554,
          0.053342965999628636,
          0.052292272935111454,
          0.051273993609766415,
          0.05028693789820905,
          0.04932993052899718,
          0.048401812049637595,
          0.04750143976501691,
          0.04662768865093189,
          0.045779452244047406,
          0.04495564350927465,
          0.044155195685218196,
          0.043377063108013626,
          0.042620222013555434,
          0.04188367131780935,
          0.041166433374617124,
          0.04046755471013019,
          0.039786106732765995,
          0.0391211864173564,
          0.038471916961962414,
          0.03783744841565847,
          0.03721695827544739,
          0.036609652050351105,
          0.03601476379063595,
          0.03543155658006871,
          0.034859322989068985,
          0.034297385486612916,
          0.03374509680876205,
          0.033201840281732134,
          0.032667030097479295,
          0.032140111539864714,
          0.031620561159562584,
          0.031107886895997087,
          0.030601628144729137,
          0.030101355768865492,
          0.029606672053224703,
          0.029117210600168884,
          0.028632636166191317,
          0.028152644438541426,
          0.027676961751364682,
          0.027205344741035156,
          0.026737579940563787,
          0.026273483313171458,
          0.02581289972532495,
          0.025355702359741394,
          0.02490179206907592,
          0.024451096671212452,
          0.024003570187285123,
          0.023559192023758085,
          0.023117966100093555,
          0.022679919923733468,
          0.022245103614314234,
          0.021813588879223095,
          0.02138546794279058,
          0.02096085243159411,
          0.020539872218523818,
          0.020122674228434754,
          0.019709421208372595,
          0.01930029046552454,
          0.018895472576197746,
          0.01849517006927896,
          0.0180995960877677,
          0.017708973032110917,
          0.01732353118919215,
          0.0169435073509445,
          0.01656914342666598,
          0.016200685053211174,
          0.015838380207321142,
          0.015482477824426908,
          0.015133226428323392,
          0.014790872776159012,
          0.014455660523218502,
          0.01412782891199385,
          0.013807611490039114,
          0.013495234861087274,
          0.013190917473872205,
          0.012894868453042947,
          0.012607286476483088,
          0.012328358703251132,
          0.012058259756240138,
          0.01179715076351523,
          0.011545178462124741,
          0.011302474367996071,
          0.011069154015319273,
          0.010845316268589944,
          0.010631042710230795,
          0.01042639710643436,
          0.010231424953573154,
          0.010046153107204768,
          0.009870589495362061,
          0.009704722917461746,
          0.009548522929790752,
          0.009401939818140621,
          0.009264904657756668,
          0.00913732946035275,
          0.009019107407518559,
          0.008910113169412882,
          0.008810203307199229,
          0.008719216757241377,
          0.008636975394636285,
          0.008563284673227341,
          0.008497934338811236,
          0.008440699211833304,
          0.008391340035458342,
          0.00834960438451453,
          0.008315227630435455,
          0.008287933956976396,
          0.008267437421156473,
          0.008253443053583076,
          0.008245647992049234,
          0.008243742642064993,
          0.00824741185778863,
          0.008256336136668303,
          0.00827019282099,
          0.008288657299456001,
          0.008311404201889864,
          0.008338108580182805,
          0.008368447068659999,
          0.008402099017157405,
          0.008438747590258321,
          0.008478080826344696,
          0.008519792650370447,
          0.00856358383456193,
          0.00860916290159247,
          0.008656246965161863,
          0.008704562503335818,
          0.008753846060462108,
          0.008803844873975952,
          0.008854317422934459,
          0.00890503389567425,
          0.0089557765745652,
          0.009006340136429014,
          0.009056531867804881,
          0.009106171794864566,
          0.009155092728407033,
          0.00920314022498874,
          0.009250172465866941,
          0.009296060056044806,
          0.009340685746301643,
          0.00938394408166664,
          0.009425740980343305,
          0.009465993247609793,
          0.009504628029703754,
          0.009541582213143893,
          0.009576801775339884,
          0.009610241092695574,
          0.009641862212711549,
          0.009671634096842218,
          0.009699531841054062,
          0.00972553588116678,
          0.009749631190133404,
          0.00977180647443075,
          0.009792053376684914,
          0.009810365691551028,
          0.009826738601700148,
          0.009841167940541913,
          0.009853649488032018,
          0.009864178305578128,
          0.009872748115673805,
          0.009879350731456666,
          0.009883975540911229,
          0.009886609049921492,
          0.00988723448782871,
          0.009885831478570119,
          0.00988237577987193,
          0.009876839092347387,
          0.009869188939716698,
          0.009859388620723981,
          0.009847397232684154,
          0.00983316976595506,
          0.009816657268003758,
          0.009797807075125536,
          0.009776563109286426,
          0.009752866236999131,
          0.009726654686614164,
          0.009697864519917006,
          0.009666430153472037,
          0.009632284924749828,
          0.009595361697718248,
          0.009555593502273842,
          0.009512914201638972,
          0.009467259181656256,
          0.009418566055773063,
          0.009366775379429731,
          0.0093118313675418,
          0.009253682608801954,
          0.0091922827706183,
          0.009127591288650944,
          0.009059574035107645,
          0.008988203960206937,
          0.008913461701512321,
          0.0088353361561798,
          0.008753825011538315,
          0.008668935229836593,
          0.008580683483433266,
          0.008489096537177311,
          0.00839421157521722,
          0.008296076469983588,
          0.008194749991608876,
          0.008090301956570204,
          0.00798281331486658,
          0.007872376175560263,
          0.007759093771022603,
          0.00764308036072037,
          0.00752446107585505,
          0.007403371706622274,
          0.007279958434284694,
          0.0071543775106484835,
          0.007026794887896141,
          0.006897385802053942,
          0.006766334313659976,
          0.006633832809444189,
          0.0065000814690360535,
          0.0063652877008757,
          0.0062296655516202865,
          0.006093435093410348,
          0.005956821793388662,
          0.005820055869850361,
          0.005683371639346544,
          0.005547006858967456,
          0.005411202067897083,
          0.005276199932160538,
          0.005142244596282493,
          0.0050095810453411925,
          0.0048784544806418795,
          0.004749109711949078,
          0.004621790568912681,
          0.004496739334001776,
          0.004374196198926254,
          0.004254398746183779,
          0.004137581457021755,
          0.004023975246755094,
          0.003913807028033859,
          0.003807299302314349,
          0.003704669779456311,
          0.003606131025050688,
          0.003511890134780566,
          0.0034221484348344877,
          0.0033371012071300647,
          0.0032569374378680948,
          0.0031818395877260377,
          0.0031119833818161282,
          0.0030475376173793494,
          0.0029886639870630597,
          0.002935516915537969,
          0.002888243407150295,
          0.0028469829022771025,
          0.0028118671400572813,
          0.0027830200252067223,
          0.0027605574966932133,
          0.0027445873961437837,
          0.00273520933398277,
          0.0027325145514517724,
          0.002736585776840746,
          0.0027474970744607668,
          0.0027653136851114755,
          0.0027900918570371042,
          0.0028218786666220266,
          0.0028607118283470153,
          0.0029066194938082946,
          0.002959620039889608,
          0.0030197218464707845,
          0.0030869230643505675,
          0.0031612113743548116,
          0.003242563738889891,
          0.003330946147482646,
          0.0034263133581193196,
          0.0035286086364545418,
          0.0036377634952033527,
          0.003753697436254651,
          0.0038763176982470103,
          0.004005519012530231,
          0.004141183370590926,
          0.004283179806151088,
          0.0044313641952493325,
          0.004585579077686803,
          0.0047456535032607714,
          0.004911402906218909,
          0.005082629011344484,
          0.005259119775028828,
          0.005440649364598802,
          0.005626978179049504,
          0.005817852914179271,
          0.006013006674943442,
          0.006212159137630166,
          0.006415016764221248,
          0.006621273071032571,
          0.006830608953435551,
          0.007042693068143497,
          0.007257182274208901,
          0.007473722133520551,
          0.007691947471215075,
          0.007911482996030918,
          0.008131943980234414,
          0.008352936998341172,
          0.008574060723445505,
          0.008794906779557694,
          0.009015060647937377,
          0.009234102625004926,
          0.009451608829012973,
          0.009667152252272429,
          0.009880303855352525,
          0.0100906336993172,
          0.010297712111721766,
          0.010501110881779435,
          0.01070040447981602,
          0.010895171295869503,
          0.01108499489205785,
          0.011269465263137927,
          0.011448180099510742,
          0.011620746046796549,
          0.011786779956008256,
          0.01194591011829262,
          0.01209777747819093,
          0.012242036819388754,
          0.012378357916984054,
          0.012506426650399513,
          0.01262594607120161,
          0.012736637420262834,
          0.012838241088914237,
          0.012930517518982294,
          0.013013248036885196,
          0.013086235617276582,
          0.013149305572069206,
          0.013202306161042468,
          0.01324510912063612,
          0.01327761010795293,
          0.01329972905743472,
          0.013311410448134647,
          0.013312623479981394,
          0.013303362157914948,
          0.013283645283265163,
          0.013253516352240514,
          0.013213043361891472,
          0.013162318524407841,
          0.013101457891098595,
          0.013030600887882961,
          0.012949909764589925,
          0.012859568960815774,
          0.012759784391524398
         ],
         "yaxis": "y"
        },
        {
         "legendgroup": "Survived",
         "marker": {
          "color": "rgb(31, 119, 180)",
          "symbol": "line-ns-open"
         },
         "mode": "markers",
         "name": "Survived",
         "showlegend": false,
         "type": "scatter",
         "x": [
          1,
          1.3,
          0.8,
          1.2,
          2.3,
          1,
          2.7,
          0.6,
          1.1,
          1.18,
          0.8,
          0.9,
          1.3,
          0.8,
          1.2,
          0.6,
          0.9,
          1.7,
          1.18,
          1.8,
          0.7,
          1.1,
          0.8,
          0.7,
          1.1,
          0.8,
          1,
          1.18,
          0.7,
          1,
          1.3,
          1.1,
          1.2,
          1.1,
          1.1,
          1.18,
          1.1,
          1,
          2.3,
          1.3,
          0.9,
          1.1,
          1.3,
          1.2,
          1.6,
          1.2,
          1,
          0.7,
          3.2,
          0.9,
          1.5,
          1,
          0.75,
          0.9,
          1.3,
          0.8,
          0.7,
          3.4,
          0.7,
          6.1,
          1.18,
          1.3,
          1.18,
          1.18,
          0.9,
          2.1,
          1,
          0.8,
          0.9,
          0.9,
          0.9,
          0.7,
          0.7,
          1,
          0.9,
          0.9,
          0.9,
          1.18,
          0.8,
          1.7,
          1.4,
          1,
          1.3,
          1.1,
          1.2,
          0.8,
          0.9,
          0.7,
          1,
          0.8,
          1.5,
          0.9,
          1.1,
          0.8,
          0.9,
          1,
          1,
          1,
          1.2,
          0.7,
          0.9,
          1,
          0.9,
          2.1,
          1.5,
          0.7,
          1.18,
          1.18,
          0.8,
          1,
          1.8,
          0.7,
          1,
          0.9,
          3.5,
          0.7,
          1,
          0.8,
          0.9,
          1,
          0.8,
          1,
          0.8,
          1.4,
          0.8,
          1.3,
          0.9,
          1.1,
          0.7,
          1.1,
          1.1,
          0.8,
          1,
          1.4,
          1.3,
          1,
          5,
          1.2,
          1.1,
          0.9,
          1.4,
          1.1,
          1.1,
          1.1,
          1.2,
          1,
          1.18,
          1.3,
          1.3,
          1.1,
          0.9,
          1.8,
          1.4,
          2.4,
          1,
          1.2,
          0.5,
          0.8,
          1,
          1.2,
          1,
          1,
          1.7,
          1,
          0.8,
          0.7,
          1,
          0.7,
          1,
          1.2,
          0.9,
          1.7,
          0.9,
          1,
          1.6,
          0.9,
          1.2,
          0.7,
          1,
          0.8,
          1.1,
          1.1,
          0.7,
          1.3,
          1,
          2.7,
          3.8,
          1.1,
          0.8,
          1.2,
          1.7,
          1,
          1.1,
          0.9,
          0.8,
          1.4,
          1,
          0.9,
          1.1,
          1.2,
          0.8,
          1.4,
          1.6
         ],
         "xaxis": "x",
         "y": [
          "Survived",
          "Survived",
          "Survived",
          "Survived",
          "Survived",
          "Survived",
          "Survived",
          "Survived",
          "Survived",
          "Survived",
          "Survived",
          "Survived",
          "Survived",
          "Survived",
          "Survived",
          "Survived",
          "Survived",
          "Survived",
          "Survived",
          "Survived",
          "Survived",
          "Survived",
          "Survived",
          "Survived",
          "Survived",
          "Survived",
          "Survived",
          "Survived",
          "Survived",
          "Survived",
          "Survived",
          "Survived",
          "Survived",
          "Survived",
          "Survived",
          "Survived",
          "Survived",
          "Survived",
          "Survived",
          "Survived",
          "Survived",
          "Survived",
          "Survived",
          "Survived",
          "Survived",
          "Survived",
          "Survived",
          "Survived",
          "Survived",
          "Survived",
          "Survived",
          "Survived",
          "Survived",
          "Survived",
          "Survived",
          "Survived",
          "Survived",
          "Survived",
          "Survived",
          "Survived",
          "Survived",
          "Survived",
          "Survived",
          "Survived",
          "Survived",
          "Survived",
          "Survived",
          "Survived",
          "Survived",
          "Survived",
          "Survived",
          "Survived",
          "Survived",
          "Survived",
          "Survived",
          "Survived",
          "Survived",
          "Survived",
          "Survived",
          "Survived",
          "Survived",
          "Survived",
          "Survived",
          "Survived",
          "Survived",
          "Survived",
          "Survived",
          "Survived",
          "Survived",
          "Survived",
          "Survived",
          "Survived",
          "Survived",
          "Survived",
          "Survived",
          "Survived",
          "Survived",
          "Survived",
          "Survived",
          "Survived",
          "Survived",
          "Survived",
          "Survived",
          "Survived",
          "Survived",
          "Survived",
          "Survived",
          "Survived",
          "Survived",
          "Survived",
          "Survived",
          "Survived",
          "Survived",
          "Survived",
          "Survived",
          "Survived",
          "Survived",
          "Survived",
          "Survived",
          "Survived",
          "Survived",
          "Survived",
          "Survived",
          "Survived",
          "Survived",
          "Survived",
          "Survived",
          "Survived",
          "Survived",
          "Survived",
          "Survived",
          "Survived",
          "Survived",
          "Survived",
          "Survived",
          "Survived",
          "Survived",
          "Survived",
          "Survived",
          "Survived",
          "Survived",
          "Survived",
          "Survived",
          "Survived",
          "Survived",
          "Survived",
          "Survived",
          "Survived",
          "Survived",
          "Survived",
          "Survived",
          "Survived",
          "Survived",
          "Survived",
          "Survived",
          "Survived",
          "Survived",
          "Survived",
          "Survived",
          "Survived",
          "Survived",
          "Survived",
          "Survived",
          "Survived",
          "Survived",
          "Survived",
          "Survived",
          "Survived",
          "Survived",
          "Survived",
          "Survived",
          "Survived",
          "Survived",
          "Survived",
          "Survived",
          "Survived",
          "Survived",
          "Survived",
          "Survived",
          "Survived",
          "Survived",
          "Survived",
          "Survived",
          "Survived",
          "Survived",
          "Survived",
          "Survived",
          "Survived",
          "Survived",
          "Survived",
          "Survived",
          "Survived",
          "Survived",
          "Survived",
          "Survived",
          "Survived",
          "Survived",
          "Survived",
          "Survived",
          "Survived",
          "Survived",
          "Survived",
          "Survived"
         ],
         "yaxis": "y2"
        },
        {
         "legendgroup": "Not Survived",
         "marker": {
          "color": "rgb(255, 127, 14)",
          "symbol": "line-ns-open"
         },
         "mode": "markers",
         "name": "Not Survived",
         "showlegend": false,
         "type": "scatter",
         "x": [
          1.9,
          1.1,
          1.3,
          1.9,
          2.7,
          2.1,
          1.2,
          1.1,
          1.5,
          9.4,
          4,
          0.9,
          1.1,
          1.1,
          1.3,
          0.9,
          0.8,
          1,
          1.9,
          1.6,
          0.9,
          1.83,
          1.9,
          1,
          1.3,
          5.8,
          1.2,
          1.83,
          3,
          1,
          1,
          3.5,
          1,
          1,
          3,
          1.83,
          1.2,
          1.2,
          1.1,
          1.9,
          0.9,
          0.6,
          4.4,
          1,
          1,
          1.4,
          6.8,
          1,
          2.2,
          2,
          1.1,
          1.3,
          1,
          2.3,
          1,
          2.9,
          1.3,
          1,
          1.2,
          1.83,
          1,
          1.2,
          0.7,
          2.5,
          1,
          1.7,
          1.7,
          1.2,
          1.3,
          1.83,
          3.7,
          2.1,
          1.1,
          1.7,
          1.83,
          2.5,
          0.9,
          1.1,
          1.3,
          2.4,
          1,
          1.2,
          2.5,
          1.2,
          1.5,
          0.6,
          2.1,
          1.6,
          1.8,
          1.6,
          9,
          1.83,
          1.7,
          1.1,
          1.4,
          1.83
         ],
         "xaxis": "x",
         "y": [
          "Not Survived",
          "Not Survived",
          "Not Survived",
          "Not Survived",
          "Not Survived",
          "Not Survived",
          "Not Survived",
          "Not Survived",
          "Not Survived",
          "Not Survived",
          "Not Survived",
          "Not Survived",
          "Not Survived",
          "Not Survived",
          "Not Survived",
          "Not Survived",
          "Not Survived",
          "Not Survived",
          "Not Survived",
          "Not Survived",
          "Not Survived",
          "Not Survived",
          "Not Survived",
          "Not Survived",
          "Not Survived",
          "Not Survived",
          "Not Survived",
          "Not Survived",
          "Not Survived",
          "Not Survived",
          "Not Survived",
          "Not Survived",
          "Not Survived",
          "Not Survived",
          "Not Survived",
          "Not Survived",
          "Not Survived",
          "Not Survived",
          "Not Survived",
          "Not Survived",
          "Not Survived",
          "Not Survived",
          "Not Survived",
          "Not Survived",
          "Not Survived",
          "Not Survived",
          "Not Survived",
          "Not Survived",
          "Not Survived",
          "Not Survived",
          "Not Survived",
          "Not Survived",
          "Not Survived",
          "Not Survived",
          "Not Survived",
          "Not Survived",
          "Not Survived",
          "Not Survived",
          "Not Survived",
          "Not Survived",
          "Not Survived",
          "Not Survived",
          "Not Survived",
          "Not Survived",
          "Not Survived",
          "Not Survived",
          "Not Survived",
          "Not Survived",
          "Not Survived",
          "Not Survived",
          "Not Survived",
          "Not Survived",
          "Not Survived",
          "Not Survived",
          "Not Survived",
          "Not Survived",
          "Not Survived",
          "Not Survived",
          "Not Survived",
          "Not Survived",
          "Not Survived",
          "Not Survived",
          "Not Survived",
          "Not Survived",
          "Not Survived",
          "Not Survived",
          "Not Survived",
          "Not Survived",
          "Not Survived",
          "Not Survived",
          "Not Survived",
          "Not Survived",
          "Not Survived",
          "Not Survived",
          "Not Survived",
          "Not Survived"
         ],
         "yaxis": "y2"
        }
       ],
       "layout": {
        "barmode": "overlay",
        "hovermode": "closest",
        "legend": {
         "traceorder": "reversed"
        },
        "template": {
         "data": {
          "bar": [
           {
            "error_x": {
             "color": "#2a3f5f"
            },
            "error_y": {
             "color": "#2a3f5f"
            },
            "marker": {
             "line": {
              "color": "#E5ECF6",
              "width": 0.5
             }
            },
            "type": "bar"
           }
          ],
          "barpolar": [
           {
            "marker": {
             "line": {
              "color": "#E5ECF6",
              "width": 0.5
             }
            },
            "type": "barpolar"
           }
          ],
          "carpet": [
           {
            "aaxis": {
             "endlinecolor": "#2a3f5f",
             "gridcolor": "white",
             "linecolor": "white",
             "minorgridcolor": "white",
             "startlinecolor": "#2a3f5f"
            },
            "baxis": {
             "endlinecolor": "#2a3f5f",
             "gridcolor": "white",
             "linecolor": "white",
             "minorgridcolor": "white",
             "startlinecolor": "#2a3f5f"
            },
            "type": "carpet"
           }
          ],
          "choropleth": [
           {
            "colorbar": {
             "outlinewidth": 0,
             "ticks": ""
            },
            "type": "choropleth"
           }
          ],
          "contour": [
           {
            "colorbar": {
             "outlinewidth": 0,
             "ticks": ""
            },
            "colorscale": [
             [
              0,
              "#0d0887"
             ],
             [
              0.1111111111111111,
              "#46039f"
             ],
             [
              0.2222222222222222,
              "#7201a8"
             ],
             [
              0.3333333333333333,
              "#9c179e"
             ],
             [
              0.4444444444444444,
              "#bd3786"
             ],
             [
              0.5555555555555556,
              "#d8576b"
             ],
             [
              0.6666666666666666,
              "#ed7953"
             ],
             [
              0.7777777777777778,
              "#fb9f3a"
             ],
             [
              0.8888888888888888,
              "#fdca26"
             ],
             [
              1,
              "#f0f921"
             ]
            ],
            "type": "contour"
           }
          ],
          "contourcarpet": [
           {
            "colorbar": {
             "outlinewidth": 0,
             "ticks": ""
            },
            "type": "contourcarpet"
           }
          ],
          "heatmap": [
           {
            "colorbar": {
             "outlinewidth": 0,
             "ticks": ""
            },
            "colorscale": [
             [
              0,
              "#0d0887"
             ],
             [
              0.1111111111111111,
              "#46039f"
             ],
             [
              0.2222222222222222,
              "#7201a8"
             ],
             [
              0.3333333333333333,
              "#9c179e"
             ],
             [
              0.4444444444444444,
              "#bd3786"
             ],
             [
              0.5555555555555556,
              "#d8576b"
             ],
             [
              0.6666666666666666,
              "#ed7953"
             ],
             [
              0.7777777777777778,
              "#fb9f3a"
             ],
             [
              0.8888888888888888,
              "#fdca26"
             ],
             [
              1,
              "#f0f921"
             ]
            ],
            "type": "heatmap"
           }
          ],
          "heatmapgl": [
           {
            "colorbar": {
             "outlinewidth": 0,
             "ticks": ""
            },
            "colorscale": [
             [
              0,
              "#0d0887"
             ],
             [
              0.1111111111111111,
              "#46039f"
             ],
             [
              0.2222222222222222,
              "#7201a8"
             ],
             [
              0.3333333333333333,
              "#9c179e"
             ],
             [
              0.4444444444444444,
              "#bd3786"
             ],
             [
              0.5555555555555556,
              "#d8576b"
             ],
             [
              0.6666666666666666,
              "#ed7953"
             ],
             [
              0.7777777777777778,
              "#fb9f3a"
             ],
             [
              0.8888888888888888,
              "#fdca26"
             ],
             [
              1,
              "#f0f921"
             ]
            ],
            "type": "heatmapgl"
           }
          ],
          "histogram": [
           {
            "marker": {
             "colorbar": {
              "outlinewidth": 0,
              "ticks": ""
             }
            },
            "type": "histogram"
           }
          ],
          "histogram2d": [
           {
            "colorbar": {
             "outlinewidth": 0,
             "ticks": ""
            },
            "colorscale": [
             [
              0,
              "#0d0887"
             ],
             [
              0.1111111111111111,
              "#46039f"
             ],
             [
              0.2222222222222222,
              "#7201a8"
             ],
             [
              0.3333333333333333,
              "#9c179e"
             ],
             [
              0.4444444444444444,
              "#bd3786"
             ],
             [
              0.5555555555555556,
              "#d8576b"
             ],
             [
              0.6666666666666666,
              "#ed7953"
             ],
             [
              0.7777777777777778,
              "#fb9f3a"
             ],
             [
              0.8888888888888888,
              "#fdca26"
             ],
             [
              1,
              "#f0f921"
             ]
            ],
            "type": "histogram2d"
           }
          ],
          "histogram2dcontour": [
           {
            "colorbar": {
             "outlinewidth": 0,
             "ticks": ""
            },
            "colorscale": [
             [
              0,
              "#0d0887"
             ],
             [
              0.1111111111111111,
              "#46039f"
             ],
             [
              0.2222222222222222,
              "#7201a8"
             ],
             [
              0.3333333333333333,
              "#9c179e"
             ],
             [
              0.4444444444444444,
              "#bd3786"
             ],
             [
              0.5555555555555556,
              "#d8576b"
             ],
             [
              0.6666666666666666,
              "#ed7953"
             ],
             [
              0.7777777777777778,
              "#fb9f3a"
             ],
             [
              0.8888888888888888,
              "#fdca26"
             ],
             [
              1,
              "#f0f921"
             ]
            ],
            "type": "histogram2dcontour"
           }
          ],
          "mesh3d": [
           {
            "colorbar": {
             "outlinewidth": 0,
             "ticks": ""
            },
            "type": "mesh3d"
           }
          ],
          "parcoords": [
           {
            "line": {
             "colorbar": {
              "outlinewidth": 0,
              "ticks": ""
             }
            },
            "type": "parcoords"
           }
          ],
          "pie": [
           {
            "automargin": true,
            "type": "pie"
           }
          ],
          "scatter": [
           {
            "marker": {
             "colorbar": {
              "outlinewidth": 0,
              "ticks": ""
             }
            },
            "type": "scatter"
           }
          ],
          "scatter3d": [
           {
            "line": {
             "colorbar": {
              "outlinewidth": 0,
              "ticks": ""
             }
            },
            "marker": {
             "colorbar": {
              "outlinewidth": 0,
              "ticks": ""
             }
            },
            "type": "scatter3d"
           }
          ],
          "scattercarpet": [
           {
            "marker": {
             "colorbar": {
              "outlinewidth": 0,
              "ticks": ""
             }
            },
            "type": "scattercarpet"
           }
          ],
          "scattergeo": [
           {
            "marker": {
             "colorbar": {
              "outlinewidth": 0,
              "ticks": ""
             }
            },
            "type": "scattergeo"
           }
          ],
          "scattergl": [
           {
            "marker": {
             "colorbar": {
              "outlinewidth": 0,
              "ticks": ""
             }
            },
            "type": "scattergl"
           }
          ],
          "scattermapbox": [
           {
            "marker": {
             "colorbar": {
              "outlinewidth": 0,
              "ticks": ""
             }
            },
            "type": "scattermapbox"
           }
          ],
          "scatterpolar": [
           {
            "marker": {
             "colorbar": {
              "outlinewidth": 0,
              "ticks": ""
             }
            },
            "type": "scatterpolar"
           }
          ],
          "scatterpolargl": [
           {
            "marker": {
             "colorbar": {
              "outlinewidth": 0,
              "ticks": ""
             }
            },
            "type": "scatterpolargl"
           }
          ],
          "scatterternary": [
           {
            "marker": {
             "colorbar": {
              "outlinewidth": 0,
              "ticks": ""
             }
            },
            "type": "scatterternary"
           }
          ],
          "surface": [
           {
            "colorbar": {
             "outlinewidth": 0,
             "ticks": ""
            },
            "colorscale": [
             [
              0,
              "#0d0887"
             ],
             [
              0.1111111111111111,
              "#46039f"
             ],
             [
              0.2222222222222222,
              "#7201a8"
             ],
             [
              0.3333333333333333,
              "#9c179e"
             ],
             [
              0.4444444444444444,
              "#bd3786"
             ],
             [
              0.5555555555555556,
              "#d8576b"
             ],
             [
              0.6666666666666666,
              "#ed7953"
             ],
             [
              0.7777777777777778,
              "#fb9f3a"
             ],
             [
              0.8888888888888888,
              "#fdca26"
             ],
             [
              1,
              "#f0f921"
             ]
            ],
            "type": "surface"
           }
          ],
          "table": [
           {
            "cells": {
             "fill": {
              "color": "#EBF0F8"
             },
             "line": {
              "color": "white"
             }
            },
            "header": {
             "fill": {
              "color": "#C8D4E3"
             },
             "line": {
              "color": "white"
             }
            },
            "type": "table"
           }
          ]
         },
         "layout": {
          "annotationdefaults": {
           "arrowcolor": "#2a3f5f",
           "arrowhead": 0,
           "arrowwidth": 1
          },
          "coloraxis": {
           "colorbar": {
            "outlinewidth": 0,
            "ticks": ""
           }
          },
          "colorscale": {
           "diverging": [
            [
             0,
             "#8e0152"
            ],
            [
             0.1,
             "#c51b7d"
            ],
            [
             0.2,
             "#de77ae"
            ],
            [
             0.3,
             "#f1b6da"
            ],
            [
             0.4,
             "#fde0ef"
            ],
            [
             0.5,
             "#f7f7f7"
            ],
            [
             0.6,
             "#e6f5d0"
            ],
            [
             0.7,
             "#b8e186"
            ],
            [
             0.8,
             "#7fbc41"
            ],
            [
             0.9,
             "#4d9221"
            ],
            [
             1,
             "#276419"
            ]
           ],
           "sequential": [
            [
             0,
             "#0d0887"
            ],
            [
             0.1111111111111111,
             "#46039f"
            ],
            [
             0.2222222222222222,
             "#7201a8"
            ],
            [
             0.3333333333333333,
             "#9c179e"
            ],
            [
             0.4444444444444444,
             "#bd3786"
            ],
            [
             0.5555555555555556,
             "#d8576b"
            ],
            [
             0.6666666666666666,
             "#ed7953"
            ],
            [
             0.7777777777777778,
             "#fb9f3a"
            ],
            [
             0.8888888888888888,
             "#fdca26"
            ],
            [
             1,
             "#f0f921"
            ]
           ],
           "sequentialminus": [
            [
             0,
             "#0d0887"
            ],
            [
             0.1111111111111111,
             "#46039f"
            ],
            [
             0.2222222222222222,
             "#7201a8"
            ],
            [
             0.3333333333333333,
             "#9c179e"
            ],
            [
             0.4444444444444444,
             "#bd3786"
            ],
            [
             0.5555555555555556,
             "#d8576b"
            ],
            [
             0.6666666666666666,
             "#ed7953"
            ],
            [
             0.7777777777777778,
             "#fb9f3a"
            ],
            [
             0.8888888888888888,
             "#fdca26"
            ],
            [
             1,
             "#f0f921"
            ]
           ]
          },
          "colorway": [
           "#636efa",
           "#EF553B",
           "#00cc96",
           "#ab63fa",
           "#FFA15A",
           "#19d3f3",
           "#FF6692",
           "#B6E880",
           "#FF97FF",
           "#FECB52"
          ],
          "font": {
           "color": "#2a3f5f"
          },
          "geo": {
           "bgcolor": "white",
           "lakecolor": "white",
           "landcolor": "#E5ECF6",
           "showlakes": true,
           "showland": true,
           "subunitcolor": "white"
          },
          "hoverlabel": {
           "align": "left"
          },
          "hovermode": "closest",
          "mapbox": {
           "style": "light"
          },
          "paper_bgcolor": "white",
          "plot_bgcolor": "#E5ECF6",
          "polar": {
           "angularaxis": {
            "gridcolor": "white",
            "linecolor": "white",
            "ticks": ""
           },
           "bgcolor": "#E5ECF6",
           "radialaxis": {
            "gridcolor": "white",
            "linecolor": "white",
            "ticks": ""
           }
          },
          "scene": {
           "xaxis": {
            "backgroundcolor": "#E5ECF6",
            "gridcolor": "white",
            "gridwidth": 2,
            "linecolor": "white",
            "showbackground": true,
            "ticks": "",
            "zerolinecolor": "white"
           },
           "yaxis": {
            "backgroundcolor": "#E5ECF6",
            "gridcolor": "white",
            "gridwidth": 2,
            "linecolor": "white",
            "showbackground": true,
            "ticks": "",
            "zerolinecolor": "white"
           },
           "zaxis": {
            "backgroundcolor": "#E5ECF6",
            "gridcolor": "white",
            "gridwidth": 2,
            "linecolor": "white",
            "showbackground": true,
            "ticks": "",
            "zerolinecolor": "white"
           }
          },
          "shapedefaults": {
           "line": {
            "color": "#2a3f5f"
           }
          },
          "ternary": {
           "aaxis": {
            "gridcolor": "white",
            "linecolor": "white",
            "ticks": ""
           },
           "baxis": {
            "gridcolor": "white",
            "linecolor": "white",
            "ticks": ""
           },
           "bgcolor": "#E5ECF6",
           "caxis": {
            "gridcolor": "white",
            "linecolor": "white",
            "ticks": ""
           }
          },
          "title": {
           "x": 0.05
          },
          "xaxis": {
           "automargin": true,
           "gridcolor": "white",
           "linecolor": "white",
           "ticks": "",
           "title": {
            "standoff": 15
           },
           "zerolinecolor": "white",
           "zerolinewidth": 2
          },
          "yaxis": {
           "automargin": true,
           "gridcolor": "white",
           "linecolor": "white",
           "ticks": "",
           "title": {
            "standoff": 15
           },
           "zerolinecolor": "white",
           "zerolinewidth": 2
          }
         }
        },
        "title": {
         "text": "Analysis in Serum Creatinine on Survival Status"
        },
        "xaxis": {
         "anchor": "y2",
         "domain": [
          0,
          1
         ],
         "zeroline": false
        },
        "yaxis": {
         "anchor": "free",
         "domain": [
          0.35,
          1
         ],
         "position": 0
        },
        "yaxis2": {
         "anchor": "x",
         "domain": [
          0,
          0.25
         ],
         "dtick": 1,
         "showticklabels": false
        }
       }
      }
     },
     "metadata": {}
    }
   ],
   "source": [
    "surv = df[ df['DEATH_EVENT']==0 ]['serum_creatinine']\n",
    "die = df[ df['DEATH_EVENT']==1 ]['serum_creatinine']\n",
    "# data\n",
    "histo_data = [surv, die]\n",
    "# label\n",
    "grouplabels = ['Survived', 'Not Survived']\n",
    "                         # data         label\n",
    "fig = ff.create_distplot(histo_data, grouplabels, bin_size=0.5) # ,show_curve=False\n",
    "\n",
    "fig.update_layout(\n",
    "    title_text=\"Analysis in Serum Creatinine on Survival Status\" # title\n",
    ")\n",
    "\n",
    "fig"
   ]
  }
 ]
}