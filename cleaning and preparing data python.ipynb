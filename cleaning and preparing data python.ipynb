{
 "metadata": {
  "language_info": {
   "codemirror_mode": {
    "name": "ipython",
    "version": 3
   },
   "file_extension": ".py",
   "mimetype": "text/x-python",
   "name": "python",
   "nbconvert_exporter": "python",
   "pygments_lexer": "ipython3",
   "version": "3.8.6-candidate"
  },
  "orig_nbformat": 2,
  "kernelspec": {
   "name": "Python 3.8.6 64-bit",
   "display_name": "Python 3.8.6 64-bit",
   "metadata": {
    "interpreter": {
     "hash": "23a0b241a33537883b39067dbbeaffacf56379d0e0386bed5fb7b1dd24f284a0"
    }
   }
  }
 },
 "nbformat": 4,
 "nbformat_minor": 2,
 "cells": [
  {
   "cell_type": "code",
   "execution_count": 40,
   "metadata": {},
   "outputs": [],
   "source": [
    "import pandas as pd\n",
    "import numpy as np\n",
    "import csv"
   ]
  },
  {
   "cell_type": "code",
   "execution_count": 5,
   "metadata": {},
   "outputs": [
    {
     "output_type": "execute_result",
     "data": {
      "text/plain": [
       "(['Ruby', '2', 'Summer'],\n",
       " ['Emerald', '4', 'Fall'],\n",
       " ['Sapphire', '7', 'Winter'])"
      ]
     },
     "metadata": {},
     "execution_count": 5
    }
   ],
   "source": [
    "df1 = ([\"Ruby\", \"2\", \"Summer\"],\n",
    "[\"Emerald\", \"4\", \"Fall\"],\n",
    "[\"Sapphire\", \"7\", \"Winter\"])\n",
    "\n",
    "df1"
   ]
  },
  {
   "cell_type": "code",
   "execution_count": 6,
   "metadata": {},
   "outputs": [
    {
     "output_type": "execute_result",
     "data": {
      "text/plain": [
       "3"
      ]
     },
     "metadata": {},
     "execution_count": 6
    }
   ],
   "source": [
    "len(df1)"
   ]
  },
  {
   "cell_type": "code",
   "execution_count": 12,
   "metadata": {},
   "outputs": [
    {
     "output_type": "execute_result",
     "data": {
      "text/plain": [
       "(['Emerald', '4', 'Fall'],)"
      ]
     },
     "metadata": {},
     "execution_count": 12
    }
   ],
   "source": [
    "df1[1:2]"
   ]
  },
  {
   "cell_type": "code",
   "execution_count": 15,
   "metadata": {},
   "outputs": [
    {
     "output_type": "execute_result",
     "data": {
      "text/plain": [
       "'I am thirty-two years old'"
      ]
     },
     "metadata": {},
     "execution_count": 15
    }
   ],
   "source": [
    "age1 = \"I am thirty-one years old\"\n",
    "age2 = age1.replace('thirty-one', 'thirty-two')\n",
    "age2"
   ]
  },
  {
   "cell_type": "code",
   "execution_count": 10,
   "metadata": {},
   "outputs": [
    {
     "output_type": "execute_result",
     "data": {
      "text/plain": [
       "   Artwork ID                                              Title Artist ID  \\\n",
       "0           2  Ferdinandsbrücke Project, Vienna, Austria, Ele...      6210   \n",
       "1           3  City of Music, National Superior Conservatory ...      7470   \n",
       "2           4  Villa near Vienna Project, Outside Vienna, Aus...      7605   \n",
       "3           5  The Manhattan Transcripts Project, New York, N...      7056   \n",
       "4           6  Villa, project, outside Vienna, Austria, Exter...      7605   \n",
       "\n",
       "                       Name  Date  \\\n",
       "0               Otto Wagner  1896   \n",
       "1  Christian de Portzamparc  1987   \n",
       "2                Emil Hoppe  1903   \n",
       "3           Bernard Tschumi  1980   \n",
       "4                Emil Hoppe  1903   \n",
       "\n",
       "                                              Medium  \\\n",
       "0      Ink and cut-and-pasted painted pages on paper   \n",
       "1                  Paint and colored pencil on print   \n",
       "2  Graphite, pen, color pencil, ink, and gouache ...   \n",
       "3  Photographic reproduction with colored synthet...   \n",
       "4  Graphite, color pencil, ink, and gouache on tr...   \n",
       "\n",
       "                           Dimensions Acquisition Date  \\\n",
       "0  19 1/8 x 66 1/2\" (48.6 x 168.9 cm)       1996-04-09   \n",
       "1       16 x 11 3/4\" (40.6 x 29.8 cm)       1995-01-17   \n",
       "2   13 1/2 x 12 1/2\" (34.3 x 31.8 cm)       1997-01-15   \n",
       "3           20 x 20\" (50.8 x 50.8 cm)       1995-01-17   \n",
       "4    15 1/8 x 7 1/2\" (38.4 x 19.1 cm)       1997-01-15   \n",
       "\n",
       "                                              Credit Catalogue  ...  \\\n",
       "0  Fractional and promised gift of Jo Carole and ...         Y  ...   \n",
       "1  Gift of the architect in honor of Lily Auchinc...         Y  ...   \n",
       "2             Gift of Jo Carole and Ronald S. Lauder         Y  ...   \n",
       "3  Purchase and partial gift of the architect in ...         Y  ...   \n",
       "4             Gift of Jo Carole and Ronald S. Lauder         Y  ...   \n",
       "\n",
       "  Classification Object Number Diameter (cm)  Circumference (cm)  Height (cm)  \\\n",
       "0   Architecture      885.1996           NaN                 NaN      48.6000   \n",
       "1   Architecture        1.1995           NaN                 NaN      40.6401   \n",
       "2   Architecture        1.1997           NaN                 NaN      34.3000   \n",
       "3   Architecture        2.1995           NaN                 NaN      50.8000   \n",
       "4   Architecture        2.1997           NaN                 NaN      38.4000   \n",
       "\n",
       "   Length (cm)  Width (cm)  Depth (cm)  Weight (kg)  Duration (s)  \n",
       "0          NaN    168.9000         NaN          NaN           NaN  \n",
       "1          NaN     29.8451         NaN          NaN           NaN  \n",
       "2          NaN     31.8000         NaN          NaN           NaN  \n",
       "3          NaN     50.8000         NaN          NaN           NaN  \n",
       "4          NaN     19.1000         NaN          NaN           NaN  \n",
       "\n",
       "[5 rows x 21 columns]"
      ],
      "text/html": "<div>\n<style scoped>\n    .dataframe tbody tr th:only-of-type {\n        vertical-align: middle;\n    }\n\n    .dataframe tbody tr th {\n        vertical-align: top;\n    }\n\n    .dataframe thead th {\n        text-align: right;\n    }\n</style>\n<table border=\"1\" class=\"dataframe\">\n  <thead>\n    <tr style=\"text-align: right;\">\n      <th></th>\n      <th>Artwork ID</th>\n      <th>Title</th>\n      <th>Artist ID</th>\n      <th>Name</th>\n      <th>Date</th>\n      <th>Medium</th>\n      <th>Dimensions</th>\n      <th>Acquisition Date</th>\n      <th>Credit</th>\n      <th>Catalogue</th>\n      <th>...</th>\n      <th>Classification</th>\n      <th>Object Number</th>\n      <th>Diameter (cm)</th>\n      <th>Circumference (cm)</th>\n      <th>Height (cm)</th>\n      <th>Length (cm)</th>\n      <th>Width (cm)</th>\n      <th>Depth (cm)</th>\n      <th>Weight (kg)</th>\n      <th>Duration (s)</th>\n    </tr>\n  </thead>\n  <tbody>\n    <tr>\n      <th>0</th>\n      <td>2</td>\n      <td>Ferdinandsbrücke Project, Vienna, Austria, Ele...</td>\n      <td>6210</td>\n      <td>Otto Wagner</td>\n      <td>1896</td>\n      <td>Ink and cut-and-pasted painted pages on paper</td>\n      <td>19 1/8 x 66 1/2\" (48.6 x 168.9 cm)</td>\n      <td>1996-04-09</td>\n      <td>Fractional and promised gift of Jo Carole and ...</td>\n      <td>Y</td>\n      <td>...</td>\n      <td>Architecture</td>\n      <td>885.1996</td>\n      <td>NaN</td>\n      <td>NaN</td>\n      <td>48.6000</td>\n      <td>NaN</td>\n      <td>168.9000</td>\n      <td>NaN</td>\n      <td>NaN</td>\n      <td>NaN</td>\n    </tr>\n    <tr>\n      <th>1</th>\n      <td>3</td>\n      <td>City of Music, National Superior Conservatory ...</td>\n      <td>7470</td>\n      <td>Christian de Portzamparc</td>\n      <td>1987</td>\n      <td>Paint and colored pencil on print</td>\n      <td>16 x 11 3/4\" (40.6 x 29.8 cm)</td>\n      <td>1995-01-17</td>\n      <td>Gift of the architect in honor of Lily Auchinc...</td>\n      <td>Y</td>\n      <td>...</td>\n      <td>Architecture</td>\n      <td>1.1995</td>\n      <td>NaN</td>\n      <td>NaN</td>\n      <td>40.6401</td>\n      <td>NaN</td>\n      <td>29.8451</td>\n      <td>NaN</td>\n      <td>NaN</td>\n      <td>NaN</td>\n    </tr>\n    <tr>\n      <th>2</th>\n      <td>4</td>\n      <td>Villa near Vienna Project, Outside Vienna, Aus...</td>\n      <td>7605</td>\n      <td>Emil Hoppe</td>\n      <td>1903</td>\n      <td>Graphite, pen, color pencil, ink, and gouache ...</td>\n      <td>13 1/2 x 12 1/2\" (34.3 x 31.8 cm)</td>\n      <td>1997-01-15</td>\n      <td>Gift of Jo Carole and Ronald S. Lauder</td>\n      <td>Y</td>\n      <td>...</td>\n      <td>Architecture</td>\n      <td>1.1997</td>\n      <td>NaN</td>\n      <td>NaN</td>\n      <td>34.3000</td>\n      <td>NaN</td>\n      <td>31.8000</td>\n      <td>NaN</td>\n      <td>NaN</td>\n      <td>NaN</td>\n    </tr>\n    <tr>\n      <th>3</th>\n      <td>5</td>\n      <td>The Manhattan Transcripts Project, New York, N...</td>\n      <td>7056</td>\n      <td>Bernard Tschumi</td>\n      <td>1980</td>\n      <td>Photographic reproduction with colored synthet...</td>\n      <td>20 x 20\" (50.8 x 50.8 cm)</td>\n      <td>1995-01-17</td>\n      <td>Purchase and partial gift of the architect in ...</td>\n      <td>Y</td>\n      <td>...</td>\n      <td>Architecture</td>\n      <td>2.1995</td>\n      <td>NaN</td>\n      <td>NaN</td>\n      <td>50.8000</td>\n      <td>NaN</td>\n      <td>50.8000</td>\n      <td>NaN</td>\n      <td>NaN</td>\n      <td>NaN</td>\n    </tr>\n    <tr>\n      <th>4</th>\n      <td>6</td>\n      <td>Villa, project, outside Vienna, Austria, Exter...</td>\n      <td>7605</td>\n      <td>Emil Hoppe</td>\n      <td>1903</td>\n      <td>Graphite, color pencil, ink, and gouache on tr...</td>\n      <td>15 1/8 x 7 1/2\" (38.4 x 19.1 cm)</td>\n      <td>1997-01-15</td>\n      <td>Gift of Jo Carole and Ronald S. Lauder</td>\n      <td>Y</td>\n      <td>...</td>\n      <td>Architecture</td>\n      <td>2.1997</td>\n      <td>NaN</td>\n      <td>NaN</td>\n      <td>38.4000</td>\n      <td>NaN</td>\n      <td>19.1000</td>\n      <td>NaN</td>\n      <td>NaN</td>\n      <td>NaN</td>\n    </tr>\n  </tbody>\n</table>\n<p>5 rows × 21 columns</p>\n</div>"
     },
     "metadata": {},
     "execution_count": 10
    }
   ],
   "source": [
    "moma = pd.read_csv('moma_artworks.csv')\n",
    "moma.head()"
   ]
  },
  {
   "cell_type": "code",
   "execution_count": 11,
   "metadata": {},
   "outputs": [
    {
     "output_type": "execute_result",
     "data": {
      "text/plain": [
       "130262"
      ]
     },
     "metadata": {},
     "execution_count": 11
    }
   ],
   "source": [
    "len(moma)"
   ]
  },
  {
   "source": [
    "## string replace()"
   ],
   "cell_type": "markdown",
   "metadata": {}
  },
  {
   "cell_type": "code",
   "execution_count": 34,
   "metadata": {},
   "outputs": [
    {
     "output_type": "stream",
     "name": "stdout",
     "text": [
      "American\nSpanish\nFrench\n"
     ]
    }
   ],
   "source": [
    "nationalities = ['(American)', '(Spanish)', '(French)']\n",
    "\n",
    "for n in nationalities:\n",
    "    clean_open = n.replace(\"(\",\"\")\n",
    "    # add another replace\n",
    "    clean_both = clean_open.replace(\")\",\"\")\n",
    "    print(clean_both)"
   ]
  },
  {
   "cell_type": "code",
   "execution_count": 33,
   "metadata": {},
   "outputs": [
    {
     "output_type": "execute_result",
     "data": {
      "text/plain": [
       "   Artist ID             Name Nationality  Gender  Birth Year  Death Year\n",
       "0          1   Robert Arneson    American    Male      1930.0      1992.0\n",
       "1          2   Doroteo Arnaiz     Spanish    Male      1936.0         NaN\n",
       "2          3      Bill Arnold    American    Male      1941.0         NaN\n",
       "3          4  Charles Arnoldi    American    Male      1946.0         NaN\n",
       "4          5      Per Arnoldi      Danish    Male      1941.0         NaN\n",
       "5          6    Danilo Aroldi     Italian    Male      1925.0         NaN\n",
       "6          7        Bill Aron    American    Male      1941.0         NaN\n",
       "7          9    David Aronson    American    Male      1923.0         NaN\n",
       "8         10    Irene Aronson    American  Female      1918.0         NaN\n",
       "9         11  Jean (Hans) Arp      French    Male      1886.0      1966.0"
      ],
      "text/html": "<div>\n<style scoped>\n    .dataframe tbody tr th:only-of-type {\n        vertical-align: middle;\n    }\n\n    .dataframe tbody tr th {\n        vertical-align: top;\n    }\n\n    .dataframe thead th {\n        text-align: right;\n    }\n</style>\n<table border=\"1\" class=\"dataframe\">\n  <thead>\n    <tr style=\"text-align: right;\">\n      <th></th>\n      <th>Artist ID</th>\n      <th>Name</th>\n      <th>Nationality</th>\n      <th>Gender</th>\n      <th>Birth Year</th>\n      <th>Death Year</th>\n    </tr>\n  </thead>\n  <tbody>\n    <tr>\n      <th>0</th>\n      <td>1</td>\n      <td>Robert Arneson</td>\n      <td>American</td>\n      <td>Male</td>\n      <td>1930.0</td>\n      <td>1992.0</td>\n    </tr>\n    <tr>\n      <th>1</th>\n      <td>2</td>\n      <td>Doroteo Arnaiz</td>\n      <td>Spanish</td>\n      <td>Male</td>\n      <td>1936.0</td>\n      <td>NaN</td>\n    </tr>\n    <tr>\n      <th>2</th>\n      <td>3</td>\n      <td>Bill Arnold</td>\n      <td>American</td>\n      <td>Male</td>\n      <td>1941.0</td>\n      <td>NaN</td>\n    </tr>\n    <tr>\n      <th>3</th>\n      <td>4</td>\n      <td>Charles Arnoldi</td>\n      <td>American</td>\n      <td>Male</td>\n      <td>1946.0</td>\n      <td>NaN</td>\n    </tr>\n    <tr>\n      <th>4</th>\n      <td>5</td>\n      <td>Per Arnoldi</td>\n      <td>Danish</td>\n      <td>Male</td>\n      <td>1941.0</td>\n      <td>NaN</td>\n    </tr>\n    <tr>\n      <th>5</th>\n      <td>6</td>\n      <td>Danilo Aroldi</td>\n      <td>Italian</td>\n      <td>Male</td>\n      <td>1925.0</td>\n      <td>NaN</td>\n    </tr>\n    <tr>\n      <th>6</th>\n      <td>7</td>\n      <td>Bill Aron</td>\n      <td>American</td>\n      <td>Male</td>\n      <td>1941.0</td>\n      <td>NaN</td>\n    </tr>\n    <tr>\n      <th>7</th>\n      <td>9</td>\n      <td>David Aronson</td>\n      <td>American</td>\n      <td>Male</td>\n      <td>1923.0</td>\n      <td>NaN</td>\n    </tr>\n    <tr>\n      <th>8</th>\n      <td>10</td>\n      <td>Irene Aronson</td>\n      <td>American</td>\n      <td>Female</td>\n      <td>1918.0</td>\n      <td>NaN</td>\n    </tr>\n    <tr>\n      <th>9</th>\n      <td>11</td>\n      <td>Jean (Hans) Arp</td>\n      <td>French</td>\n      <td>Male</td>\n      <td>1886.0</td>\n      <td>1966.0</td>\n    </tr>\n  </tbody>\n</table>\n</div>"
     },
     "metadata": {},
     "execution_count": 33
    }
   ],
   "source": [
    "artists = pd.read_csv('artists.csv')\n",
    "artists.head(10)"
   ]
  },
  {
   "cell_type": "code",
   "execution_count": 32,
   "metadata": {},
   "outputs": [
    {
     "output_type": "execute_result",
     "data": {
      "text/plain": [
       "array(['Male', 'Female', nan, 'male'], dtype=object)"
      ]
     },
     "metadata": {},
     "execution_count": 32
    }
   ],
   "source": [
    "artists['Gender'].unique()"
   ]
  },
  {
   "cell_type": "code",
   "execution_count": 49,
   "metadata": {},
   "outputs": [
    {
     "output_type": "execute_result",
     "data": {
      "text/plain": [
       "array(['American', 'Spanish', 'Danish', 'Italian', 'French', 'Estonian',\n",
       "       'Mexican', 'Swedish', nan, 'Israeli', 'British', 'Finnish',\n",
       "       'Polish', 'Japanese', 'Guatemalan', 'Colombian', 'Romanian',\n",
       "       'Russian', 'German', 'Argentine', 'Kuwaiti', 'Various', 'Belgian',\n",
       "       'Dutch', 'Norwegian', 'Nationality unknown', 'Chilean', 'Swiss',\n",
       "       'Costa Rican', 'Czech', 'Brazilian', 'Austrian', 'Canadian',\n",
       "       'Australian', 'Ukrainian', 'Hungarian', 'Haitian', 'Congolese',\n",
       "       'Bolivian', 'Cuban', 'Yugoslav', 'Portuguese', 'Indian',\n",
       "       'Icelandic', 'Irish', 'Guyanese', 'Uruguayan', 'Slovak',\n",
       "       'Croatian', 'Greek', 'Peruvian', 'Chinese', 'Venezuelan',\n",
       "       'Turkish', 'Panamanian', 'Algerian', 'Ecuadorian', 'South African',\n",
       "       'Iranian', 'Korean', 'Canadian Inuit', 'Paraguayan',\n",
       "       'Luxembourgish', 'Nicaraguan', 'Zimbabwean', 'Moroccan',\n",
       "       'Tanzanian', 'Bulgarian', 'Tunisian', 'Sudanese', 'Taiwanese',\n",
       "       'Ethiopian', 'Slovenian', 'Scottish', 'Latvian',\n",
       "       'Nationality Unknown', 'Senegalese', 'Thai', 'Lithuanian',\n",
       "       'Pakistani', 'Bahamian', 'Bosnian', 'Malian', 'Czechoslovakian',\n",
       "       'Georgian', 'New Zealander', 'Egyptian', 'Kenyan', 'Emirati',\n",
       "       'Nigerian', 'Cypriot', 'Albanian', 'Azerbaijani', 'Ivorian',\n",
       "       'Malaysian', 'Singaporean', 'Serbian', 'Tajik', 'Namibian',\n",
       "       'Cambodian', 'Ghanaian', 'Afghan', 'Native American', 'Lebanese',\n",
       "       'Kyrgyzstani', 'Vietnamese', 'nationality unknown', 'Ugandan',\n",
       "       'Cameroonian', 'Welsh', 'Mauritanian', 'Palestinian', 'Syrian',\n",
       "       'Iraqi', 'Saudi Arabian', 'Kazakhstani', 'Rwandan', 'Indonesian',\n",
       "       'Burkinabe', 'Macedonian', 'Filipino', 'Mozambican', 'Angolan',\n",
       "       'Puerto Rican', 'Catalan', 'Sahrawi'], dtype=object)"
      ]
     },
     "metadata": {},
     "execution_count": 49
    }
   ],
   "source": [
    "artists['Nationality'].unique()"
   ]
  },
  {
   "source": [
    "## open(), reader()"
   ],
   "cell_type": "markdown",
   "metadata": {}
  },
  {
   "cell_type": "code",
   "execution_count": 46,
   "metadata": {},
   "outputs": [
    {
     "output_type": "execute_result",
     "data": {
      "text/plain": [
       "[['1', 'Robert Arneson', 'American', 'Male', '1930', '1992'],\n",
       " ['2', 'Doroteo Arnaiz', 'Spanish', 'Male', '1936', ''],\n",
       " ['3', 'Bill Arnold', 'American', 'Male', '1941', ''],\n",
       " ['4', 'Charles Arnoldi', 'American', 'Male', '1946', ''],\n",
       " ['5', 'Per Arnoldi', 'Danish', 'Male', '1941', ''],\n",
       " ['6', 'Danilo Aroldi', 'Italian', 'Male', '1925', ''],\n",
       " ['7', 'Bill Aron', 'American', 'Male', '1941', ''],\n",
       " ['9', 'David Aronson', 'American', 'Male', '1923', ''],\n",
       " ['10', 'Irene Aronson', 'American', 'Female', '1918', ''],\n",
       " ['11', 'Jean (Hans) Arp', 'French', 'Male', '1886', '1966']]"
      ]
     },
     "metadata": {},
     "execution_count": 46
    }
   ],
   "source": [
    "opened_file = open('artists.csv', encoding=\"utf8\")\n",
    "read_file = csv.reader(opened_file)\n",
    "artists2= list(read_file)\n",
    "artists3 = artists2[1:]\n",
    "artists3[:10] # removes column header names"
   ]
  },
  {
   "cell_type": "code",
   "execution_count": 48,
   "metadata": {},
   "outputs": [
    {
     "output_type": "execute_result",
     "data": {
      "text/plain": [
       "[['Artist ID', 'Name', 'Nationality', 'Gender', 'Birth Year', 'Death Year'],\n",
       " ['1', 'Robert Arneson', 'American', 'Male', '1930', '1992'],\n",
       " ['2', 'Doroteo Arnaiz', 'Spanish', 'Male', '1936', ''],\n",
       " ['3', 'Bill Arnold', 'American', 'Male', '1941', ''],\n",
       " ['4', 'Charles Arnoldi', 'American', 'Male', '1946', ''],\n",
       " ['5', 'Per Arnoldi', 'Danish', 'Male', '1941', ''],\n",
       " ['6', 'Danilo Aroldi', 'Italian', 'Male', '1925', ''],\n",
       " ['7', 'Bill Aron', 'American', 'Male', '1941', ''],\n",
       " ['9', 'David Aronson', 'American', 'Male', '1923', ''],\n",
       " ['10', 'Irene Aronson', 'American', 'Female', '1918', '']]"
      ]
     },
     "metadata": {},
     "execution_count": 48
    }
   ],
   "source": [
    "artists2[:10] # includes column header names"
   ]
  },
  {
   "source": [
    "## title()"
   ],
   "cell_type": "markdown",
   "metadata": {}
  },
  {
   "cell_type": "code",
   "execution_count": 50,
   "metadata": {},
   "outputs": [],
   "source": [
    "for row in artists3:\n",
    "    gender = row[3]\n",
    "    # convert the gender to title case\n",
    "    gender = gender.title()\n",
    "# if there is no gender, set a descriptive value\n",
    "    if not gender:\n",
    "        gender = \"Gender Unknown/Other\"\n",
    "    row[3] = gender"
   ]
  },
  {
   "cell_type": "code",
   "execution_count": 54,
   "metadata": {},
   "outputs": [
    {
     "output_type": "execute_result",
     "data": {
      "text/plain": [
       "[['114', 'James Alinder', 'American', 'Male', '1941', ''],\n",
       " ['115', 'Yves Alix', 'French', 'Male', '1890', '1969'],\n",
       " ['116', 'Wobbe Alkema', 'Dutch', 'Male', '1900', '1984'],\n",
       " ['117', 'William Allan', 'American', 'Male', '1936', ''],\n",
       " ['118', 'Alexander Alland', 'American', 'Male', '1902', '1989'],\n",
       " ['119', 'Harry Allen', 'American', 'Male', '1964', ''],\n",
       " ['120', 'Terry Allen', 'American', 'Male', '1943', ''],\n",
       " ['121', 'Adrian Allinson', 'British', 'Male', '1890', '1959'],\n",
       " ['123', 'Carlos Alonso', 'Argentine', 'Male', '1929', ''],\n",
       " ['124', 'Glen Alps', 'American', 'Male', '1914', '1996']]"
      ]
     },
     "metadata": {},
     "execution_count": 54
    }
   ],
   "source": [
    "artists3[100:110]"
   ]
  },
  {
   "cell_type": "code",
   "execution_count": 56,
   "metadata": {},
   "outputs": [
    {
     "output_type": "stream",
     "name": "stdout",
     "text": [
      "['1925', '']\n['1941', '']\n['1923', '']\n['1918', '']\n['1886', '1966']\n['1936', '']\n['1911', '1995']\n['1907', '1997']\n['1900', '1964']\n['', '']\n"
     ]
    }
   ],
   "source": [
    "for row in artists3[5:15]: # see rows 5 to 14\n",
    "    birth_date = row[4]\n",
    "    death_date = row[5]\n",
    "    print([birth_date, death_date])"
   ]
  },
  {
   "source": [],
   "cell_type": "markdown",
   "metadata": {}
  },
  {
   "source": [
    "### function to remove brackets ()"
   ],
   "cell_type": "markdown",
   "metadata": {}
  },
  {
   "cell_type": "code",
   "execution_count": null,
   "metadata": {},
   "outputs": [],
   "source": [
    "# ValueError: invalid literal for int() with base 10: ''\n",
    "# This is Python saying \"You asked me to convert the string '' to an int type. I tried to do that, but I couldn't, because I don't know how to represent an empty string as an integer.\"\n",
    "# (1972) ==> 1972\n",
    "def clean_and_convert(date):\n",
    "    # check that we don't have an empty string\n",
    "    if date != \"\":\n",
    "        # move the rest of the function inside\n",
    "        # the if statement\n",
    "        date = date.replace(\"(\", \"\")\n",
    "        date = date.replace(\")\", \"\")\n",
    "        date = int(date) \n",
    "    return date\n",
    "\n",
    "\n",
    "for row in moma:\n",
    "    birth_date = row[3]\n",
    "    death_date = row[4]\n",
    "    \n",
    "    birth_date = clean_and_convert(birth_date)\n",
    "    death_date = clean_and_convert(death_date)\n",
    "    \n",
    "    row[3] = birth_date\n",
    "    row[4] = death_date"
   ]
  },
  {
   "source": [],
   "cell_type": "markdown",
   "metadata": {}
  },
  {
   "source": [],
   "cell_type": "markdown",
   "metadata": {}
  },
  {
   "cell_type": "code",
   "execution_count": 60,
   "metadata": {},
   "outputs": [],
   "source": [
    "strings = [\"good!\", \"morn?ing\", \"good?!\", \"morniZZZZng\"]\n",
    "bad_chars = [\"!\", \"?\", \"Z\"]"
   ]
  },
  {
   "cell_type": "code",
   "execution_count": 61,
   "metadata": {},
   "outputs": [],
   "source": [
    "def strip_characters(string):\n",
    "    for char in bad_chars:\n",
    "        string = string.replace(char,\"\")\n",
    "    return string"
   ]
  },
  {
   "cell_type": "code",
   "execution_count": 62,
   "metadata": {},
   "outputs": [
    {
     "output_type": "stream",
     "name": "stdout",
     "text": [
      "['good', 'morning', 'good', 'morning']\n"
     ]
    }
   ],
   "source": [
    "cleaned_strings = []\n",
    "for s in strings:\n",
    "    s = strip_characters(s) # go through the 'strip_characters()' function\n",
    "    cleaned_strings.append(s)\n",
    "\n",
    "print(cleaned_strings)"
   ]
  },
  {
   "source": [],
   "cell_type": "markdown",
   "metadata": {}
  },
  {
   "cell_type": "code",
   "execution_count": 63,
   "metadata": {},
   "outputs": [],
   "source": [
    "test_data = [\"1912\", \"1929\", \"1913-1923\",\n",
    "             \"(1951)\", \"1994\", \"1934\",\n",
    "             \"c. 1915\", \"1995\", \"c. 1912\",\n",
    "             \"(1988)\", \"2002\", \"1957-1959\",\n",
    "             \"c. 1955.\", \"c. 1970's\", \n",
    "             \"C. 1990-1999\"]\n",
    "\n",
    "bad_chars = [\"(\",\")\",\"c\",\"C\",\".\",\"s\",\"'\", \" \"]"
   ]
  },
  {
   "cell_type": "code",
   "execution_count": 64,
   "metadata": {},
   "outputs": [],
   "source": [
    "def strip_characters(string):\n",
    "    for char in bad_chars:\n",
    "        string = string.replace(char,\"\")\n",
    "    return string"
   ]
  },
  {
   "cell_type": "code",
   "execution_count": 65,
   "metadata": {},
   "outputs": [
    {
     "output_type": "stream",
     "name": "stdout",
     "text": [
      "['1912', '1929', '1913-1923', '1951', '1994', '1934', '1915', '1995', '1912', '1988', '2002', '1957-1959', '1955', '1970', '1990-1999']\n"
     ]
    }
   ],
   "source": [
    "stripped_test_data=[]\n",
    "for t in test_data:\n",
    "    t = strip_characters(t) # go through the 'strip_characters()' function\n",
    "    stripped_test_data.append(t)\n",
    " \n",
    "print(stripped_test_data) # <<<<<<<<<<<<<"
   ]
  },
  {
   "cell_type": "code",
   "execution_count": null,
   "metadata": {},
   "outputs": [],
   "source": [
    "def process_date(date): # function to split range of date \n",
    "    if '-' in date:\n",
    "        split_date = date.split(\"-\")\n",
    "        date_one = split_date[0]\n",
    "        date_two = split_date[1]\n",
    "        date = (int(date_one) + int(date_two))/2 # average of 2 dates\n",
    "        date = round(date) # round to nearest whole number/integer\n",
    "    else:\n",
    "        date = int(date)\n",
    "    return date"
   ]
  },
  {
   "cell_type": "code",
   "execution_count": null,
   "metadata": {},
   "outputs": [],
   "source": [
    "processed_test_data=[]\n",
    "\n",
    "for d in stripped_test_data: # <<<<<<<<<<<<<\n",
    "    date = process_date(d)\n",
    "    processed_test_data.append(date) # append to empty list all dates (no date ranges '1957-1959')\n",
    "\"\"\"\n",
    "for row in moma:\n",
    "    date = row[6]\n",
    "    date = strip_characters(date) # remove characters\n",
    "    date = process_date(date)     # remove date ranges\n",
    "    row[6] = date\n",
    "\"\"\""
   ]
  },
  {
   "source": [
    "## in operator"
   ],
   "cell_type": "markdown",
   "metadata": {}
  },
  {
   "cell_type": "code",
   "execution_count": 66,
   "metadata": {},
   "outputs": [
    {
     "output_type": "stream",
     "name": "stdout",
     "text": [
      "The substring was found.\n"
     ]
    }
   ],
   "source": [
    "if \"car\" in \"carpet\":\n",
    "    print(\"The substring was found.\")\n",
    "else:\n",
    "    print(\"The substring was not found.\")"
   ]
  },
  {
   "cell_type": "code",
   "execution_count": 67,
   "metadata": {},
   "outputs": [
    {
     "output_type": "stream",
     "name": "stdout",
     "text": [
      "The substring was not found.\n"
     ]
    }
   ],
   "source": [
    "if \"mike\" in \"michael\":\n",
    "    print(\"The substring was found.\")\n",
    "else:\n",
    "    print(\"The substring was not found.\")"
   ]
  },
  {
   "cell_type": "code",
   "execution_count": 68,
   "metadata": {},
   "outputs": [
    {
     "output_type": "stream",
     "name": "stdout",
     "text": [
      "['1991', '1993']\n"
     ]
    }
   ],
   "source": [
    "three_peat = \"1991-1993\"\n",
    "print(three_peat.split(\"-\"))"
   ]
  }
 ]
}